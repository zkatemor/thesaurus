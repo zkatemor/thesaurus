{
  "nbformat": 4,
  "nbformat_minor": 0,
  "metadata": {
    "colab": {
      "name": "bayes_knn.ipynb",
      "provenance": [],
      "include_colab_link": true
    },
    "kernelspec": {
      "name": "python3",
      "display_name": "Python 3"
    }
  },
  "cells": [
    {
      "cell_type": "markdown",
      "metadata": {
        "id": "view-in-github",
        "colab_type": "text"
      },
      "source": [
        "<a href=\"https://colab.research.google.com/github/zkatemor/thesaurus/blob/word2vec_keras_sample/bayes_knn.ipynb\" target=\"_parent\"><img src=\"https://colab.research.google.com/assets/colab-badge.svg\" alt=\"Open In Colab\"/></a>"
      ]
    },
    {
      "cell_type": "markdown",
      "metadata": {
        "id": "vJRoYBoVTvDb",
        "colab_type": "text"
      },
      "source": [
        "# Классификация по размеченным данным из RuSentiLex с помощью Наивного Байеса и KNN"
      ]
    },
    {
      "cell_type": "code",
      "metadata": {
        "id": "ZJR0LtJiycTL",
        "colab_type": "code",
        "outputId": "dbd80f2d-7146-4408-f5ba-ce8fa308464b",
        "colab": {
          "base_uri": "https://localhost:8080/",
          "height": 34
        }
      },
      "source": [
        "from google.colab import drive\n",
        "drive.mount('/content/drive')"
      ],
      "execution_count": 209,
      "outputs": [
        {
          "output_type": "stream",
          "text": [
            "Drive already mounted at /content/drive; to attempt to forcibly remount, call drive.mount(\"/content/drive\", force_remount=True).\n"
          ],
          "name": "stdout"
        }
      ]
    },
    {
      "cell_type": "code",
      "metadata": {
        "id": "xMw_W5NB9n2K",
        "colab_type": "code",
        "colab": {}
      },
      "source": [
        "\n",
        "import pandas as pd\n",
        "import sklearn\n",
        "import matplotlib.pyplot as plt\n",
        "from sklearn.feature_extraction.text import TfidfVectorizer\n",
        "from sklearn.model_selection import train_test_split\n",
        "from sklearn.naive_bayes import MultinomialNB\n",
        "from sklearn.preprocessing import LabelEncoder\n",
        "from sklearn.metrics import confusion_matrix\n",
        "from sklearn.metrics import auc,roc_curve,classification_report\n",
        "import seaborn as sns\n",
        "from sklearn.pipeline import Pipeline\n",
        "import re\n",
        "from sklearn.model_selection import GridSearchCV\n",
        "from sklearn.neighbors import KNeighborsClassifier"
      ],
      "execution_count": 0,
      "outputs": []
    },
    {
      "cell_type": "code",
      "metadata": {
        "id": "mvN5qvy29v4o",
        "colab_type": "code",
        "colab": {}
      },
      "source": [
        "df = pd.read_csv('drive/My Drive/coursework/rusentilex.csv')"
      ],
      "execution_count": 0,
      "outputs": []
    },
    {
      "cell_type": "code",
      "metadata": {
        "id": "d6p0jvGw91bV",
        "colab_type": "code",
        "outputId": "43168ebd-2f2c-41cc-fd8c-fb9667293866",
        "colab": {
          "base_uri": "https://localhost:8080/",
          "height": 136
        }
      },
      "source": [
        "df.head(3)"
      ],
      "execution_count": 212,
      "outputs": [
        {
          "output_type": "execute_result",
          "data": {
            "text/html": [
              "<div>\n",
              "<style scoped>\n",
              "    .dataframe tbody tr th:only-of-type {\n",
              "        vertical-align: middle;\n",
              "    }\n",
              "\n",
              "    .dataframe tbody tr th {\n",
              "        vertical-align: top;\n",
              "    }\n",
              "\n",
              "    .dataframe thead th {\n",
              "        text-align: right;\n",
              "    }\n",
              "</style>\n",
              "<table border=\"1\" class=\"dataframe\">\n",
              "  <thead>\n",
              "    <tr style=\"text-align: right;\">\n",
              "      <th></th>\n",
              "      <th>term</th>\n",
              "      <th>tone</th>\n",
              "    </tr>\n",
              "  </thead>\n",
              "  <tbody>\n",
              "    <tr>\n",
              "      <th>0</th>\n",
              "      <td>остепеняться</td>\n",
              "      <td>positive</td>\n",
              "    </tr>\n",
              "    <tr>\n",
              "      <th>1</th>\n",
              "      <td>трудолюбивый</td>\n",
              "      <td>positive</td>\n",
              "    </tr>\n",
              "    <tr>\n",
              "      <th>2</th>\n",
              "      <td>беспалевный</td>\n",
              "      <td>positive</td>\n",
              "    </tr>\n",
              "  </tbody>\n",
              "</table>\n",
              "</div>"
            ],
            "text/plain": [
              "           term      tone\n",
              "0  остепеняться  positive\n",
              "1  трудолюбивый  positive\n",
              "2   беспалевный  positive"
            ]
          },
          "metadata": {
            "tags": []
          },
          "execution_count": 212
        }
      ]
    },
    {
      "cell_type": "code",
      "metadata": {
        "id": "-ZDMVSBr939l",
        "colab_type": "code",
        "colab": {}
      },
      "source": [
        "list_category = df['tone'].unique().tolist()"
      ],
      "execution_count": 0,
      "outputs": []
    },
    {
      "cell_type": "markdown",
      "metadata": {
        "id": "dS0hBLntT7eC",
        "colab_type": "text"
      },
      "source": [
        "Перемешивание данных"
      ]
    },
    {
      "cell_type": "code",
      "metadata": {
        "id": "QA4GN1h-LrNM",
        "colab_type": "code",
        "colab": {}
      },
      "source": [
        "df = sklearn.utils.shuffle(df)"
      ],
      "execution_count": 0,
      "outputs": []
    },
    {
      "cell_type": "code",
      "metadata": {
        "id": "Cu_tRWdhPS0w",
        "colab_type": "code",
        "colab": {
          "base_uri": "https://localhost:8080/",
          "height": 136
        },
        "outputId": "0fb8640c-8779-47a9-a21f-85738b65e842"
      },
      "source": [
        "df.head(3)"
      ],
      "execution_count": 231,
      "outputs": [
        {
          "output_type": "execute_result",
          "data": {
            "text/html": [
              "<div>\n",
              "<style scoped>\n",
              "    .dataframe tbody tr th:only-of-type {\n",
              "        vertical-align: middle;\n",
              "    }\n",
              "\n",
              "    .dataframe tbody tr th {\n",
              "        vertical-align: top;\n",
              "    }\n",
              "\n",
              "    .dataframe thead th {\n",
              "        text-align: right;\n",
              "    }\n",
              "</style>\n",
              "<table border=\"1\" class=\"dataframe\">\n",
              "  <thead>\n",
              "    <tr style=\"text-align: right;\">\n",
              "      <th></th>\n",
              "      <th>term</th>\n",
              "      <th>tone</th>\n",
              "    </tr>\n",
              "  </thead>\n",
              "  <tbody>\n",
              "    <tr>\n",
              "      <th>691</th>\n",
              "      <td>чародейка</td>\n",
              "      <td>positive</td>\n",
              "    </tr>\n",
              "    <tr>\n",
              "      <th>2730</th>\n",
              "      <td>встряхиваться</td>\n",
              "      <td>positive</td>\n",
              "    </tr>\n",
              "    <tr>\n",
              "      <th>2579</th>\n",
              "      <td>потеплеть</td>\n",
              "      <td>positive</td>\n",
              "    </tr>\n",
              "  </tbody>\n",
              "</table>\n",
              "</div>"
            ],
            "text/plain": [
              "               term      tone\n",
              "691       чародейка  positive\n",
              "2730  встряхиваться  positive\n",
              "2579      потеплеть  positive"
            ]
          },
          "metadata": {
            "tags": []
          },
          "execution_count": 231
        }
      ]
    },
    {
      "cell_type": "markdown",
      "metadata": {
        "id": "8qcGLugrT-mL",
        "colab_type": "text"
      },
      "source": [
        "Визуализация данных"
      ]
    },
    {
      "cell_type": "code",
      "metadata": {
        "id": "rD99lyNC-EGQ",
        "colab_type": "code",
        "outputId": "babbbb2b-9e5c-4abd-f343-45bc249ac671",
        "colab": {
          "base_uri": "https://localhost:8080/",
          "height": 303
        }
      },
      "source": [
        "df['tone'].value_counts().plot(kind = 'pie',figsize = (5, 5), autopct = '%1.1f%%', shadow = True)\n",
        "plt.legend(list_category)\n",
        "plt.show()"
      ],
      "execution_count": 215,
      "outputs": [
        {
          "output_type": "display_data",
          "data": {
            "image/png": "[encoded data removed]",
            "text/plain": [
              "<Figure size 360x360 with 1 Axes>"
            ]
          },
          "metadata": {
            "tags": []
          }
        }
      ]
    },
    {
      "cell_type": "markdown",
      "metadata": {
        "id": "H3tVOdXRUBGu",
        "colab_type": "text"
      },
      "source": [
        "Разделение на тестовую и обучающую"
      ]
    },
    {
      "cell_type": "code",
      "metadata": {
        "id": "Botg5EmE-Mde",
        "colab_type": "code",
        "colab": {}
      },
      "source": [
        "train, test = train_test_split(df,random_state = 0,stratify = df['tone'],test_size = 0.3)"
      ],
      "execution_count": 0,
      "outputs": []
    },
    {
      "cell_type": "code",
      "metadata": {
        "id": "KwXnnUlM-Tmf",
        "colab_type": "code",
        "outputId": "5340c057-ee48-4e31-bcd7-dc03a72a81f6",
        "colab": {
          "base_uri": "https://localhost:8080/",
          "height": 52
        }
      },
      "source": [
        "print(\"Train data shape = {} \".format(train.shape))\n",
        "print(\"Test data shape = {}\".format(test.shape))"
      ],
      "execution_count": 217,
      "outputs": [
        {
          "output_type": "stream",
          "text": [
            "Train data shape = (7467, 2) \n",
            "Test data shape = (3201, 2)\n"
          ],
          "name": "stdout"
        }
      ]
    },
    {
      "cell_type": "code",
      "metadata": {
        "id": "VIQaVX03-WiY",
        "colab_type": "code",
        "outputId": "025c196d-579e-45ab-9226-7edcb0edb5a9",
        "colab": {
          "base_uri": "https://localhost:8080/",
          "height": 409
        }
      },
      "source": [
        "train[\"tone\"].value_counts().plot(kind = 'pie',figsize = (5, 5), autopct = '%1.1f%%', shadow = True)\n",
        "plt.legend(list_category)\n",
        "print(train.head())\n",
        "plt.show()"
      ],
      "execution_count": 218,
      "outputs": [
        {
          "output_type": "stream",
          "text": [
            "                  term      tone\n",
            "10327    краснобайство  negative\n",
            "5044        монополист  negative\n",
            "5305   попустительство  negative\n",
            "976           ободрить  positive\n",
            "8726         оборванец  negative\n"
          ],
          "name": "stdout"
        },
        {
          "output_type": "display_data",
          "data": {
            "image/png": "[encoded data removed]",
            "text/plain": [
              "<Figure size 360x360 with 1 Axes>"
            ]
          },
          "metadata": {
            "tags": []
          }
        }
      ]
    },
    {
      "cell_type": "code",
      "metadata": {
        "id": "GQAJiXau-eUe",
        "colab_type": "code",
        "outputId": "4eaa7777-d4e0-4408-d50f-11d03262feaf",
        "colab": {
          "base_uri": "https://localhost:8080/",
          "height": 409
        }
      },
      "source": [
        "test[\"tone\"].value_counts().plot(kind = 'pie',figsize = (5, 5), autopct = '%1.1f%%', shadow = True)\n",
        "print(test.head())\n",
        "plt.legend(list_category)\n",
        "plt.show()"
      ],
      "execution_count": 219,
      "outputs": [
        {
          "output_type": "stream",
          "text": [
            "                   term      tone\n",
            "1735   первостатейность  positive\n",
            "4452            сексизм  negative\n",
            "3644           обкурить  negative\n",
            "10126        кровопийца  negative\n",
            "394    беспроигрышность  positive\n"
          ],
          "name": "stdout"
        },
        {
          "output_type": "display_data",
          "data": {
            "image/png": "[encoded data removed]",
            "text/plain": [
              "<Figure size 360x360 with 1 Axes>"
            ]
          },
          "metadata": {
            "tags": []
          }
        }
      ]
    },
    {
      "cell_type": "markdown",
      "metadata": {
        "id": "b4iSedDEUH1w",
        "colab_type": "text"
      },
      "source": [
        "Небольшая предобработка"
      ]
    },
    {
      "cell_type": "code",
      "metadata": {
        "id": "8sHOg-PH-jvC",
        "colab_type": "code",
        "colab": {}
      },
      "source": [
        "def preprocess(sms):\n",
        "  pattern = re.compile('[^[А-Яa-яЁё\\s]')\n",
        "  sms = re.sub(pattern,' ',sms)\n",
        "  sms = re.sub('\\s+',' ',sms)\n",
        "  sms = sms.lower()\n",
        "  return sms"
      ],
      "execution_count": 0,
      "outputs": []
    },
    {
      "cell_type": "markdown",
      "metadata": {
        "id": "x1DZgpGRUJ-T",
        "colab_type": "text"
      },
      "source": [
        "Из слова в вектор с помощью TF-IDF"
      ]
    },
    {
      "cell_type": "code",
      "metadata": {
        "id": "eceQmxXN-vx-",
        "colab_type": "code",
        "colab": {}
      },
      "source": [
        "encoder = LabelEncoder()\n",
        "vectorizer  = TfidfVectorizer()\n",
        "\n",
        "train_x = vectorizer.fit_transform(train['term'])\n",
        "train_y = encoder.fit_transform(train['tone'])"
      ],
      "execution_count": 0,
      "outputs": []
    },
    {
      "cell_type": "markdown",
      "metadata": {
        "id": "M2NW9XIRUO_a",
        "colab_type": "text"
      },
      "source": [
        "Обучение с помощью наивной бейесовской фильтрации"
      ]
    },
    {
      "cell_type": "code",
      "metadata": {
        "id": "x9-sQiYo-3cO",
        "colab_type": "code",
        "outputId": "7267c07e-ff24-4872-f783-068a796ce5de",
        "colab": {
          "base_uri": "https://localhost:8080/",
          "height": 158
        }
      },
      "source": [
        "param_grid = dict({\"alpha\":[1,10,50,100,150,200],\n",
        "                   'fit_prior' :[True,False]})\n",
        "grid = GridSearchCV(MultinomialNB(), param_grid, cv=10)\n",
        "grid.fit(train_x, train_y)"
      ],
      "execution_count": 242,
      "outputs": [
        {
          "output_type": "execute_result",
          "data": {
            "text/plain": [
              "GridSearchCV(cv=10, error_score='raise-deprecating',\n",
              "             estimator=MultinomialNB(alpha=1.0, class_prior=None,\n",
              "                                     fit_prior=True),\n",
              "             iid='warn', n_jobs=None,\n",
              "             param_grid={'alpha': [1, 10, 50, 100, 150, 200],\n",
              "                         'fit_prior': [True, False]},\n",
              "             pre_dispatch='2*n_jobs', refit=True, return_train_score=False,\n",
              "             scoring=None, verbose=0)"
            ]
          },
          "metadata": {
            "tags": []
          },
          "execution_count": 242
        }
      ]
    },
    {
      "cell_type": "code",
      "metadata": {
        "id": "5prC_43DKCXG",
        "colab_type": "code",
        "colab": {}
      },
      "source": [
        "from sklearn.metrics import f1_score"
      ],
      "execution_count": 0,
      "outputs": []
    },
    {
      "cell_type": "code",
      "metadata": {
        "id": "Dkzu4B15-4wF",
        "colab_type": "code",
        "colab": {}
      },
      "source": [
        "def scoring_data(grid, data):\n",
        "  x = vectorizer.transform(data['term'])\n",
        "  y = encoder.transform(data['tone'])\n",
        "  score = grid.score(x, y)\n",
        "  print(\"Accuracy of Model is {}\".format(score))\n",
        "  y_pred = grid.predict(x)\n",
        "  confution_matrix = pd.crosstab(y_pred, y, rownames = ['actual'], colnames = ['prediction'])\n",
        "  print(classification_report(y, y_pred=y_pred))\n",
        "  sns.heatmap(confution_matrix, annot=True, cmap = 'Greens', xticklabels=list_category, yticklabels=list_category)"
      ],
      "execution_count": 0,
      "outputs": []
    },
    {
      "cell_type": "markdown",
      "metadata": {
        "id": "dI-xkwmdUVC5",
        "colab_type": "text"
      },
      "source": [
        "Обучилось с точностью 67 процентов, матрицу ошибок нужно поправить"
      ]
    },
    {
      "cell_type": "code",
      "metadata": {
        "id": "mKF6C21t-_ks",
        "colab_type": "code",
        "outputId": "0371e001-8319-45d5-b9c3-2be325cb53f2",
        "colab": {
          "base_uri": "https://localhost:8080/",
          "height": 482
        }
      },
      "source": [
        "scoring_data(grid,test)"
      ],
      "execution_count": 244,
      "outputs": [
        {
          "output_type": "stream",
          "text": [
            "Accuracy of Model is 0.6701030927835051\n",
            "              precision    recall  f1-score   support\n",
            "\n",
            "           0       0.67      1.00      0.80      2145\n",
            "           1       0.00      0.00      0.00       224\n",
            "           2       0.33      0.00      0.00       832\n",
            "\n",
            "    accuracy                           0.67      3201\n",
            "   macro avg       0.33      0.33      0.27      3201\n",
            "weighted avg       0.54      0.67      0.54      3201\n",
            "\n"
          ],
          "name": "stdout"
        },
        {
          "output_type": "display_data",
          "data": {
            "image/png": "[encoded data removed]",
            "text/plain": [
              "<Figure size 432x288 with 2 Axes>"
            ]
          },
          "metadata": {
            "tags": []
          }
        }
      ]
    },
    {
      "cell_type": "markdown",
      "metadata": {
        "id": "Hx7a2EMVUc-c",
        "colab_type": "text"
      },
      "source": [
        "Обучение с помощью k-ближайших соседей"
      ]
    },
    {
      "cell_type": "code",
      "metadata": {
        "id": "OZ6rS2xw_FFJ",
        "colab_type": "code",
        "outputId": "2250cd73-b096-47a9-db4d-7703ea806b78",
        "colab": {
          "base_uri": "https://localhost:8080/",
          "height": 175
        }
      },
      "source": [
        "knn_param_grid =dict({'n_neighbors':[3,6,8,10]})\n",
        "knn_grid = GridSearchCV(KNeighborsClassifier(),cv = 5, param_grid=knn_param_grid) \n",
        "knn_grid.fit(train_x,train_y)"
      ],
      "execution_count": 237,
      "outputs": [
        {
          "output_type": "execute_result",
          "data": {
            "text/plain": [
              "GridSearchCV(cv=5, error_score='raise-deprecating',\n",
              "             estimator=KNeighborsClassifier(algorithm='auto', leaf_size=30,\n",
              "                                            metric='minkowski',\n",
              "                                            metric_params=None, n_jobs=None,\n",
              "                                            n_neighbors=5, p=2,\n",
              "                                            weights='uniform'),\n",
              "             iid='warn', n_jobs=None, param_grid={'n_neighbors': [3, 6, 8, 10]},\n",
              "             pre_dispatch='2*n_jobs', refit=True, return_train_score=False,\n",
              "             scoring=None, verbose=0)"
            ]
          },
          "metadata": {
            "tags": []
          },
          "execution_count": 237
        }
      ]
    },
    {
      "cell_type": "code",
      "metadata": {
        "id": "wYqj1k7n_a-e",
        "colab_type": "code",
        "outputId": "59500495-120b-4a31-ba3b-585b95fde2af",
        "colab": {
          "base_uri": "https://localhost:8080/",
          "height": 330
        }
      },
      "source": [
        "print(knn_grid.best_params_)\n",
        "score = knn_grid.cv_results_\n",
        "neighbours = knn_param_grid['n_neighbors']\n",
        "mean_score = score['mean_test_score']\n",
        "plt.plot(neighbours,mean_score)\n",
        "plt.xlabel('Neighbours')\n",
        "plt.ylabel('mean score')\n",
        "plt.title(\"10 fold Cross validation result\")"
      ],
      "execution_count": 238,
      "outputs": [
        {
          "output_type": "stream",
          "text": [
            "{'n_neighbors': 6}\n"
          ],
          "name": "stdout"
        },
        {
          "output_type": "execute_result",
          "data": {
            "text/plain": [
              "Text(0.5, 1.0, '10 fold Cross validation result')"
            ]
          },
          "metadata": {
            "tags": []
          },
          "execution_count": 238
        },
        {
          "output_type": "display_data",
          "data": {
            "image/png": "[encoded data removed]",
            "text/plain": [
              "<Figure size 432x288 with 1 Axes>"
            ]
          },
          "metadata": {
            "tags": []
          }
        }
      ]
    },
    {
      "cell_type": "code",
      "metadata": {
        "id": "aKaaET38_e6x",
        "colab_type": "code",
        "outputId": "bba8430b-8ab2-472a-e95b-326a0ac9c69b",
        "colab": {
          "base_uri": "https://localhost:8080/",
          "height": 482
        }
      },
      "source": [
        "scoring_data(knn_grid, test)"
      ],
      "execution_count": 236,
      "outputs": [
        {
          "output_type": "stream",
          "text": [
            "Accuracy of Model is 0.6701030927835051\n",
            "              precision    recall  f1-score   support\n",
            "\n",
            "           0       0.67      1.00      0.80      2145\n",
            "           1       0.00      0.00      0.00       224\n",
            "           2       0.00      0.00      0.00       832\n",
            "\n",
            "    accuracy                           0.67      3201\n",
            "   macro avg       0.22      0.33      0.27      3201\n",
            "weighted avg       0.45      0.67      0.54      3201\n",
            "\n"
          ],
          "name": "stdout"
        },
        {
          "output_type": "display_data",
          "data": {
            "image/png": "[encoded data removed]",
            "text/plain": [
              "<Figure size 432x288 with 2 Axes>"
            ]
          },
          "metadata": {
            "tags": []
          }
        }
      ]
    },
    {
      "cell_type": "markdown",
      "metadata": {
        "id": "wO27qFutUhMS",
        "colab_type": "text"
      },
      "source": [
        "Мини-проверка"
      ]
    },
    {
      "cell_type": "code",
      "metadata": {
        "id": "bOtKvzjyNl9W",
        "colab_type": "code",
        "outputId": "e90ceb50-90de-453c-cd37-8b22397fd305",
        "colab": {
          "base_uri": "https://localhost:8080/",
          "height": 34
        }
      },
      "source": [
        "text = 'замечательный'\n",
        "text = preprocess(text)\n",
        "text = vectorizer.transform([text])\n",
        "category = grid.predict(text)\n",
        "print(encoder.inverse_transform(category))"
      ],
      "execution_count": 229,
      "outputs": [
        {
          "output_type": "stream",
          "text": [
            "['positive']\n"
          ],
          "name": "stdout"
        }
      ]
    },
    {
      "cell_type": "code",
      "metadata": {
        "id": "3Z_pS9sNOxyv",
        "colab_type": "code",
        "outputId": "9228e210-5479-4403-f38f-55e349c81c78",
        "colab": {
          "base_uri": "https://localhost:8080/",
          "height": 34
        }
      },
      "source": [
        "text = 'ужасный'\n",
        "text = preprocess(text)\n",
        "text = vectorizer.transform([text])\n",
        "category = grid.predict(text)\n",
        "print(encoder.inverse_transform(category))"
      ],
      "execution_count": 230,
      "outputs": [
        {
          "output_type": "stream",
          "text": [
            "['negative']\n"
          ],
          "name": "stdout"
        }
      ]
    },
    {
      "cell_type": "markdown",
      "metadata": {
        "id": "AzUycexLUkRQ",
        "colab_type": "text"
      },
      "source": [
        "Попытка классифицировать нужные данные"
      ]
    },
    {
      "cell_type": "code",
      "metadata": {
        "id": "8Jz3yqigQnsj",
        "colab_type": "code",
        "colab": {}
      },
      "source": [
        "import json"
      ],
      "execution_count": 0,
      "outputs": []
    },
    {
      "cell_type": "code",
      "metadata": {
        "id": "z-ix6kySQs9T",
        "colab_type": "code",
        "colab": {}
      },
      "source": [
        "# загружаем неразмеченный словарь из json файла\n",
        "with open('drive/My Drive/coursework/unallocated_dictionary.json', 'r', encoding='utf-8') as f:\n",
        "    js = json.load(f)"
      ],
      "execution_count": 0,
      "outputs": []
    },
    {
      "cell_type": "code",
      "metadata": {
        "id": "hzrDII3aQwuV",
        "colab_type": "code",
        "colab": {}
      },
      "source": [
        "unallocated_words = [[word[0][:-5]] for word in js]"
      ],
      "execution_count": 0,
      "outputs": []
    },
    {
      "cell_type": "code",
      "metadata": {
        "id": "D2AD3pBjRwuS",
        "colab_type": "code",
        "colab": {
          "base_uri": "https://localhost:8080/",
          "height": 34
        },
        "outputId": "68111621-d976-463b-866e-a584098443b3"
      },
      "source": [
        "unallocated_words[:5]"
      ],
      "execution_count": 267,
      "outputs": [
        {
          "output_type": "execute_result",
          "data": {
            "text/plain": [
              "[['телефон'], ['очень'], ['экран'], ['хороший'], ['камера']]"
            ]
          },
          "metadata": {
            "tags": []
          },
          "execution_count": 267
        }
      ]
    },
    {
      "cell_type": "code",
      "metadata": {
        "id": "LAAkh9ItQ8hI",
        "colab_type": "code",
        "colab": {}
      },
      "source": [
        "def predict_tone(text):\n",
        "  text = preprocess(text)\n",
        "  text = vectorizer.transform([text])\n",
        "  category = grid.predict(text)\n",
        "  return encoder.inverse_transform(category)"
      ],
      "execution_count": 0,
      "outputs": []
    },
    {
      "cell_type": "code",
      "metadata": {
        "id": "qleY4myxRF0A",
        "colab_type": "code",
        "colab": {}
      },
      "source": [
        "answers = [predict_tone(word[0]) for word in unallocated_words]"
      ],
      "execution_count": 0,
      "outputs": []
    },
    {
      "cell_type": "code",
      "metadata": {
        "id": "xdIFaiJ2RUmF",
        "colab_type": "code",
        "colab": {}
      },
      "source": [
        "answers = [answers[i][0] for i in range(0, len(answers))]"
      ],
      "execution_count": 0,
      "outputs": []
    },
    {
      "cell_type": "code",
      "metadata": {
        "id": "VdPPO-9XRzZZ",
        "colab_type": "code",
        "colab": {
          "base_uri": "https://localhost:8080/",
          "height": 34
        },
        "outputId": "61111f90-f5ef-478c-d366-633c75b34e0e"
      },
      "source": [
        "answers[:5]"
      ],
      "execution_count": 306,
      "outputs": [
        {
          "output_type": "execute_result",
          "data": {
            "text/plain": [
              "['negative', 'negative', 'negative', 'positive', 'negative']"
            ]
          },
          "metadata": {
            "tags": []
          },
          "execution_count": 306
        }
      ]
    },
    {
      "cell_type": "markdown",
      "metadata": {
        "id": "jRswb_pkUo0a",
        "colab_type": "text"
      },
      "source": [
        "Просмотрела позитивные слова"
      ]
    },
    {
      "cell_type": "code",
      "metadata": {
        "id": "ZH24EnWJTKfU",
        "colab_type": "code",
        "colab": {
          "base_uri": "https://localhost:8080/",
          "height": 281
        },
        "outputId": "8f019d22-d914-4fc4-94d8-2acec3c9a1a9"
      },
      "source": [
        "for i in range(0, 200):\n",
        "  if answers[i] == 'positive':\n",
        "    print(unallocated_words[i])"
      ],
      "execution_count": 292,
      "outputs": [
        {
          "output_type": "stream",
          "text": [
            "['хороший']\n",
            "['удобный']\n",
            "['самый']\n",
            "['довольный']\n",
            "['нормальный']\n",
            "['качественный']\n",
            "['достоинство']\n",
            "['нравиться']\n",
            "['супер']\n",
            "['мощный']\n",
            "['понравиться']\n",
            "['приятный']\n",
            "['отзыв']\n",
            "['пожалеть']\n",
            "['шустрый']\n"
          ],
          "name": "stdout"
        }
      ]
    },
    {
      "cell_type": "markdown",
      "metadata": {
        "id": "mf3vwk48UrU2",
        "colab_type": "text"
      },
      "source": [
        "Просмотрела негативные слова"
      ]
    },
    {
      "cell_type": "code",
      "metadata": {
        "id": "Gpz0qseDThHW",
        "colab_type": "code",
        "colab": {
          "base_uri": "https://localhost:8080/",
          "height": 334
        },
        "outputId": "817c6d19-d4ce-4134-c531-c523ebe79f2e"
      },
      "source": [
        "for i in range(0, 20):\n",
        "  if answers[i] == 'negative':\n",
        "    print(unallocated_words[i])"
      ],
      "execution_count": 294,
      "outputs": [
        {
          "output_type": "stream",
          "text": [
            "['телефон']\n",
            "['очень']\n",
            "['экран']\n",
            "['камера']\n",
            "['весь']\n",
            "['работать']\n",
            "['день']\n",
            "['батарея']\n",
            "['приложение']\n",
            "['качество']\n",
            "['отличный']\n",
            "['год']\n",
            "['цена']\n",
            "['один']\n",
            "['аппарат']\n",
            "['звук']\n",
            "['купить']\n",
            "['который']\n"
          ],
          "name": "stdout"
        }
      ]
    },
    {
      "cell_type": "markdown",
      "metadata": {
        "id": "nrWGoiywUuMb",
        "colab_type": "text"
      },
      "source": [
        "Нейтральных слов не обнаружено, из-за этого ошибка на матрице"
      ]
    },
    {
      "cell_type": "code",
      "metadata": {
        "id": "VsMoMHanTmpZ",
        "colab_type": "code",
        "colab": {}
      },
      "source": [
        "for i in range(0, len(answers)):\n",
        "  if answers[i] == 'neutral':\n",
        "    print(unallocated_words[i])"
      ],
      "execution_count": 0,
      "outputs": []
    },
    {
      "cell_type": "code",
      "metadata": {
        "id": "pfUZcg-PSkFH",
        "colab_type": "code",
        "colab": {}
      },
      "source": [
        "keys = [word[0] for word in js]\n",
        "dictionary = dict(zip(keys, answers))"
      ],
      "execution_count": 0,
      "outputs": []
    },
    {
      "cell_type": "code",
      "metadata": {
        "id": "WNQeg0E2SrY7",
        "colab_type": "code",
        "colab": {
          "base_uri": "https://localhost:8080/",
          "height": 281
        },
        "outputId": "ab5626db-af8c-460d-e615-3aba08d099e6"
      },
      "source": [
        "import itertools\n",
        "dict(itertools.islice(dictionary.items(), 15))"
      ],
      "execution_count": 285,
      "outputs": [
        {
          "output_type": "execute_result",
          "data": {
            "text/plain": [
              "{'батарея_NOUN': 'negative',\n",
              " 'весь_ADJF': 'negative',\n",
              " 'год_NOUN': 'negative',\n",
              " 'день_NOUN': 'negative',\n",
              " 'камера_NOUN': 'negative',\n",
              " 'качество_NOUN': 'negative',\n",
              " 'один_ADJF': 'negative',\n",
              " 'отличный_ADJF': 'negative',\n",
              " 'очень_ADVB': 'negative',\n",
              " 'приложение_NOUN': 'negative',\n",
              " 'работать_INFN': 'negative',\n",
              " 'телефон_NOUN': 'negative',\n",
              " 'хороший_ADJF': 'positive',\n",
              " 'цена_NOUN': 'negative',\n",
              " 'экран_NOUN': 'negative'}"
            ]
          },
          "metadata": {
            "tags": []
          },
          "execution_count": 285
        }
      ]
    },
    {
      "cell_type": "markdown",
      "metadata": {
        "id": "TwmPVD9JUyka",
        "colab_type": "text"
      },
      "source": [
        "Сохранение словаря в csv файл"
      ]
    },
    {
      "cell_type": "code",
      "metadata": {
        "id": "IAe16A1-Sw8S",
        "colab_type": "code",
        "colab": {}
      },
      "source": [
        "# сохраняем словарь в csv файл\n",
        "import csv\n",
        "from itertools import zip_longest\n",
        "d = [keys, answers]\n",
        "export_data = zip_longest(*d, fillvalue = '')\n",
        "with open('drive/My Drive/coursework/tagged_dictionary_bayes.csv', 'w', encoding='utf-8', newline='') as f:\n",
        "      wr = csv.writer(f)\n",
        "      wr.writerow((\"term\", \"tone\"))\n",
        "      wr.writerows(export_data)\n",
        "f.close()"
      ],
      "execution_count": 0,
      "outputs": []
    }
  ]
}