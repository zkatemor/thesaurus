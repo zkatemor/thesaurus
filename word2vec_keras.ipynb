{
  "nbformat": 4,
  "nbformat_minor": 0,
  "metadata": {
    "colab": {
      "name": "word2vec_keras.ipynb",
      "provenance": []
    },
    "kernelspec": {
      "name": "python3",
      "display_name": "Python 3"
    }
  },
  "cells": [
    {
      "cell_type": "code",
      "metadata": {
        "id": "UUlFeqrmNF0o",
        "colab_type": "code",
        "colab": {
          "base_uri": "https://localhost:8080/",
          "height": 125
        },
        "outputId": "36336ce7-e702-4dd2-d695-54b9c11479ba"
      },
      "source": [
        "from google.colab import drive\n",
        "drive.mount('/content/drive')"
      ],
      "execution_count": 1,
      "outputs": [
        {
          "output_type": "stream",
          "text": [
            "Go to this URL in a browser: https://accounts.google.com/o/oauth2/auth?client_id=947318989803-6bn6qk8qdgf4n4g3pfee6491hc0brc4i.apps.googleusercontent.com&redirect_uri=urn%3aietf%3awg%3aoauth%3a2.0%3aoob&response_type=code&scope=email%20https%3a%2f%2fwww.googleapis.com%2fauth%2fdocs.test%20https%3a%2f%2fwww.googleapis.com%2fauth%2fdrive%20https%3a%2f%2fwww.googleapis.com%2fauth%2fdrive.photos.readonly%20https%3a%2f%2fwww.googleapis.com%2fauth%2fpeopleapi.readonly\n",
            "\n",
            "Enter your authorization code:\n",
            "··········\n",
            "Mounted at /content/drive\n"
          ],
          "name": "stdout"
        }
      ]
    },
    {
      "cell_type": "code",
      "metadata": {
        "id": "Dr6gbkkcNd9W",
        "colab_type": "code",
        "colab": {}
      },
      "source": [
        "import gensim\n",
        "import nltk\n",
        "from nltk.corpus import stopwords\n",
        "from gensim.models import Word2Vec\n",
        "import pandas as pd\n",
        "import numpy as np\n",
        "import keras\n",
        "from keras.preprocessing.text import Tokenizer\n",
        "from keras.preprocessing.sequence import pad_sequences\n",
        "from keras.models import Sequential\n",
        "from keras.layers import Dense, Flatten, Embedding, Dropout, Conv1D, GlobalMaxPooling1D, Activation\n",
        "from keras.models import Model\n",
        "import sklearn\n",
        "from sklearn.model_selection import train_test_split\n",
        "from keras.utils import to_categorical\n",
        "from keras.models import save_model, load_model\n",
        "from keras.callbacks import ModelCheckpoint\n",
        "from nltk.tokenize import RegexpTokenizer\n",
        "import seaborn as sn\n",
        "from sklearn.metrics import classification_report"
      ],
      "execution_count": 0,
      "outputs": []
    },
    {
      "cell_type": "code",
      "metadata": {
        "id": "vdz00TmVNo0z",
        "colab_type": "code",
        "colab": {
          "base_uri": "https://localhost:8080/",
          "height": 105
        },
        "outputId": "190813c8-f71d-4a02-8f2d-72847e9c1e43"
      },
      "source": [
        "nltk.download('punkt')\n",
        "nltk.download('stopwords')"
      ],
      "execution_count": 4,
      "outputs": [
        {
          "output_type": "stream",
          "text": [
            "[nltk_data] Downloading package punkt to /root/nltk_data...\n",
            "[nltk_data]   Unzipping tokenizers/punkt.zip.\n",
            "[nltk_data] Downloading package stopwords to /root/nltk_data...\n",
            "[nltk_data]   Unzipping corpora/stopwords.zip.\n"
          ],
          "name": "stdout"
        },
        {
          "output_type": "execute_result",
          "data": {
            "text/plain": [
              "True"
            ]
          },
          "metadata": {
            "tags": []
          },
          "execution_count": 4
        }
      ]
    },
    {
      "cell_type": "code",
      "metadata": {
        "id": "nOMXflTHNPYV",
        "colab_type": "code",
        "colab": {}
      },
      "source": [
        "data = pd.read_csv('drive/My Drive/rusentilex.csv')"
      ],
      "execution_count": 0,
      "outputs": []
    },
    {
      "cell_type": "code",
      "metadata": {
        "id": "lWjcNO3QOYgl",
        "colab_type": "code",
        "colab": {}
      },
      "source": [
        "data = data.dropna()"
      ],
      "execution_count": 0,
      "outputs": []
    },
    {
      "cell_type": "code",
      "metadata": {
        "id": "IysfsT6pTqs5",
        "colab_type": "code",
        "colab": {
          "base_uri": "https://localhost:8080/",
          "height": 34
        },
        "outputId": "9931ef91-e2ae-4a2d-83c2-7d9955cebfbf"
      },
      "source": [
        "data['term'].apply(lambda x: len(x.split(' '))).sum()"
      ],
      "execution_count": 48,
      "outputs": [
        {
          "output_type": "execute_result",
          "data": {
            "text/plain": [
              "10668"
            ]
          },
          "metadata": {
            "tags": []
          },
          "execution_count": 48
        }
      ]
    },
    {
      "cell_type": "code",
      "metadata": {
        "id": "uLjpqUo3YPpa",
        "colab_type": "code",
        "colab": {
          "base_uri": "https://localhost:8080/",
          "height": 225
        },
        "outputId": "db7030fa-2f2a-4a5a-b4e6-e41e54567bc7"
      },
      "source": [
        "data[:6]"
      ],
      "execution_count": 49,
      "outputs": [
        {
          "output_type": "execute_result",
          "data": {
            "text/html": [
              "<div>\n",
              "<style scoped>\n",
              "    .dataframe tbody tr th:only-of-type {\n",
              "        vertical-align: middle;\n",
              "    }\n",
              "\n",
              "    .dataframe tbody tr th {\n",
              "        vertical-align: top;\n",
              "    }\n",
              "\n",
              "    .dataframe thead th {\n",
              "        text-align: right;\n",
              "    }\n",
              "</style>\n",
              "<table border=\"1\" class=\"dataframe\">\n",
              "  <thead>\n",
              "    <tr style=\"text-align: right;\">\n",
              "      <th></th>\n",
              "      <th>term</th>\n",
              "      <th>tone</th>\n",
              "    </tr>\n",
              "  </thead>\n",
              "  <tbody>\n",
              "    <tr>\n",
              "      <th>0</th>\n",
              "      <td>остепеняться</td>\n",
              "      <td>positive</td>\n",
              "    </tr>\n",
              "    <tr>\n",
              "      <th>1</th>\n",
              "      <td>трудолюбивый</td>\n",
              "      <td>positive</td>\n",
              "    </tr>\n",
              "    <tr>\n",
              "      <th>2</th>\n",
              "      <td>беспалевный</td>\n",
              "      <td>positive</td>\n",
              "    </tr>\n",
              "    <tr>\n",
              "      <th>3</th>\n",
              "      <td>порядочный</td>\n",
              "      <td>positive</td>\n",
              "    </tr>\n",
              "    <tr>\n",
              "      <th>4</th>\n",
              "      <td>ответственнейший</td>\n",
              "      <td>positive</td>\n",
              "    </tr>\n",
              "    <tr>\n",
              "      <th>5</th>\n",
              "      <td>солидность</td>\n",
              "      <td>positive</td>\n",
              "    </tr>\n",
              "  </tbody>\n",
              "</table>\n",
              "</div>"
            ],
            "text/plain": [
              "               term      tone\n",
              "0      остепеняться  positive\n",
              "1      трудолюбивый  positive\n",
              "2       беспалевный  positive\n",
              "3        порядочный  positive\n",
              "4  ответственнейший  positive\n",
              "5        солидность  positive"
            ]
          },
          "metadata": {
            "tags": []
          },
          "execution_count": 49
        }
      ]
    },
    {
      "cell_type": "code",
      "metadata": {
        "id": "I7eJ7jCXYT2C",
        "colab_type": "code",
        "colab": {}
      },
      "source": [
        "unique_tones = data.tone.unique()"
      ],
      "execution_count": 0,
      "outputs": []
    },
    {
      "cell_type": "code",
      "metadata": {
        "id": "0KjfMPnZYdGS",
        "colab_type": "code",
        "colab": {
          "base_uri": "https://localhost:8080/",
          "height": 282
        },
        "outputId": "1f0c89b4-b55e-4750-b890-7ff30fa3ad54"
      },
      "source": [
        "data.tone.value_counts().plot(kind=\"bar\", rot = 0)"
      ],
      "execution_count": 56,
      "outputs": [
        {
          "output_type": "execute_result",
          "data": {
            "text/plain": [
              "<matplotlib.axes._subplots.AxesSubplot at 0x7fd4e5bfbd68>"
            ]
          },
          "metadata": {
            "tags": []
          },
          "execution_count": 56
        },
        {
          "output_type": "display_data",
          "data": {
            "image/png": "[encoded data removed]",
            "text/plain": [
              "<Figure size 432x288 with 1 Axes>"
            ]
          },
          "metadata": {
            "tags": []
          }
        }
      ]
    },
    {
      "cell_type": "code",
      "metadata": {
        "id": "LM_QM4GIa2X7",
        "colab_type": "code",
        "colab": {
          "base_uri": "https://localhost:8080/",
          "height": 87
        },
        "outputId": "0a34ac87-6c44-40d3-8325-dab1128ad5f7"
      },
      "source": [
        "data.tone.value_counts()"
      ],
      "execution_count": 57,
      "outputs": [
        {
          "output_type": "execute_result",
          "data": {
            "text/plain": [
              "negative    7148\n",
              "positive    2774\n",
              "neutral      746\n",
              "Name: tone, dtype: int64"
            ]
          },
          "metadata": {
            "tags": []
          },
          "execution_count": 57
        }
      ]
    },
    {
      "cell_type": "code",
      "metadata": {
        "id": "1SdratFBeEXP",
        "colab_type": "code",
        "colab": {}
      },
      "source": [
        "def tokenize(text):\n",
        "  regex_tokenizer = RegexpTokenizer('[А-Яа-я]+')\n",
        "  words = regex_tokenizer.tokenize(text.lower())\n",
        "  stop_words = set(stopwords.words(\"russian\"))\n",
        "  without_stop_words = [w for w in words if w not in stop_words and len(w) > 1]\n",
        "  return without_stop_words"
      ],
      "execution_count": 0,
      "outputs": []
    },
    {
      "cell_type": "code",
      "metadata": {
        "id": "EhZ3Drzkaudq",
        "colab_type": "code",
        "colab": {}
      },
      "source": [
        "sentences = np.array(data.term.apply(lambda x : tokenize(x)))"
      ],
      "execution_count": 0,
      "outputs": []
    },
    {
      "cell_type": "code",
      "metadata": {
        "id": "QhW7js8Jew6B",
        "colab_type": "code",
        "colab": {
          "base_uri": "https://localhost:8080/",
          "height": 105
        },
        "outputId": "ffa8b22b-2a0e-48d5-fa77-5cd886bd874c"
      },
      "source": [
        "sentences[:10]"
      ],
      "execution_count": 85,
      "outputs": [
        {
          "output_type": "execute_result",
          "data": {
            "text/plain": [
              "array([list(['остепеняться']), list(['трудолюбивый']),\n",
              "       list(['беспалевный']), list(['порядочный']),\n",
              "       list(['ответственнейший']), list(['солидность']),\n",
              "       list(['самостоятельность']), list(['немаловажность']),\n",
              "       list(['прогрессировать']), list(['легонький'])], dtype=object)"
            ]
          },
          "metadata": {
            "tags": []
          },
          "execution_count": 85
        }
      ]
    },
    {
      "cell_type": "code",
      "metadata": {
        "id": "tRHH9jgZdJdL",
        "colab_type": "code",
        "colab": {}
      },
      "source": [
        "VECTOR_SIZE = 200\n",
        "WINDOW_SIZE = 10\n",
        "MIN_COUNT = 3\n",
        "ITER_COUNT = 10\n",
        "WORKERS = 4"
      ],
      "execution_count": 0,
      "outputs": []
    },
    {
      "cell_type": "code",
      "metadata": {
        "id": "3qAMfHz6dOJG",
        "colab_type": "code",
        "colab": {}
      },
      "source": [
        "# Обучение модели Word2Vec\n",
        "word2vec_model = Word2Vec(sentences, min_count=1)"
      ],
      "execution_count": 0,
      "outputs": []
    },
    {
      "cell_type": "code",
      "metadata": {
        "id": "U9HDE5qbdRlm",
        "colab_type": "code",
        "colab": {
          "base_uri": "https://localhost:8080/",
          "height": 283
        },
        "outputId": "8296cb9e-3613-4301-faf7-c7caebe8a3d6"
      },
      "source": [
        "word2vec_model.most_similar('сочувствие')"
      ],
      "execution_count": 170,
      "outputs": [
        {
          "output_type": "stream",
          "text": [
            "/usr/local/lib/python3.6/dist-packages/ipykernel_launcher.py:1: DeprecationWarning: Call to deprecated `most_similar` (Method will be removed in 4.0.0, use self.wv.most_similar() instead).\n",
            "  \"\"\"Entry point for launching an IPython kernel.\n",
            "/usr/local/lib/python3.6/dist-packages/gensim/matutils.py:737: FutureWarning: Conversion of the second argument of issubdtype from `int` to `np.signedinteger` is deprecated. In future, it will be treated as `np.int64 == np.dtype(int).type`.\n",
            "  if np.issubdtype(vec.dtype, np.int):\n"
          ],
          "name": "stderr"
        },
        {
          "output_type": "execute_result",
          "data": {
            "text/plain": [
              "[('простудиться', 0.443748414516449),\n",
              " ('гадость', 0.4294304847717285),\n",
              " ('злостный', 0.36754679679870605),\n",
              " ('националистский', 0.34058812260627747),\n",
              " ('передозировать', 0.3306061029434204),\n",
              " ('царапина', 0.3304581046104431),\n",
              " ('отзывчивый', 0.32399338483810425),\n",
              " ('возвышенность', 0.31519702076911926),\n",
              " ('оживляться', 0.31408604979515076),\n",
              " ('двурушничество', 0.3131393492221832)]"
            ]
          },
          "metadata": {
            "tags": []
          },
          "execution_count": 170
        }
      ]
    },
    {
      "cell_type": "code",
      "metadata": {
        "id": "hN9OHsS8hFK7",
        "colab_type": "code",
        "colab": {}
      },
      "source": [
        "# Преобразование названий классов в матрицу двоичных чисел (нужно для keras)\n",
        "def transform_to_categorical(tones_for_each, unique_tones, build_binary_matrix = True):\n",
        "  tones_to_digit = []\n",
        "\n",
        "  for tone in tones_for_each:\n",
        "    tones_to_digit.append(unique_tones.index(tone))\n",
        "\n",
        "  if build_binary_matrix:\n",
        "    tones_to_digit = to_categorical(tones_to_digit, len(unique_tones))\n",
        "  \n",
        "  return tones_to_digit"
      ],
      "execution_count": 0,
      "outputs": []
    },
    {
      "cell_type": "code",
      "metadata": {
        "id": "FqYc-kQPhgjZ",
        "colab_type": "code",
        "colab": {}
      },
      "source": [
        "# Преобразование номеров классов в названия классов\n",
        "def transform_from_categorical(prediction, unique_tones):\n",
        "  answers = []\n",
        "\n",
        "  for i in range(prediction.shape[0]):\n",
        "    answers.append(unique_tones[prediction[i]])\n",
        "\n",
        "  return answers"
      ],
      "execution_count": 0,
      "outputs": []
    },
    {
      "cell_type": "code",
      "metadata": {
        "id": "MrKrZMukhgg-",
        "colab_type": "code",
        "colab": {}
      },
      "source": [
        "def get_model(word2vec_model, COUNT_CLASSES):\n",
        "    model = Sequential() \n",
        "    model.add(word2vec_model.wv.get_keras_embedding(train_embeddings = True))\n",
        "    \n",
        "    model.add(Dropout(0.2))\n",
        "\n",
        "    model.add(Conv1D(50,\n",
        "                 3,\n",
        "                 padding = 'valid',\n",
        "                 activation = 'relu',\n",
        "                 strides = 1))\n",
        "    model.add(GlobalMaxPooling1D())\n",
        "\n",
        "    model.add(Dense(250))\n",
        "    model.add(Dropout(0.2))\n",
        "    model.add(Activation('relu'))\n",
        "\n",
        "    model.add(Dense(COUNT_CLASSES, activation = 'softmax'))\n",
        "\n",
        "    model.compile(loss = 'categorical_crossentropy', optimizer = 'adam', metrics = ['accuracy'])\n",
        "  \n",
        "    return model"
      ],
      "execution_count": 0,
      "outputs": []
    },
    {
      "cell_type": "code",
      "metadata": {
        "id": "OKHd2x7phsVZ",
        "colab_type": "code",
        "colab": {}
      },
      "source": [
        "tokenizer = Tokenizer()\n",
        "tokenizer.fit_on_texts(sentences)\n",
        "\n",
        "# Преобразование всех текстов в числовые последовательности, заменяя слова на числа по словарю.\n",
        "text = tokenizer.texts_to_sequences(sentences)\n",
        "text = pad_sequences(text, maxlen = 10)"
      ],
      "execution_count": 0,
      "outputs": []
    },
    {
      "cell_type": "code",
      "metadata": {
        "id": "YjKLKp24hvUg",
        "colab_type": "code",
        "colab": {}
      },
      "source": [
        "X_train, X_test, y_train, y_test = train_test_split(text, data.tone, test_size = 0.2)"
      ],
      "execution_count": 0,
      "outputs": []
    },
    {
      "cell_type": "code",
      "metadata": {
        "id": "yR63r577iRPY",
        "colab_type": "code",
        "colab": {}
      },
      "source": [
        "y_train = transform_to_categorical(y_train, unique_tones.tolist())"
      ],
      "execution_count": 0,
      "outputs": []
    },
    {
      "cell_type": "code",
      "metadata": {
        "id": "nEpVBbipia5W",
        "colab_type": "code",
        "colab": {}
      },
      "source": [
        "COUNT_CLASSES = unique_tones.shape[0]"
      ],
      "execution_count": 0,
      "outputs": []
    },
    {
      "cell_type": "code",
      "metadata": {
        "id": "M09m6Uelie42",
        "colab_type": "code",
        "colab": {
          "base_uri": "https://localhost:8080/",
          "height": 439
        },
        "outputId": "4aa48f72-2f31-4d14-aa27-a4cb59668c89"
      },
      "source": [
        "keras_model = get_model(word2vec_model, COUNT_CLASSES)\n",
        "keras_model.summary()"
      ],
      "execution_count": 200,
      "outputs": [
        {
          "output_type": "stream",
          "text": [
            "Model: \"sequential_6\"\n",
            "_________________________________________________________________\n",
            "Layer (type)                 Output Shape              Param #   \n",
            "=================================================================\n",
            "embedding_6 (Embedding)      (None, None, 100)         1074700   \n",
            "_________________________________________________________________\n",
            "dropout_11 (Dropout)         (None, None, 100)         0         \n",
            "_________________________________________________________________\n",
            "conv1d_6 (Conv1D)            (None, None, 50)          15050     \n",
            "_________________________________________________________________\n",
            "global_max_pooling1d_6 (Glob (None, 50)                0         \n",
            "_________________________________________________________________\n",
            "dense_11 (Dense)             (None, 250)               12750     \n",
            "_________________________________________________________________\n",
            "dropout_12 (Dropout)         (None, 250)               0         \n",
            "_________________________________________________________________\n",
            "activation_6 (Activation)    (None, 250)               0         \n",
            "_________________________________________________________________\n",
            "dense_12 (Dense)             (None, 3)                 753       \n",
            "=================================================================\n",
            "Total params: 1,103,253\n",
            "Trainable params: 1,103,253\n",
            "Non-trainable params: 0\n",
            "_________________________________________________________________\n"
          ],
          "name": "stdout"
        }
      ]
    },
    {
      "cell_type": "code",
      "metadata": {
        "id": "XiM41Jm4ijDp",
        "colab_type": "code",
        "colab": {}
      },
      "source": [
        "BATCH = 32\n",
        "EPOCHS_COUNT = 10"
      ],
      "execution_count": 0,
      "outputs": []
    },
    {
      "cell_type": "code",
      "metadata": {
        "id": "dslxtHdOika1",
        "colab_type": "code",
        "colab": {
          "base_uri": "https://localhost:8080/",
          "height": 404
        },
        "outputId": "91b38509-fb8c-4a1f-f683-ce805eaff260"
      },
      "source": [
        "keras_model.fit(X_train, y_train, batch_size = BATCH, epochs = EPOCHS_COUNT, validation_split = 0.2)"
      ],
      "execution_count": 243,
      "outputs": [
        {
          "output_type": "stream",
          "text": [
            "Train on 6827 samples, validate on 1707 samples\n",
            "Epoch 1/10\n",
            "6827/6827 [==============================] - 4s 556us/step - loss: 0.0025 - acc: 0.9997 - val_loss: 1.4444 - val_acc: 0.5372\n",
            "Epoch 2/10\n",
            "6827/6827 [==============================] - 4s 535us/step - loss: 0.0023 - acc: 0.9997 - val_loss: 1.6360 - val_acc: 0.5372\n",
            "Epoch 3/10\n",
            "6827/6827 [==============================] - 4s 527us/step - loss: 0.0023 - acc: 0.9997 - val_loss: 1.7657 - val_acc: 0.5372\n",
            "Epoch 4/10\n",
            "6827/6827 [==============================] - 4s 535us/step - loss: 0.0022 - acc: 0.9997 - val_loss: 1.5126 - val_acc: 0.5372\n",
            "Epoch 5/10\n",
            "6827/6827 [==============================] - 4s 547us/step - loss: 0.0020 - acc: 0.9997 - val_loss: 2.2950 - val_acc: 0.5372\n",
            "Epoch 6/10\n",
            "6827/6827 [==============================] - 4s 518us/step - loss: 0.0017 - acc: 0.9997 - val_loss: 2.2845 - val_acc: 0.5372\n",
            "Epoch 7/10\n",
            "6827/6827 [==============================] - 4s 533us/step - loss: 0.0010 - acc: 0.9997 - val_loss: 1.4567 - val_acc: 0.5372\n",
            "Epoch 8/10\n",
            "6827/6827 [==============================] - 4s 557us/step - loss: 7.4234e-04 - acc: 0.9997 - val_loss: 1.6887 - val_acc: 0.5372\n",
            "Epoch 9/10\n",
            "6827/6827 [==============================] - 4s 539us/step - loss: 8.1852e-04 - acc: 0.9997 - val_loss: 1.9308 - val_acc: 0.5372\n",
            "Epoch 10/10\n",
            "6827/6827 [==============================] - 4s 534us/step - loss: 6.9136e-04 - acc: 0.9997 - val_loss: 1.5898 - val_acc: 0.5372\n"
          ],
          "name": "stdout"
        },
        {
          "output_type": "execute_result",
          "data": {
            "text/plain": [
              "<keras.callbacks.History at 0x7fd4d9e52208>"
            ]
          },
          "metadata": {
            "tags": []
          },
          "execution_count": 243
        }
      ]
    },
    {
      "cell_type": "code",
      "metadata": {
        "id": "ekLETE1Uo9Us",
        "colab_type": "code",
        "colab": {}
      },
      "source": [
        "test = ['супер', 'классно', 'безупречный', 'убожество', 'убивать', 'нормально', 'ужас'] "
      ],
      "execution_count": 0,
      "outputs": []
    },
    {
      "cell_type": "code",
      "metadata": {
        "id": "wXYoaRR3pFGj",
        "colab_type": "code",
        "colab": {}
      },
      "source": [
        "#test_texts = np.array(test.apply(lambda x : tokenize(x)))\n",
        "sequences_test = tokenizer.texts_to_sequences(test)\n",
        "X_predict = pad_sequences(sequences_test, maxlen = X_train.shape[1])"
      ],
      "execution_count": 0,
      "outputs": []
    },
    {
      "cell_type": "code",
      "metadata": {
        "id": "75HuN9ESpdEU",
        "colab_type": "code",
        "colab": {}
      },
      "source": [
        "prediction = keras_model.predict_classes(X_predict)"
      ],
      "execution_count": 0,
      "outputs": []
    },
    {
      "cell_type": "code",
      "metadata": {
        "id": "77xu-b32pirG",
        "colab_type": "code",
        "colab": {
          "base_uri": "https://localhost:8080/",
          "height": 140
        },
        "outputId": "12141b36-1aa8-4f52-afb7-f891d70bdc8f"
      },
      "source": [
        "answers = transform_from_categorical(prediction, unique_tones.tolist())\n",
        "answers"
      ],
      "execution_count": 264,
      "outputs": [
        {
          "output_type": "execute_result",
          "data": {
            "text/plain": [
              "['positive',\n",
              " 'positive',\n",
              " 'positive',\n",
              " 'negative',\n",
              " 'negative',\n",
              " 'positive',\n",
              " 'negative']"
            ]
          },
          "metadata": {
            "tags": []
          },
          "execution_count": 264
        }
      ]
    },
    {
      "cell_type": "code",
      "metadata": {
        "id": "MsYxKJIYuU2E",
        "colab_type": "code",
        "colab": {}
      },
      "source": [
        "keras_model.save('drive/My Drive/keras_sentiment.h5')"
      ],
      "execution_count": 0,
      "outputs": []
    }
  ]
}