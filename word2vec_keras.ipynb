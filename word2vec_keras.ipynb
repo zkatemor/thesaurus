{
  "nbformat": 4,
  "nbformat_minor": 0,
  "metadata": {
    "colab": {
      "name": "word2vec_keras.ipynb",
      "provenance": []
    },
    "kernelspec": {
      "name": "python3",
      "display_name": "Python 3"
    }
  },
  "cells": [
    {
      "cell_type": "markdown",
      "metadata": {
        "id": "vaq3s-RdPBlJ",
        "colab_type": "text"
      },
      "source": [
        "# Обучение тональностям слов, применяя словарь RuSentiLex"
      ]
    },
    {
      "cell_type": "code",
      "metadata": {
        "id": "UUlFeqrmNF0o",
        "colab_type": "code",
        "outputId": "78fe3692-816c-44fc-db07-8a55c70a8bb8",
        "colab": {
          "base_uri": "https://localhost:8080/",
          "height": 125
        }
      },
      "source": [
        "from google.colab import drive\n",
        "drive.mount('/content/drive')"
      ],
      "execution_count": 1,
      "outputs": [
        {
          "output_type": "stream",
          "text": [
            "Go to this URL in a browser: https://accounts.google.com/o/oauth2/auth?client_id=947318989803-6bn6qk8qdgf4n4g3pfee6491hc0brc4i.apps.googleusercontent.com&redirect_uri=urn%3aietf%3awg%3aoauth%3a2.0%3aoob&response_type=code&scope=email%20https%3a%2f%2fwww.googleapis.com%2fauth%2fdocs.test%20https%3a%2f%2fwww.googleapis.com%2fauth%2fdrive%20https%3a%2f%2fwww.googleapis.com%2fauth%2fdrive.photos.readonly%20https%3a%2f%2fwww.googleapis.com%2fauth%2fpeopleapi.readonly\n",
            "\n",
            "Enter your authorization code:\n",
            "··········\n",
            "Mounted at /content/drive\n"
          ],
          "name": "stdout"
        }
      ]
    },
    {
      "cell_type": "code",
      "metadata": {
        "id": "Dr6gbkkcNd9W",
        "colab_type": "code",
        "colab": {
          "base_uri": "https://localhost:8080/",
          "height": 81
        },
        "outputId": "0fddf895-ce6f-4718-cac0-b8891676bb60"
      },
      "source": [
        "import gensim\n",
        "import nltk\n",
        "from nltk.corpus import stopwords\n",
        "from gensim.models import Word2Vec\n",
        "import pandas as pd\n",
        "import numpy as np\n",
        "import keras\n",
        "from keras.preprocessing.text import Tokenizer\n",
        "from keras.preprocessing.sequence import pad_sequences\n",
        "from keras.models import Sequential\n",
        "from keras.layers import Dense, Flatten, Embedding, Dropout, Conv1D, GlobalMaxPooling1D, Activation\n",
        "from keras.models import Model\n",
        "import sklearn\n",
        "from sklearn.model_selection import train_test_split\n",
        "from keras.utils import to_categorical\n",
        "from keras.models import save_model, load_model\n",
        "from keras.callbacks import ModelCheckpoint\n",
        "from nltk.tokenize import RegexpTokenizer\n",
        "import seaborn as sn\n",
        "from sklearn.metrics import classification_report"
      ],
      "execution_count": 2,
      "outputs": [
        {
          "output_type": "stream",
          "text": [
            "Using TensorFlow backend.\n"
          ],
          "name": "stderr"
        },
        {
          "output_type": "display_data",
          "data": {
            "text/html": [
              "<p style=\"color: red;\">\n",
              "The default version of TensorFlow in Colab will soon switch to TensorFlow 2.x.<br>\n",
              "We recommend you <a href=\"https://www.tensorflow.org/guide/migrate\" target=\"_blank\">upgrade</a> now \n",
              "or ensure your notebook will continue to use TensorFlow 1.x via the <code>%tensorflow_version 1.x</code> magic:\n",
              "<a href=\"https://colab.research.google.com/notebooks/tensorflow_version.ipynb\" target=\"_blank\">more info</a>.</p>\n"
            ],
            "text/plain": [
              "<IPython.core.display.HTML object>"
            ]
          },
          "metadata": {
            "tags": []
          }
        }
      ]
    },
    {
      "cell_type": "code",
      "metadata": {
        "id": "vdz00TmVNo0z",
        "colab_type": "code",
        "outputId": "7a376589-4bb0-45d1-d811-55196109b379",
        "colab": {
          "base_uri": "https://localhost:8080/",
          "height": 105
        }
      },
      "source": [
        "nltk.download('punkt')\n",
        "nltk.download('stopwords')"
      ],
      "execution_count": 3,
      "outputs": [
        {
          "output_type": "stream",
          "text": [
            "[nltk_data] Downloading package punkt to /root/nltk_data...\n",
            "[nltk_data]   Unzipping tokenizers/punkt.zip.\n",
            "[nltk_data] Downloading package stopwords to /root/nltk_data...\n",
            "[nltk_data]   Unzipping corpora/stopwords.zip.\n"
          ],
          "name": "stdout"
        },
        {
          "output_type": "execute_result",
          "data": {
            "text/plain": [
              "True"
            ]
          },
          "metadata": {
            "tags": []
          },
          "execution_count": 3
        }
      ]
    },
    {
      "cell_type": "code",
      "metadata": {
        "id": "nOMXflTHNPYV",
        "colab_type": "code",
        "colab": {}
      },
      "source": [
        "data = pd.read_csv('drive/My Drive/rusentilex.csv')"
      ],
      "execution_count": 0,
      "outputs": []
    },
    {
      "cell_type": "code",
      "metadata": {
        "id": "lWjcNO3QOYgl",
        "colab_type": "code",
        "colab": {}
      },
      "source": [
        "data = data.dropna()"
      ],
      "execution_count": 0,
      "outputs": []
    },
    {
      "cell_type": "code",
      "metadata": {
        "id": "IysfsT6pTqs5",
        "colab_type": "code",
        "outputId": "57f3e819-d8bc-468b-cbfb-1add877fa6ba",
        "colab": {
          "base_uri": "https://localhost:8080/",
          "height": 34
        }
      },
      "source": [
        "data['term'].apply(lambda x: len(x.split(' '))).sum()"
      ],
      "execution_count": 6,
      "outputs": [
        {
          "output_type": "execute_result",
          "data": {
            "text/plain": [
              "10668"
            ]
          },
          "metadata": {
            "tags": []
          },
          "execution_count": 6
        }
      ]
    },
    {
      "cell_type": "code",
      "metadata": {
        "id": "uLjpqUo3YPpa",
        "colab_type": "code",
        "outputId": "9f913167-000b-4d2b-fd6f-59301597a79d",
        "colab": {
          "base_uri": "https://localhost:8080/",
          "height": 225
        }
      },
      "source": [
        "data[:6]"
      ],
      "execution_count": 7,
      "outputs": [
        {
          "output_type": "execute_result",
          "data": {
            "text/html": [
              "<div>\n",
              "<style scoped>\n",
              "    .dataframe tbody tr th:only-of-type {\n",
              "        vertical-align: middle;\n",
              "    }\n",
              "\n",
              "    .dataframe tbody tr th {\n",
              "        vertical-align: top;\n",
              "    }\n",
              "\n",
              "    .dataframe thead th {\n",
              "        text-align: right;\n",
              "    }\n",
              "</style>\n",
              "<table border=\"1\" class=\"dataframe\">\n",
              "  <thead>\n",
              "    <tr style=\"text-align: right;\">\n",
              "      <th></th>\n",
              "      <th>term</th>\n",
              "      <th>tone</th>\n",
              "    </tr>\n",
              "  </thead>\n",
              "  <tbody>\n",
              "    <tr>\n",
              "      <th>0</th>\n",
              "      <td>остепеняться</td>\n",
              "      <td>positive</td>\n",
              "    </tr>\n",
              "    <tr>\n",
              "      <th>1</th>\n",
              "      <td>трудолюбивый</td>\n",
              "      <td>positive</td>\n",
              "    </tr>\n",
              "    <tr>\n",
              "      <th>2</th>\n",
              "      <td>беспалевный</td>\n",
              "      <td>positive</td>\n",
              "    </tr>\n",
              "    <tr>\n",
              "      <th>3</th>\n",
              "      <td>порядочный</td>\n",
              "      <td>positive</td>\n",
              "    </tr>\n",
              "    <tr>\n",
              "      <th>4</th>\n",
              "      <td>ответственнейший</td>\n",
              "      <td>positive</td>\n",
              "    </tr>\n",
              "    <tr>\n",
              "      <th>5</th>\n",
              "      <td>солидность</td>\n",
              "      <td>positive</td>\n",
              "    </tr>\n",
              "  </tbody>\n",
              "</table>\n",
              "</div>"
            ],
            "text/plain": [
              "               term      tone\n",
              "0      остепеняться  positive\n",
              "1      трудолюбивый  positive\n",
              "2       беспалевный  positive\n",
              "3        порядочный  positive\n",
              "4  ответственнейший  positive\n",
              "5        солидность  positive"
            ]
          },
          "metadata": {
            "tags": []
          },
          "execution_count": 7
        }
      ]
    },
    {
      "cell_type": "code",
      "metadata": {
        "id": "I7eJ7jCXYT2C",
        "colab_type": "code",
        "colab": {}
      },
      "source": [
        "unique_tones = data.tone.unique()"
      ],
      "execution_count": 0,
      "outputs": []
    },
    {
      "cell_type": "code",
      "metadata": {
        "id": "0KjfMPnZYdGS",
        "colab_type": "code",
        "outputId": "ee9c49fd-0d72-431c-ec3b-3e9a74140405",
        "colab": {
          "base_uri": "https://localhost:8080/",
          "height": 282
        }
      },
      "source": [
        "data.tone.value_counts().plot(kind=\"bar\", rot = 0)"
      ],
      "execution_count": 9,
      "outputs": [
        {
          "output_type": "execute_result",
          "data": {
            "text/plain": [
              "<matplotlib.axes._subplots.AxesSubplot at 0x7f9d95007c50>"
            ]
          },
          "metadata": {
            "tags": []
          },
          "execution_count": 9
        },
        {
          "output_type": "display_data",
          "data": {
            "image/png": "[encoded data removed]",
            "text/plain": [
              "<Figure size 432x288 with 1 Axes>"
            ]
          },
          "metadata": {
            "tags": []
          }
        }
      ]
    },
    {
      "cell_type": "code",
      "metadata": {
        "id": "LM_QM4GIa2X7",
        "colab_type": "code",
        "outputId": "c2093186-6378-462b-8e07-22da9a3a5fef",
        "colab": {
          "base_uri": "https://localhost:8080/",
          "height": 87
        }
      },
      "source": [
        "data.tone.value_counts()"
      ],
      "execution_count": 10,
      "outputs": [
        {
          "output_type": "execute_result",
          "data": {
            "text/plain": [
              "negative    7148\n",
              "positive    2774\n",
              "neutral      746\n",
              "Name: tone, dtype: int64"
            ]
          },
          "metadata": {
            "tags": []
          },
          "execution_count": 10
        }
      ]
    },
    {
      "cell_type": "code",
      "metadata": {
        "id": "1SdratFBeEXP",
        "colab_type": "code",
        "colab": {}
      },
      "source": [
        "def tokenize(text):\n",
        "  regex_tokenizer = RegexpTokenizer('[А-Яа-я]+')\n",
        "  words = regex_tokenizer.tokenize(text.lower())\n",
        "  stop_words = set(stopwords.words(\"russian\"))\n",
        "  without_stop_words = [w for w in words if w not in stop_words and len(w) > 1]\n",
        "  return without_stop_words"
      ],
      "execution_count": 0,
      "outputs": []
    },
    {
      "cell_type": "code",
      "metadata": {
        "id": "EhZ3Drzkaudq",
        "colab_type": "code",
        "colab": {}
      },
      "source": [
        "sentences = np.array(data.term.apply(lambda x : tokenize(x)))"
      ],
      "execution_count": 0,
      "outputs": []
    },
    {
      "cell_type": "code",
      "metadata": {
        "id": "QhW7js8Jew6B",
        "colab_type": "code",
        "outputId": "dbd7d4bd-9614-4b40-9e06-d757e070a2ca",
        "colab": {
          "base_uri": "https://localhost:8080/",
          "height": 105
        }
      },
      "source": [
        "sentences[:10]"
      ],
      "execution_count": 150,
      "outputs": [
        {
          "output_type": "execute_result",
          "data": {
            "text/plain": [
              "array([list(['остепеняться']), list(['трудолюбивый']),\n",
              "       list(['беспалевный']), list(['порядочный']),\n",
              "       list(['ответственнейший']), list(['солидность']),\n",
              "       list(['самостоятельность']), list(['немаловажность']),\n",
              "       list(['прогрессировать']), list(['легонький'])], dtype=object)"
            ]
          },
          "metadata": {
            "tags": []
          },
          "execution_count": 150
        }
      ]
    },
    {
      "cell_type": "code",
      "metadata": {
        "id": "tRHH9jgZdJdL",
        "colab_type": "code",
        "colab": {}
      },
      "source": [
        "VECTOR_SIZE = 200\n",
        "WINDOW_SIZE = 10\n",
        "MIN_COUNT = 3\n",
        "ITER_COUNT = 10\n",
        "WORKERS = 4"
      ],
      "execution_count": 0,
      "outputs": []
    },
    {
      "cell_type": "code",
      "metadata": {
        "id": "3qAMfHz6dOJG",
        "colab_type": "code",
        "colab": {}
      },
      "source": [
        "# Обучение модели Word2Vec\n",
        "word2vec_model = Word2Vec(sentences, min_count=1)"
      ],
      "execution_count": 0,
      "outputs": []
    },
    {
      "cell_type": "code",
      "metadata": {
        "id": "U9HDE5qbdRlm",
        "colab_type": "code",
        "outputId": "27c0f334-86b8-48e1-c09f-6f6913162dd0",
        "colab": {
          "base_uri": "https://localhost:8080/",
          "height": 283
        }
      },
      "source": [
        "word2vec_model.most_similar('сочувствие')"
      ],
      "execution_count": 147,
      "outputs": [
        {
          "output_type": "stream",
          "text": [
            "/usr/local/lib/python3.6/dist-packages/ipykernel_launcher.py:1: DeprecationWarning: Call to deprecated `most_similar` (Method will be removed in 4.0.0, use self.wv.most_similar() instead).\n",
            "  \"\"\"Entry point for launching an IPython kernel.\n",
            "/usr/local/lib/python3.6/dist-packages/gensim/matutils.py:737: FutureWarning: Conversion of the second argument of issubdtype from `int` to `np.signedinteger` is deprecated. In future, it will be treated as `np.int64 == np.dtype(int).type`.\n",
            "  if np.issubdtype(vec.dtype, np.int):\n"
          ],
          "name": "stderr"
        },
        {
          "output_type": "execute_result",
          "data": {
            "text/plain": [
              "[('надебоширить', 0.3837495446205139),\n",
              " ('размеренный', 0.35682412981987),\n",
              " ('отбомбиться', 0.33674871921539307),\n",
              " ('освободительница', 0.3266671299934387),\n",
              " ('рисовка', 0.324972540140152),\n",
              " ('вор', 0.32436603307724),\n",
              " ('безучастность', 0.32359713315963745),\n",
              " ('интеллигентный', 0.31809690594673157),\n",
              " ('зрелищность', 0.31505706906318665),\n",
              " ('неудачник', 0.3129994869232178)]"
            ]
          },
          "metadata": {
            "tags": []
          },
          "execution_count": 147
        }
      ]
    },
    {
      "cell_type": "code",
      "metadata": {
        "id": "hN9OHsS8hFK7",
        "colab_type": "code",
        "colab": {}
      },
      "source": [
        "# Преобразование названий классов в матрицу двоичных чисел (нужно для keras)\n",
        "def transform_to_categorical(tones_for_each, unique_tones, build_binary_matrix = True):\n",
        "  tones_to_digit = []\n",
        "\n",
        "  for tone in tones_for_each:\n",
        "    tones_to_digit.append(unique_tones.index(tone))\n",
        "\n",
        "  if build_binary_matrix:\n",
        "    tones_to_digit = to_categorical(tones_to_digit, len(unique_tones))\n",
        "  \n",
        "  return tones_to_digit"
      ],
      "execution_count": 0,
      "outputs": []
    },
    {
      "cell_type": "code",
      "metadata": {
        "id": "FqYc-kQPhgjZ",
        "colab_type": "code",
        "colab": {}
      },
      "source": [
        "# Преобразование номеров классов в названия классов\n",
        "def transform_from_categorical(prediction, unique_tones):\n",
        "  answers = []\n",
        "\n",
        "  for i in range(prediction.shape[0]):\n",
        "    answers.append(unique_tones[prediction[i]])\n",
        "\n",
        "  return answers"
      ],
      "execution_count": 0,
      "outputs": []
    },
    {
      "cell_type": "code",
      "metadata": {
        "id": "MrKrZMukhgg-",
        "colab_type": "code",
        "colab": {}
      },
      "source": [
        "def get_model(word2vec_model, COUNT_CLASSES):\n",
        "    model = Sequential() \n",
        "    model.add(word2vec_model.wv.get_keras_embedding(train_embeddings = True))\n",
        "    \n",
        "    model.add(Dropout(0.2))\n",
        "\n",
        "    model.add(Conv1D(50,\n",
        "                 3,\n",
        "                 padding = 'valid',\n",
        "                 activation = 'relu',\n",
        "                 strides = 1))\n",
        "    model.add(GlobalMaxPooling1D())\n",
        "\n",
        "    model.add(Dense(250))\n",
        "    model.add(Dropout(0.2))\n",
        "    model.add(Activation('relu'))\n",
        "\n",
        "    model.add(Dense(COUNT_CLASSES, activation = 'softmax'))\n",
        "\n",
        "    model.compile(loss = 'categorical_crossentropy', optimizer = 'adam', metrics = ['accuracy'])\n",
        "  \n",
        "    return model"
      ],
      "execution_count": 0,
      "outputs": []
    },
    {
      "cell_type": "code",
      "metadata": {
        "id": "OKHd2x7phsVZ",
        "colab_type": "code",
        "colab": {}
      },
      "source": [
        "tokenizer = Tokenizer()\n",
        "tokenizer.fit_on_texts(sentences)\n",
        "\n",
        "# Преобразование всех текстов в числовые последовательности, заменяя слова на числа по словарю.\n",
        "text = tokenizer.texts_to_sequences(sentences)\n",
        "text = pad_sequences(text, maxlen = 11)"
      ],
      "execution_count": 0,
      "outputs": []
    },
    {
      "cell_type": "code",
      "metadata": {
        "id": "YjKLKp24hvUg",
        "colab_type": "code",
        "colab": {}
      },
      "source": [
        "X_train, X_test, y_train, y_test = train_test_split(text, data.tone, test_size = 0.2)"
      ],
      "execution_count": 0,
      "outputs": []
    },
    {
      "cell_type": "code",
      "metadata": {
        "id": "yR63r577iRPY",
        "colab_type": "code",
        "colab": {}
      },
      "source": [
        "y_train = transform_to_categorical(y_train, unique_tones.tolist())"
      ],
      "execution_count": 0,
      "outputs": []
    },
    {
      "cell_type": "code",
      "metadata": {
        "id": "nEpVBbipia5W",
        "colab_type": "code",
        "colab": {}
      },
      "source": [
        "COUNT_CLASSES = unique_tones.shape[0]"
      ],
      "execution_count": 0,
      "outputs": []
    },
    {
      "cell_type": "code",
      "metadata": {
        "id": "M09m6Uelie42",
        "colab_type": "code",
        "outputId": "d3766232-f903-4187-e45c-18fb12d6c278",
        "colab": {
          "base_uri": "https://localhost:8080/",
          "height": 439
        }
      },
      "source": [
        "keras_model = get_model(word2vec_model, COUNT_CLASSES)\n",
        "keras_model.summary()"
      ],
      "execution_count": 51,
      "outputs": [
        {
          "output_type": "stream",
          "text": [
            "Model: \"sequential_4\"\n",
            "_________________________________________________________________\n",
            "Layer (type)                 Output Shape              Param #   \n",
            "=================================================================\n",
            "embedding_4 (Embedding)      (None, None, 100)         1074700   \n",
            "_________________________________________________________________\n",
            "dropout_7 (Dropout)          (None, None, 100)         0         \n",
            "_________________________________________________________________\n",
            "conv1d_4 (Conv1D)            (None, None, 50)          15050     \n",
            "_________________________________________________________________\n",
            "global_max_pooling1d_4 (Glob (None, 50)                0         \n",
            "_________________________________________________________________\n",
            "dense_7 (Dense)              (None, 250)               12750     \n",
            "_________________________________________________________________\n",
            "dropout_8 (Dropout)          (None, 250)               0         \n",
            "_________________________________________________________________\n",
            "activation_4 (Activation)    (None, 250)               0         \n",
            "_________________________________________________________________\n",
            "dense_8 (Dense)              (None, 3)                 753       \n",
            "=================================================================\n",
            "Total params: 1,103,253\n",
            "Trainable params: 1,103,253\n",
            "Non-trainable params: 0\n",
            "_________________________________________________________________\n"
          ],
          "name": "stdout"
        }
      ]
    },
    {
      "cell_type": "code",
      "metadata": {
        "id": "XiM41Jm4ijDp",
        "colab_type": "code",
        "colab": {}
      },
      "source": [
        "BATCH = 32\n",
        "EPOCHS_COUNT = 10"
      ],
      "execution_count": 0,
      "outputs": []
    },
    {
      "cell_type": "code",
      "metadata": {
        "id": "dslxtHdOika1",
        "colab_type": "code",
        "outputId": "b598019d-a824-4731-c042-75e7a8f02440",
        "colab": {
          "base_uri": "https://localhost:8080/",
          "height": 404
        }
      },
      "source": [
        "keras_model.fit(X_train, y_train, batch_size = BATCH, epochs = EPOCHS_COUNT, validation_split = 0.2)"
      ],
      "execution_count": 52,
      "outputs": [
        {
          "output_type": "stream",
          "text": [
            "Train on 6827 samples, validate on 1707 samples\n",
            "Epoch 1/10\n",
            "6827/6827 [==============================] - 5s 696us/step - loss: 0.8334 - acc: 0.6646 - val_loss: 0.7777 - val_acc: 0.6819\n",
            "Epoch 2/10\n",
            "6827/6827 [==============================] - 4s 600us/step - loss: 0.7096 - acc: 0.6930 - val_loss: 0.8066 - val_acc: 0.6825\n",
            "Epoch 3/10\n",
            "6827/6827 [==============================] - 4s 601us/step - loss: 0.1926 - acc: 0.9184 - val_loss: 1.1043 - val_acc: 0.2607\n",
            "Epoch 4/10\n",
            "6827/6827 [==============================] - 4s 592us/step - loss: 0.0236 - acc: 0.9959 - val_loss: 3.8325 - val_acc: 0.2613\n",
            "Epoch 5/10\n",
            "6827/6827 [==============================] - 4s 598us/step - loss: 0.0030 - acc: 0.9996 - val_loss: 2.1686 - val_acc: 0.2613\n",
            "Epoch 6/10\n",
            "6827/6827 [==============================] - 4s 600us/step - loss: 0.0026 - acc: 0.9996 - val_loss: 3.1099 - val_acc: 0.2613\n",
            "Epoch 7/10\n",
            "6827/6827 [==============================] - 4s 592us/step - loss: 0.0028 - acc: 0.9994 - val_loss: 3.1963 - val_acc: 0.2613\n",
            "Epoch 8/10\n",
            "6827/6827 [==============================] - 4s 585us/step - loss: 0.0024 - acc: 0.9994 - val_loss: 2.9884 - val_acc: 0.2613\n",
            "Epoch 9/10\n",
            "6827/6827 [==============================] - 4s 592us/step - loss: 0.0018 - acc: 0.9996 - val_loss: 2.9708 - val_acc: 0.2613\n",
            "Epoch 10/10\n",
            "6827/6827 [==============================] - 4s 584us/step - loss: 0.0016 - acc: 0.9996 - val_loss: 1.9079 - val_acc: 0.2613\n"
          ],
          "name": "stdout"
        },
        {
          "output_type": "execute_result",
          "data": {
            "text/plain": [
              "<keras.callbacks.History at 0x7f9d84dbd748>"
            ]
          },
          "metadata": {
            "tags": []
          },
          "execution_count": 52
        }
      ]
    },
    {
      "cell_type": "code",
      "metadata": {
        "id": "ekLETE1Uo9Us",
        "colab_type": "code",
        "colab": {}
      },
      "source": [
        "test = ['супер', 'классно', 'безупречный', 'убожество', 'убивать', 'нормально', 'ужас', 'отстой', 'шедевр'] "
      ],
      "execution_count": 0,
      "outputs": []
    },
    {
      "cell_type": "code",
      "metadata": {
        "id": "wXYoaRR3pFGj",
        "colab_type": "code",
        "colab": {}
      },
      "source": [
        "#test_texts = np.array(test.apply(lambda x : tokenize(x)))\n",
        "sequences_test = tokenizer.texts_to_sequences(test)\n",
        "X_predict = pad_sequences(sequences_test, maxlen = X_train.shape[1])"
      ],
      "execution_count": 0,
      "outputs": []
    },
    {
      "cell_type": "code",
      "metadata": {
        "id": "75HuN9ESpdEU",
        "colab_type": "code",
        "colab": {}
      },
      "source": [
        "prediction = keras_model.predict_classes(X_predict)"
      ],
      "execution_count": 0,
      "outputs": []
    },
    {
      "cell_type": "code",
      "metadata": {
        "id": "77xu-b32pirG",
        "colab_type": "code",
        "outputId": "b4e55509-9949-40f5-f90b-6ebaa5b3971b",
        "colab": {
          "base_uri": "https://localhost:8080/",
          "height": 175
        }
      },
      "source": [
        "answers = transform_from_categorical(prediction, unique_tones.tolist()) \n",
        "answers"
      ],
      "execution_count": 157,
      "outputs": [
        {
          "output_type": "execute_result",
          "data": {
            "text/plain": [
              "['positive',\n",
              " 'neutral',\n",
              " 'positive',\n",
              " 'negative',\n",
              " 'negative',\n",
              " 'neutral',\n",
              " 'negative',\n",
              " 'negative',\n",
              " 'positive']"
            ]
          },
          "metadata": {
            "tags": []
          },
          "execution_count": 157
        }
      ]
    },
    {
      "cell_type": "code",
      "metadata": {
        "id": "MsYxKJIYuU2E",
        "colab_type": "code",
        "colab": {}
      },
      "source": [
        "keras_model.save('drive/My Drive/keras_sentiment_new.h5')"
      ],
      "execution_count": 0,
      "outputs": []
    },
    {
      "cell_type": "markdown",
      "metadata": {
        "id": "F-OEMFvKZdj8",
        "colab_type": "text"
      },
      "source": [
        "# Попробуем классифицировать с помощью keras наш словарь"
      ]
    },
    {
      "cell_type": "code",
      "metadata": {
        "id": "O2SkCxnRZtMC",
        "colab_type": "code",
        "colab": {}
      },
      "source": [
        "# загружаем глаголы из json файла\n",
        "with open('drive/My Drive/verb.json', 'r', encoding='utf-8') as f:\n",
        "    verbs = json.load(f)"
      ],
      "execution_count": 0,
      "outputs": []
    },
    {
      "cell_type": "code",
      "metadata": {
        "id": "dSI62hGbalYo",
        "colab_type": "code",
        "colab": {
          "base_uri": "https://localhost:8080/",
          "height": 193
        },
        "outputId": "5547f738-4f1b-4a47-c4f9-ae653357fd33"
      },
      "source": [
        "words = []\n",
        "for verb in verbs:\n",
        "  words.append(verb[0])\n",
        "\n",
        "from itertools import islice\n",
        "list(islice(words, 150, 160))"
      ],
      "execution_count": 164,
      "outputs": [
        {
          "output_type": "execute_result",
          "data": {
            "text/plain": [
              "['становиться',\n",
              " 'помогать',\n",
              " 'жрать',\n",
              " 'подключить',\n",
              " 'пытаться',\n",
              " 'бояться',\n",
              " 'помочь',\n",
              " 'смотреться',\n",
              " 'удалить',\n",
              " 'разъесть']"
            ]
          },
          "metadata": {
            "tags": []
          },
          "execution_count": 164
        }
      ]
    },
    {
      "cell_type": "code",
      "metadata": {
        "id": "ZONJiLDcbg4C",
        "colab_type": "code",
        "colab": {}
      },
      "source": [
        "sequences_words = tokenizer.texts_to_sequences(words)\n",
        "X_predict = pad_sequences(sequences_words, maxlen = X_train.shape[1])"
      ],
      "execution_count": 0,
      "outputs": []
    },
    {
      "cell_type": "code",
      "metadata": {
        "id": "lvSDJQDTbp_I",
        "colab_type": "code",
        "colab": {}
      },
      "source": [
        "prediction = keras_model.predict_classes(X_predict)"
      ],
      "execution_count": 0,
      "outputs": []
    },
    {
      "cell_type": "code",
      "metadata": {
        "id": "rMzHbVzRcqLN",
        "colab_type": "code",
        "colab": {
          "base_uri": "https://localhost:8080/",
          "height": 193
        },
        "outputId": "5672a418-2185-4ac5-dda6-497265c4facb"
      },
      "source": [
        "answers = transform_from_categorical(prediction, unique_tones.tolist()) \n",
        "list(islice(answers, 150, 160))"
      ],
      "execution_count": 165,
      "outputs": [
        {
          "output_type": "execute_result",
          "data": {
            "text/plain": [
              "['neutral',\n",
              " 'positive',\n",
              " 'neutral',\n",
              " 'neutral',\n",
              " 'neutral',\n",
              " 'negative',\n",
              " 'positive',\n",
              " 'neutral',\n",
              " 'neutral',\n",
              " 'neutral']"
            ]
          },
          "metadata": {
            "tags": []
          },
          "execution_count": 165
        }
      ]
    },
    {
      "cell_type": "code",
      "metadata": {
        "id": "3xsi0i_3dRyv",
        "colab_type": "code",
        "colab": {}
      },
      "source": [
        "# создадим словарь\n",
        "new_dictionary = { \"verbs\":[]}\n",
        "\n",
        "for i in range(0, len(answers)):\n",
        "  verbs_dict = {}\n",
        "  verbs_dict[words[i]] = answers[i]\n",
        "  new_dictionary[\"verbs\"].append(verbs_dict)\n"
      ],
      "execution_count": 0,
      "outputs": []
    },
    {
      "cell_type": "code",
      "metadata": {
        "id": "xkIPTlSvgY7B",
        "colab_type": "code",
        "colab": {
          "base_uri": "https://localhost:8080/",
          "height": 193
        },
        "outputId": "9cf58d11-df46-4e6e-bcae-ff9cacc48ed6"
      },
      "source": [
        "list(islice(new_dictionary[\"verbs\"], 150, 160))"
      ],
      "execution_count": 175,
      "outputs": [
        {
          "output_type": "execute_result",
          "data": {
            "text/plain": [
              "[{'становиться': 'neutral'},\n",
              " {'помогать': 'positive'},\n",
              " {'жрать': 'neutral'},\n",
              " {'подключить': 'neutral'},\n",
              " {'пытаться': 'neutral'},\n",
              " {'бояться': 'negative'},\n",
              " {'помочь': 'positive'},\n",
              " {'смотреться': 'neutral'},\n",
              " {'удалить': 'neutral'},\n",
              " {'разъесть': 'neutral'}]"
            ]
          },
          "metadata": {
            "tags": []
          },
          "execution_count": 175
        }
      ]
    },
    {
      "cell_type": "code",
      "metadata": {
        "id": "JKVVJczRgv-j",
        "colab_type": "code",
        "colab": {}
      },
      "source": [
        "with open('drive/My Drive/dict_verbs.json', 'w', encoding='utf-8') as f:\n",
        "    json.dump(new_dictionary, f, ensure_ascii=False, indent=4)"
      ],
      "execution_count": 0,
      "outputs": []
    },
    {
      "cell_type": "markdown",
      "metadata": {
        "id": "1lcoiOlZ6I_D",
        "colab_type": "text"
      },
      "source": [
        "# Применим Word2Vec модель для создания словаря из полученных отзывов"
      ]
    },
    {
      "cell_type": "code",
      "metadata": {
        "id": "a1c8v3O-8rVW",
        "colab_type": "code",
        "colab": {}
      },
      "source": [
        "import json"
      ],
      "execution_count": 0,
      "outputs": []
    },
    {
      "cell_type": "code",
      "metadata": {
        "id": "qqqjHJo78vCA",
        "colab_type": "code",
        "colab": {}
      },
      "source": [
        "# загружаем исходные отзывы из json файла\n",
        "with open('drive/My Drive/review_db.json', 'r', encoding='utf-8') as f:\n",
        "    reviews = json.load(f)\n"
      ],
      "execution_count": 0,
      "outputs": []
    },
    {
      "cell_type": "code",
      "metadata": {
        "id": "Q3oOtK1r6O-g",
        "colab_type": "code",
        "colab": {
          "base_uri": "https://localhost:8080/",
          "height": 54
        },
        "outputId": "48db7427-abcf-4786-8902-25742cf0ef95"
      },
      "source": [
        "reviews[:1]"
      ],
      "execution_count": 81,
      "outputs": [
        {
          "output_type": "execute_result",
          "data": {
            "text/plain": [
              "['Телефон классный. Перечисляю достоинства.\\n- Не глючит, довольно шустрый\\n- Офигенный дизайн (мой - черный с оранжевым - супер! серый с черным фигня =) )\\n- Стандартный браузер хороший, не особо привередливые пользователи могут даже не ставить оперу =)\\n- Естессна сеть 3G и WiFi\\n- Аккумулятор хороший, долго держит. Я - человек, который постоянно серфит по инету и юзает приложения и у меня этот тел держит дней 6.\\n- Игры и приложения идут абсолютно все (если конечно качать с нуждны разрешением экрана)\\nИ еще много-много плюсов! Их мало. Можно пересчитать по пальцам.\\n1) WiFi подключается к точке только на относительно близком расстоянии (но потом при удалении от точки держит в радиусе ее действия)\\n2) Стандартный браузер не может загрузить ооооочень большие страницы и иногда, чтобы освободить память берет и удбирает виджеты. Но это не страшно\\n3) Маркий экран, от которого спасает пленка или постоянное натирание Советую всем, кому нужен сенсорный телефон с хорошими функционалом и мощностью, а не смартфон. Кому нужен офисный смартфон еще мощнее - двигайтесь дальше до Wave, а то и Galaxy. При наличии рук, растущих и ужного места, можно скачать несколько приложений и таким образом полностью подогнать тел под себя. Меня телефончик полностью кстроил.']"
            ]
          },
          "metadata": {
            "tags": []
          },
          "execution_count": 81
        }
      ]
    },
    {
      "cell_type": "code",
      "metadata": {
        "id": "dDgYpxJe9kvf",
        "colab_type": "code",
        "colab": {}
      },
      "source": [
        "sentences_review = []\n",
        "for review in reviews:\n",
        "   sentences_review.append(tokenize(review))"
      ],
      "execution_count": 0,
      "outputs": []
    },
    {
      "cell_type": "code",
      "metadata": {
        "id": "STAKqoMM-jIL",
        "colab_type": "code",
        "colab": {}
      },
      "source": [
        "# Обучение модели Word2Vec\n",
        "word2vec_model_review = Word2Vec(sentences_review, min_count=1)"
      ],
      "execution_count": 0,
      "outputs": []
    },
    {
      "cell_type": "code",
      "metadata": {
        "id": "kI7kcsyQ-5WI",
        "colab_type": "code",
        "colab": {
          "base_uri": "https://localhost:8080/",
          "height": 283
        },
        "outputId": "03b65f3d-6398-47e6-9c7e-2e5d67568062"
      },
      "source": [
        "word2vec_model_review.most_similar('дизайн')"
      ],
      "execution_count": 143,
      "outputs": [
        {
          "output_type": "stream",
          "text": [
            "/usr/local/lib/python3.6/dist-packages/ipykernel_launcher.py:1: DeprecationWarning: Call to deprecated `most_similar` (Method will be removed in 4.0.0, use self.wv.most_similar() instead).\n",
            "  \"\"\"Entry point for launching an IPython kernel.\n",
            "/usr/local/lib/python3.6/dist-packages/gensim/matutils.py:737: FutureWarning: Conversion of the second argument of issubdtype from `int` to `np.signedinteger` is deprecated. In future, it will be treated as `np.int64 == np.dtype(int).type`.\n",
            "  if np.issubdtype(vec.dtype, np.int):\n"
          ],
          "name": "stderr"
        },
        {
          "output_type": "execute_result",
          "data": {
            "text/plain": [
              "[('размер', 0.9689140319824219),\n",
              " ('изящный', 0.9631415605545044),\n",
              " ('стильный', 0.9618616104125977),\n",
              " ('солидный', 0.961808443069458),\n",
              " ('достаточная', 0.9579108357429504),\n",
              " ('симпатичный', 0.9563395977020264),\n",
              " ('качественная', 0.956101655960083),\n",
              " ('легкий', 0.9552664756774902),\n",
              " ('первоклассника', 0.9550947546958923),\n",
              " ('эргономичный', 0.9536789655685425)]"
            ]
          },
          "metadata": {
            "tags": []
          },
          "execution_count": 143
        }
      ]
    },
    {
      "cell_type": "code",
      "metadata": {
        "id": "PP2atMf1_cS4",
        "colab_type": "code",
        "colab": {
          "base_uri": "https://localhost:8080/",
          "height": 283
        },
        "outputId": "fff483e0-f62c-4ff4-b6ba-b3a27271e0cb"
      },
      "source": [
        "word2vec_model_review.most_similar('недостаток')"
      ],
      "execution_count": 108,
      "outputs": [
        {
          "output_type": "stream",
          "text": [
            "/usr/local/lib/python3.6/dist-packages/ipykernel_launcher.py:1: DeprecationWarning: Call to deprecated `most_similar` (Method will be removed in 4.0.0, use self.wv.most_similar() instead).\n",
            "  \"\"\"Entry point for launching an IPython kernel.\n",
            "/usr/local/lib/python3.6/dist-packages/gensim/matutils.py:737: FutureWarning: Conversion of the second argument of issubdtype from `int` to `np.signedinteger` is deprecated. In future, it will be treated as `np.int64 == np.dtype(int).type`.\n",
            "  if np.issubdtype(vec.dtype, np.int):\n"
          ],
          "name": "stderr"
        },
        {
          "output_type": "execute_result",
          "data": {
            "text/plain": [
              "[('минус', 0.9697523713111877),\n",
              " ('существенный', 0.9671847224235535),\n",
              " ('главный', 0.9629782438278198),\n",
              " ('единственный', 0.9351491928100586),\n",
              " ('запредельная', 0.9290320873260498),\n",
              " ('незначительный', 0.9287176728248596),\n",
              " ('невесомый', 0.9276562929153442),\n",
              " ('несомненный', 0.924570620059967),\n",
              " ('самый', 0.9151096940040588),\n",
              " ('это', 0.9135830402374268)]"
            ]
          },
          "metadata": {
            "tags": []
          },
          "execution_count": 108
        }
      ]
    }
  ]
}