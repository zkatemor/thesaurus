{
  "nbformat": 4,
  "nbformat_minor": 0,
  "metadata": {
    "colab": {
      "name": "word2vec_keras.ipynb",
      "provenance": [],
      "include_colab_link": true
    },
    "kernelspec": {
      "name": "python3",
      "display_name": "Python 3"
    }
  },
  "cells": [
    {
      "cell_type": "markdown",
      "metadata": {
        "id": "view-in-github",
        "colab_type": "text"
      },
      "source": [
        "<a href=\"https://colab.research.google.com/github/zkatemor/thesaurus/blob/word2vec_keras_sample/word2vec_keras.ipynb\" target=\"_parent\"><img src=\"https://colab.research.google.com/assets/colab-badge.svg\" alt=\"Open In Colab\"/></a>"
      ]
    },
    {
      "cell_type": "markdown",
      "metadata": {
        "id": "vaq3s-RdPBlJ",
        "colab_type": "text"
      },
      "source": [
        "# Обучение тональностям слов, применяя словарь RuSentiLex"
      ]
    },
    {
      "cell_type": "code",
      "metadata": {
        "id": "UUlFeqrmNF0o",
        "colab_type": "code",
        "outputId": "bd6ab794-1b7b-4645-fa45-2916f57eacd8",
        "colab": {
          "base_uri": "https://localhost:8080/",
          "height": 125
        }
      },
      "source": [
        "from google.colab import drive\n",
        "drive.mount('/content/drive')"
      ],
      "execution_count": 1,
      "outputs": [
        {
          "output_type": "stream",
          "text": [
            "Go to this URL in a browser: https://accounts.google.com/o/oauth2/auth?client_id=947318989803-6bn6qk8qdgf4n4g3pfee6491hc0brc4i.apps.googleusercontent.com&redirect_uri=urn%3aietf%3awg%3aoauth%3a2.0%3aoob&response_type=code&scope=email%20https%3a%2f%2fwww.googleapis.com%2fauth%2fdocs.test%20https%3a%2f%2fwww.googleapis.com%2fauth%2fdrive%20https%3a%2f%2fwww.googleapis.com%2fauth%2fdrive.photos.readonly%20https%3a%2f%2fwww.googleapis.com%2fauth%2fpeopleapi.readonly\n",
            "\n",
            "Enter your authorization code:\n",
            "··········\n",
            "Mounted at /content/drive\n"
          ],
          "name": "stdout"
        }
      ]
    },
    {
      "cell_type": "code",
      "metadata": {
        "id": "Dr6gbkkcNd9W",
        "colab_type": "code",
        "colab": {}
      },
      "source": [
        "import gensim\n",
        "import nltk\n",
        "from nltk.corpus import stopwords\n",
        "from gensim.models import Word2Vec\n",
        "import pandas as pd\n",
        "import numpy as np\n",
        "import keras\n",
        "from keras.preprocessing.text import Tokenizer\n",
        "from keras.preprocessing.sequence import pad_sequences\n",
        "from keras.models import Sequential\n",
        "from keras.layers import Dense, Flatten, Embedding, Dropout, Conv1D, GlobalMaxPooling1D, Activation, SpatialDropout1D\n",
        "from keras.models import Model\n",
        "import sklearn\n",
        "from sklearn.model_selection import train_test_split\n",
        "from keras.utils import to_categorical\n",
        "from keras.models import save_model, load_model\n",
        "from keras.callbacks import ModelCheckpoint\n",
        "from nltk.tokenize import RegexpTokenizer\n",
        "import seaborn as sn\n",
        "from sklearn.metrics import classification_report"
      ],
      "execution_count": 0,
      "outputs": []
    },
    {
      "cell_type": "code",
      "metadata": {
        "id": "vdz00TmVNo0z",
        "colab_type": "code",
        "outputId": "b6f151a4-e9fe-441e-a84a-cb3bb0b1e18e",
        "colab": {
          "base_uri": "https://localhost:8080/",
          "height": 105
        }
      },
      "source": [
        "nltk.download('punkt')\n",
        "nltk.download('stopwords')"
      ],
      "execution_count": 3,
      "outputs": [
        {
          "output_type": "stream",
          "text": [
            "[nltk_data] Downloading package punkt to /root/nltk_data...\n",
            "[nltk_data]   Unzipping tokenizers/punkt.zip.\n",
            "[nltk_data] Downloading package stopwords to /root/nltk_data...\n",
            "[nltk_data]   Unzipping corpora/stopwords.zip.\n"
          ],
          "name": "stdout"
        },
        {
          "output_type": "execute_result",
          "data": {
            "text/plain": [
              "True"
            ]
          },
          "metadata": {
            "tags": []
          },
          "execution_count": 3
        }
      ]
    },
    {
      "cell_type": "code",
      "metadata": {
        "id": "nOMXflTHNPYV",
        "colab_type": "code",
        "colab": {}
      },
      "source": [
        "data = pd.read_excel('drive/My Drive/rusentilex.xlsx', sheet_name='Лист1')"
      ],
      "execution_count": 0,
      "outputs": []
    },
    {
      "cell_type": "code",
      "metadata": {
        "id": "IysfsT6pTqs5",
        "colab_type": "code",
        "outputId": "3eb14057-56ad-40b2-a177-f97eade6fe9b",
        "colab": {
          "base_uri": "https://localhost:8080/",
          "height": 34
        }
      },
      "source": [
        "len(data['слово'])"
      ],
      "execution_count": 154,
      "outputs": [
        {
          "output_type": "execute_result",
          "data": {
            "text/plain": [
              "16054"
            ]
          },
          "metadata": {
            "tags": []
          },
          "execution_count": 154
        }
      ]
    },
    {
      "cell_type": "code",
      "metadata": {
        "id": "uLjpqUo3YPpa",
        "colab_type": "code",
        "outputId": "277f0673-b09e-4e8f-ad30-36c6d94e87cc",
        "colab": {
          "base_uri": "https://localhost:8080/",
          "height": 225
        }
      },
      "source": [
        "data[:6]"
      ],
      "execution_count": 155,
      "outputs": [
        {
          "output_type": "execute_result",
          "data": {
            "text/html": [
              "<div>\n",
              "<style scoped>\n",
              "    .dataframe tbody tr th:only-of-type {\n",
              "        vertical-align: middle;\n",
              "    }\n",
              "\n",
              "    .dataframe tbody tr th {\n",
              "        vertical-align: top;\n",
              "    }\n",
              "\n",
              "    .dataframe thead th {\n",
              "        text-align: right;\n",
              "    }\n",
              "</style>\n",
              "<table border=\"1\" class=\"dataframe\">\n",
              "  <thead>\n",
              "    <tr style=\"text-align: right;\">\n",
              "      <th></th>\n",
              "      <th>слово</th>\n",
              "      <th>часть речи</th>\n",
              "      <th>нормальная форма</th>\n",
              "      <th>тональность</th>\n",
              "      <th>источник</th>\n",
              "    </tr>\n",
              "  </thead>\n",
              "  <tbody>\n",
              "    <tr>\n",
              "      <th>0</th>\n",
              "      <td>аборт</td>\n",
              "      <td>Noun</td>\n",
              "      <td>аборт</td>\n",
              "      <td>negative</td>\n",
              "      <td>fact</td>\n",
              "    </tr>\n",
              "    <tr>\n",
              "      <th>1</th>\n",
              "      <td>абортивный</td>\n",
              "      <td>Adj</td>\n",
              "      <td>абортивный</td>\n",
              "      <td>negative</td>\n",
              "      <td>fact</td>\n",
              "    </tr>\n",
              "    <tr>\n",
              "      <th>2</th>\n",
              "      <td>абракадабра</td>\n",
              "      <td>Noun</td>\n",
              "      <td>абракадабра</td>\n",
              "      <td>negative</td>\n",
              "      <td>opinion</td>\n",
              "    </tr>\n",
              "    <tr>\n",
              "      <th>3</th>\n",
              "      <td>абсурд</td>\n",
              "      <td>Noun</td>\n",
              "      <td>абсурд</td>\n",
              "      <td>negative</td>\n",
              "      <td>opinion</td>\n",
              "    </tr>\n",
              "    <tr>\n",
              "      <th>4</th>\n",
              "      <td>абсурдность</td>\n",
              "      <td>Noun</td>\n",
              "      <td>абсурдность</td>\n",
              "      <td>negative</td>\n",
              "      <td>opinion</td>\n",
              "    </tr>\n",
              "    <tr>\n",
              "      <th>5</th>\n",
              "      <td>абсурдный</td>\n",
              "      <td>Adj</td>\n",
              "      <td>абсурдный</td>\n",
              "      <td>negative</td>\n",
              "      <td>opinion</td>\n",
              "    </tr>\n",
              "  </tbody>\n",
              "</table>\n",
              "</div>"
            ],
            "text/plain": [
              "         слово часть речи нормальная форма тональность источник\n",
              "0        аборт       Noun            аборт    negative     fact\n",
              "1   абортивный        Adj       абортивный    negative     fact\n",
              "2  абракадабра       Noun      абракадабра    negative  opinion\n",
              "3       абсурд       Noun           абсурд    negative  opinion\n",
              "4  абсурдность       Noun      абсурдность    negative  opinion\n",
              "5    абсурдный        Adj        абсурдный    negative  opinion"
            ]
          },
          "metadata": {
            "tags": []
          },
          "execution_count": 155
        }
      ]
    },
    {
      "cell_type": "code",
      "metadata": {
        "id": "I7eJ7jCXYT2C",
        "colab_type": "code",
        "colab": {
          "base_uri": "https://localhost:8080/",
          "height": 34
        },
        "outputId": "b54ff1b1-6f31-435d-c2a9-08c198976041"
      },
      "source": [
        "unique_tones = data['тональность'].unique()\n",
        "unique_tones"
      ],
      "execution_count": 156,
      "outputs": [
        {
          "output_type": "execute_result",
          "data": {
            "text/plain": [
              "array(['negative', 'neutral', 'positive'], dtype=object)"
            ]
          },
          "metadata": {
            "tags": []
          },
          "execution_count": 156
        }
      ]
    },
    {
      "cell_type": "code",
      "metadata": {
        "id": "0KjfMPnZYdGS",
        "colab_type": "code",
        "outputId": "89d2ffef-ba86-4df4-9fda-b06635a82392",
        "colab": {
          "base_uri": "https://localhost:8080/",
          "height": 282
        }
      },
      "source": [
        "data['тональность'].value_counts().plot(kind=\"bar\", rot = 0)"
      ],
      "execution_count": 158,
      "outputs": [
        {
          "output_type": "execute_result",
          "data": {
            "text/plain": [
              "<matplotlib.axes._subplots.AxesSubplot at 0x7f3ff2f5f2e8>"
            ]
          },
          "metadata": {
            "tags": []
          },
          "execution_count": 158
        },
        {
          "output_type": "display_data",
          "data": {
            "image/png": "[encoded data removed]",
            "text/plain": [
              "<Figure size 432x288 with 1 Axes>"
            ]
          },
          "metadata": {
            "tags": []
          }
        }
      ]
    },
    {
      "cell_type": "code",
      "metadata": {
        "id": "LM_QM4GIa2X7",
        "colab_type": "code",
        "outputId": "92c29873-2dfb-4ee6-c168-b1b7b67ad88b",
        "colab": {
          "base_uri": "https://localhost:8080/",
          "height": 87
        }
      },
      "source": [
        "data['тональность'].value_counts()"
      ],
      "execution_count": 159,
      "outputs": [
        {
          "output_type": "execute_result",
          "data": {
            "text/plain": [
              "negative    10232\n",
              "positive     4076\n",
              "neutral      1746\n",
              "Name: тональность, dtype: int64"
            ]
          },
          "metadata": {
            "tags": []
          },
          "execution_count": 159
        }
      ]
    },
    {
      "cell_type": "code",
      "metadata": {
        "id": "tspyGS-YcPyJ",
        "colab_type": "code",
        "colab": {
          "base_uri": "https://localhost:8080/",
          "height": 230
        },
        "outputId": "fd3622f3-2113-46ef-9144-2beee0544b4b"
      },
      "source": [
        "pip install pymorphy2"
      ],
      "execution_count": 13,
      "outputs": [
        {
          "output_type": "stream",
          "text": [
            "Collecting pymorphy2\n",
            "\u001b[?25l  Downloading https://files.pythonhosted.org/packages/a3/33/fff9675c68b5f6c63ec8c6e6ff57827dda28a1fa5b2c2d727dffff92dd47/pymorphy2-0.8-py2.py3-none-any.whl (46kB)\n",
            "\r\u001b[K     |███████                         | 10kB 18.6MB/s eta 0:00:01\r\u001b[K     |██████████████▏                 | 20kB 2.2MB/s eta 0:00:01\r\u001b[K     |█████████████████████▎          | 30kB 3.3MB/s eta 0:00:01\r\u001b[K     |████████████████████████████▍   | 40kB 2.1MB/s eta 0:00:01\r\u001b[K     |████████████████████████████████| 51kB 2.0MB/s \n",
            "\u001b[?25hCollecting dawg-python>=0.7\n",
            "  Downloading https://files.pythonhosted.org/packages/6a/84/ff1ce2071d4c650ec85745766c0047ccc3b5036f1d03559fd46bb38b5eeb/DAWG_Python-0.7.2-py2.py3-none-any.whl\n",
            "Requirement already satisfied: docopt>=0.6 in /usr/local/lib/python3.6/dist-packages (from pymorphy2) (0.6.2)\n",
            "Collecting pymorphy2-dicts<3.0,>=2.4\n",
            "\u001b[?25l  Downloading https://files.pythonhosted.org/packages/02/51/2465fd4f72328ab50877b54777764d928da8cb15b74e2680fc1bd8cb3173/pymorphy2_dicts-2.4.393442.3710985-py2.py3-none-any.whl (7.1MB)\n",
            "\u001b[K     |████████████████████████████████| 7.1MB 9.9MB/s \n",
            "\u001b[?25hInstalling collected packages: dawg-python, pymorphy2-dicts, pymorphy2\n",
            "Successfully installed dawg-python-0.7.2 pymorphy2-0.8 pymorphy2-dicts-2.4.393442.3710985\n"
          ],
          "name": "stdout"
        }
      ]
    },
    {
      "cell_type": "code",
      "metadata": {
        "id": "fEyhFUbkcSPw",
        "colab_type": "code",
        "colab": {}
      },
      "source": [
        "import pymorphy2"
      ],
      "execution_count": 0,
      "outputs": []
    },
    {
      "cell_type": "code",
      "metadata": {
        "id": "4e2om9FYcVTC",
        "colab_type": "code",
        "colab": {}
      },
      "source": [
        "morph = pymorphy2.MorphAnalyzer()"
      ],
      "execution_count": 0,
      "outputs": []
    },
    {
      "cell_type": "code",
      "metadata": {
        "id": "1SdratFBeEXP",
        "colab_type": "code",
        "colab": {}
      },
      "source": [
        "def tokenize(text):\n",
        "  regex_tokenizer = RegexpTokenizer('[а-яА-ЯЁё]+')\n",
        "  words = regex_tokenizer.tokenize(text.lower())\n",
        "  stop_words = set(stopwords.words(\"russian\"))\n",
        "  without_stop_words = [(morph.parse(w)[0]).normal_form for w in words if w not in stop_words and len(w) > 1]\n",
        "  output = [add_part_of_speech(word) for word in without_stop_words]\n",
        "  #print(output)\n",
        "  return output"
      ],
      "execution_count": 0,
      "outputs": []
    },
    {
      "cell_type": "code",
      "metadata": {
        "id": "aRQpZbOVcaRZ",
        "colab_type": "code",
        "colab": {}
      },
      "source": [
        "def add_part_of_speech(word):\n",
        "  morph = pymorphy2.MorphAnalyzer()\n",
        "  p = morph.parse(word)[0]\n",
        "  word += '_' + str(p.tag.POS)\n",
        "  return word"
      ],
      "execution_count": 0,
      "outputs": []
    },
    {
      "cell_type": "code",
      "metadata": {
        "id": "EhZ3Drzkaudq",
        "colab_type": "code",
        "colab": {}
      },
      "source": [
        "sentences = np.array(data['слово'].apply(lambda x : tokenize(x))) "
      ],
      "execution_count": 0,
      "outputs": []
    },
    {
      "cell_type": "code",
      "metadata": {
        "id": "QhW7js8Jew6B",
        "colab_type": "code",
        "outputId": "c7725245-5840-4e54-d6d5-ff817127dc2e",
        "colab": {
          "base_uri": "https://localhost:8080/",
          "height": 122
        }
      },
      "source": [
        "sentences[:10]"
      ],
      "execution_count": 165,
      "outputs": [
        {
          "output_type": "execute_result",
          "data": {
            "text/plain": [
              "array([list(['аборт_NOUN']), list(['абортивный_ADJF']),\n",
              "       list(['абракадабра_NOUN']), list(['абсурд_NOUN']),\n",
              "       list(['абсурдность_NOUN']), list(['абсурдный_ADJF']),\n",
              "       list(['авантюра_NOUN']), list(['авантюризм_NOUN']),\n",
              "       list(['авантюрист_NOUN']), list(['авантюристический_ADJF'])],\n",
              "      dtype=object)"
            ]
          },
          "metadata": {
            "tags": []
          },
          "execution_count": 165
        }
      ]
    },
    {
      "cell_type": "code",
      "metadata": {
        "id": "Adyl9A-VhWSq",
        "colab_type": "code",
        "colab": {}
      },
      "source": [
        "import collections\n",
        "counter = collections.Counter()\n",
        "\n",
        "#считаем максимальную длину предложений, а также частоту всех слов предложений, считанных из файла \n",
        "maxlen = 0\n",
        "for words in sentences:\n",
        "    if len(words) > maxlen:\n",
        "        maxlen = len(words)\n",
        "    for word in words:\n",
        "        counter[word] += 1"
      ],
      "execution_count": 0,
      "outputs": []
    },
    {
      "cell_type": "code",
      "metadata": {
        "id": "QPZwWenahiCT",
        "colab_type": "code",
        "colab": {}
      },
      "source": [
        "vocab_sz = len(counter) + 1 #кол-во различных слов в sentences"
      ],
      "execution_count": 0,
      "outputs": []
    },
    {
      "cell_type": "code",
      "metadata": {
        "id": "BRh5IAADhjPR",
        "colab_type": "code",
        "colab": {
          "base_uri": "https://localhost:8080/",
          "height": 34
        },
        "outputId": "426b13c3-8060-4585-d45b-1524dacddf21"
      },
      "source": [
        "vocab_sz"
      ],
      "execution_count": 168,
      "outputs": [
        {
          "output_type": "execute_result",
          "data": {
            "text/plain": [
              "12421"
            ]
          },
          "metadata": {
            "tags": []
          },
          "execution_count": 168
        }
      ]
    },
    {
      "cell_type": "code",
      "metadata": {
        "id": "hN9OHsS8hFK7",
        "colab_type": "code",
        "colab": {}
      },
      "source": [
        "# Преобразование названий классов в матрицу двоичных чисел (нужно для keras)\n",
        "def transform_to_categorical(tones_for_each, unique_tones, build_binary_matrix = True):\n",
        "  tones_to_digit = []\n",
        "\n",
        "  for tone in tones_for_each:\n",
        "    tones_to_digit.append(unique_tones.index(tone))\n",
        "\n",
        "  if build_binary_matrix:\n",
        "    tones_to_digit = to_categorical(tones_to_digit, len(unique_tones))\n",
        "  \n",
        "  return tones_to_digit"
      ],
      "execution_count": 0,
      "outputs": []
    },
    {
      "cell_type": "code",
      "metadata": {
        "id": "FqYc-kQPhgjZ",
        "colab_type": "code",
        "colab": {}
      },
      "source": [
        "# Преобразование номеров классов в названия классов\n",
        "def transform_from_categorical(prediction, unique_tones):\n",
        "  answers = []\n",
        "\n",
        "  for i in range(prediction.shape[0]):\n",
        "    answers.append(unique_tones[prediction[i]])\n",
        "\n",
        "  return answers"
      ],
      "execution_count": 0,
      "outputs": []
    },
    {
      "cell_type": "code",
      "metadata": {
        "id": "sDsFop_6hvX3",
        "colab_type": "code",
        "colab": {}
      },
      "source": [
        "# Создание единого словаря (слово -> число) для преобразования на основе списка текстов sentences\n",
        "tokenizer = Tokenizer()\n",
        "tokenizer.fit_on_texts(sentences)"
      ],
      "execution_count": 0,
      "outputs": []
    },
    {
      "cell_type": "code",
      "metadata": {
        "id": "uqSsXY0Ghx56",
        "colab_type": "code",
        "colab": {}
      },
      "source": [
        "X = tokenizer.texts_to_sequences(sentences) #заменяем слова каждого предложения на числа"
      ],
      "execution_count": 0,
      "outputs": []
    },
    {
      "cell_type": "code",
      "metadata": {
        "id": "VdITxr-jhyjB",
        "colab_type": "code",
        "colab": {}
      },
      "source": [
        "X = pad_sequences(X, maxlen = maxlen) #уравниваем все предложения до размера maxlen"
      ],
      "execution_count": 0,
      "outputs": []
    },
    {
      "cell_type": "code",
      "metadata": {
        "id": "sUOLpktvh1sG",
        "colab_type": "code",
        "colab": {}
      },
      "source": [
        "y = transform_to_categorical(data['тональность'], unique_tones.tolist())#заменяем названия тональностей на матрицу двоичных чисел"
      ],
      "execution_count": 0,
      "outputs": []
    },
    {
      "cell_type": "code",
      "metadata": {
        "id": "1dGVS3RuiY7W",
        "colab_type": "code",
        "colab": {}
      },
      "source": [
        "import gensim.downloader as api"
      ],
      "execution_count": 0,
      "outputs": []
    },
    {
      "cell_type": "code",
      "metadata": {
        "id": "kfIBarLRibVA",
        "colab_type": "code",
        "colab": {
          "base_uri": "https://localhost:8080/",
          "height": 72
        },
        "outputId": "56c2794d-1168-4de4-8be2-89fd04998378"
      },
      "source": [
        "model = api.load(\"word2vec-ruscorpora-300\")"
      ],
      "execution_count": 177,
      "outputs": [
        {
          "output_type": "stream",
          "text": [
            "/usr/local/lib/python3.6/dist-packages/smart_open/smart_open_lib.py:402: UserWarning: This function is deprecated, use smart_open.open instead. See the migration notes for details: https://github.com/RaRe-Technologies/smart_open/blob/master/README.rst#migrating-to-the-new-open-function\n",
            "  'See the migration notes for details: %s' % _MIGRATION_NOTES_URL\n"
          ],
          "name": "stderr"
        }
      ]
    },
    {
      "cell_type": "code",
      "metadata": {
        "id": "Z9HMOk8ZrU6t",
        "colab_type": "code",
        "colab": {
          "base_uri": "https://localhost:8080/",
          "height": 34
        },
        "outputId": "4ac95681-72d3-41d2-e220-67549a4398cd"
      },
      "source": [
        "len(model.vocab)"
      ],
      "execution_count": 178,
      "outputs": [
        {
          "output_type": "execute_result",
          "data": {
            "text/plain": [
              "184973"
            ]
          },
          "metadata": {
            "tags": []
          },
          "execution_count": 178
        }
      ]
    },
    {
      "cell_type": "code",
      "metadata": {
        "id": "9WbjctVDiK_R",
        "colab_type": "code",
        "colab": {}
      },
      "source": [
        "EMBED_SIZE = 300\n",
        "NUM_FILTERS = 512\n",
        "NUM_WORDS = 3\n",
        "BATCH_SIZE = 64\n",
        "NUM_EPOCHS = 10"
      ],
      "execution_count": 0,
      "outputs": []
    },
    {
      "cell_type": "code",
      "metadata": {
        "id": "_mdieUvYiR06",
        "colab_type": "code",
        "colab": {}
      },
      "source": [
        "embedding_weights = np.zeros((vocab_sz, EMBED_SIZE))#создаём матрицу размером размерность словаря*размерность вектора слова\n",
        "index = 0\n",
        "sorted_counter = counter.most_common() #сортируем слова по частоте встречаемости\n",
        "for word in sorted_counter:#для каждого слова из нашего словаря задаём вектор из model в матрицу\n",
        "    try:\n",
        "      embedding_weights[index, :] = model[word[0]] \n",
        "      index+=1     \n",
        "    except KeyError:#если нет слова в словаре model\n",
        "      index+=1\n",
        "      pass"
      ],
      "execution_count": 0,
      "outputs": []
    },
    {
      "cell_type": "code",
      "metadata": {
        "id": "eaAatXsGi3qZ",
        "colab_type": "code",
        "colab": {}
      },
      "source": [
        "COUNT_CLASSES = len(unique_tones)"
      ],
      "execution_count": 0,
      "outputs": []
    },
    {
      "cell_type": "code",
      "metadata": {
        "id": "XUp-yV9Bi_rO",
        "colab_type": "code",
        "colab": {}
      },
      "source": [
        "# Создание модели\n",
        "def get_model(COUNT_CLASSES, embedding_weights):\n",
        "  model = Sequential()\n",
        "  model.add(Embedding(vocab_sz, EMBED_SIZE, input_length = maxlen,\n",
        "                      weights = [embedding_weights],\n",
        "                      trainable = True))\n",
        "  model.add(SpatialDropout1D(0.2))\n",
        "  model.add(Conv1D(filters = NUM_FILTERS, kernel_size = NUM_WORDS,\n",
        "                  activation = \"relu\"))\n",
        "  model.add(GlobalMaxPooling1D())\n",
        "  model.add(Dense(1024))\n",
        "  model.add(Dropout(0.2))\n",
        "  model.add(Activation('relu'))\n",
        "  \n",
        "  model.add(Dense(COUNT_CLASSES, activation=\"softmax\"))\n",
        "\n",
        "  model.compile(optimizer = \"adam\", loss = \"categorical_crossentropy\",\n",
        "                metrics = [keras_metrics.categorical_f1_score()])\n",
        "  \n",
        "  return model"
      ],
      "execution_count": 0,
      "outputs": []
    },
    {
      "cell_type": "code",
      "metadata": {
        "id": "vAHT_YMEjRc5",
        "colab_type": "code",
        "colab": {
          "base_uri": "https://localhost:8080/",
          "height": 228
        },
        "outputId": "896ab5c2-77f4-4530-b5fe-cbcb0ada9ef2"
      },
      "source": [
        "pip install keras-metrics"
      ],
      "execution_count": 45,
      "outputs": [
        {
          "output_type": "stream",
          "text": [
            "Collecting keras-metrics\n",
            "  Downloading https://files.pythonhosted.org/packages/32/c9/a87420da8e73de944e63a8e9cdcfb1f03ca31a7c4cdcdbd45d2cdf13275a/keras_metrics-1.1.0-py2.py3-none-any.whl\n",
            "Requirement already satisfied: Keras>=2.1.5 in /usr/local/lib/python3.6/dist-packages (from keras-metrics) (2.2.5)\n",
            "Requirement already satisfied: pyyaml in /usr/local/lib/python3.6/dist-packages (from Keras>=2.1.5->keras-metrics) (3.13)\n",
            "Requirement already satisfied: keras-preprocessing>=1.1.0 in /usr/local/lib/python3.6/dist-packages (from Keras>=2.1.5->keras-metrics) (1.1.0)\n",
            "Requirement already satisfied: numpy>=1.9.1 in /usr/local/lib/python3.6/dist-packages (from Keras>=2.1.5->keras-metrics) (1.17.4)\n",
            "Requirement already satisfied: keras-applications>=1.0.8 in /usr/local/lib/python3.6/dist-packages (from Keras>=2.1.5->keras-metrics) (1.0.8)\n",
            "Requirement already satisfied: scipy>=0.14 in /usr/local/lib/python3.6/dist-packages (from Keras>=2.1.5->keras-metrics) (1.3.3)\n",
            "Requirement already satisfied: h5py in /usr/local/lib/python3.6/dist-packages (from Keras>=2.1.5->keras-metrics) (2.8.0)\n",
            "Requirement already satisfied: six>=1.9.0 in /usr/local/lib/python3.6/dist-packages (from Keras>=2.1.5->keras-metrics) (1.12.0)\n",
            "Installing collected packages: keras-metrics\n",
            "Successfully installed keras-metrics-1.1.0\n"
          ],
          "name": "stdout"
        }
      ]
    },
    {
      "cell_type": "code",
      "metadata": {
        "id": "XmrBuN1MjZ5L",
        "colab_type": "code",
        "colab": {}
      },
      "source": [
        "import keras_metrics"
      ],
      "execution_count": 0,
      "outputs": []
    },
    {
      "cell_type": "code",
      "metadata": {
        "id": "DVorlGR0jDWZ",
        "colab_type": "code",
        "colab": {}
      },
      "source": [
        "keras_model = get_model(COUNT_CLASSES, embedding_weights)"
      ],
      "execution_count": 0,
      "outputs": []
    },
    {
      "cell_type": "code",
      "metadata": {
        "id": "UGLJ14WtjbeO",
        "colab_type": "code",
        "colab": {
          "base_uri": "https://localhost:8080/",
          "height": 439
        },
        "outputId": "ede320b7-6c93-4e59-e38e-5ba27ddf47d9"
      },
      "source": [
        "keras_model.summary()"
      ],
      "execution_count": 184,
      "outputs": [
        {
          "output_type": "stream",
          "text": [
            "Model: \"sequential_7\"\n",
            "_________________________________________________________________\n",
            "Layer (type)                 Output Shape              Param #   \n",
            "=================================================================\n",
            "embedding_7 (Embedding)      (None, 4, 300)            3726300   \n",
            "_________________________________________________________________\n",
            "spatial_dropout1d_6 (Spatial (None, 4, 300)            0         \n",
            "_________________________________________________________________\n",
            "conv1d_6 (Conv1D)            (None, 2, 512)            461312    \n",
            "_________________________________________________________________\n",
            "global_max_pooling1d_6 (Glob (None, 512)               0         \n",
            "_________________________________________________________________\n",
            "dense_11 (Dense)             (None, 1024)              525312    \n",
            "_________________________________________________________________\n",
            "dropout_6 (Dropout)          (None, 1024)              0         \n",
            "_________________________________________________________________\n",
            "activation_6 (Activation)    (None, 1024)              0         \n",
            "_________________________________________________________________\n",
            "dense_12 (Dense)             (None, 3)                 3075      \n",
            "=================================================================\n",
            "Total params: 4,715,999\n",
            "Trainable params: 4,715,999\n",
            "Non-trainable params: 0\n",
            "_________________________________________________________________\n"
          ],
          "name": "stdout"
        }
      ]
    },
    {
      "cell_type": "code",
      "metadata": {
        "id": "N5-uZRXkjey7",
        "colab_type": "code",
        "colab": {}
      },
      "source": [
        "from sklearn.utils import shuffle"
      ],
      "execution_count": 0,
      "outputs": []
    },
    {
      "cell_type": "code",
      "metadata": {
        "id": "y25Z7TjHjivv",
        "colab_type": "code",
        "colab": {
          "base_uri": "https://localhost:8080/",
          "height": 34
        },
        "outputId": "a652a9c7-41c9-4cc0-98b7-ebc521e089cf"
      },
      "source": [
        "X_train, X_test, y_train, y_test = \\\n",
        "     train_test_split(X, y, test_size = 0.2)\n",
        "print(X_train.shape, X_test.shape, y_train.shape, y_test.shape)"
      ],
      "execution_count": 185,
      "outputs": [
        {
          "output_type": "stream",
          "text": [
            "(12843, 4) (3211, 4) (12843, 3) (3211, 3)\n"
          ],
          "name": "stdout"
        }
      ]
    },
    {
      "cell_type": "code",
      "metadata": {
        "id": "DBzZ7TYfjzsz",
        "colab_type": "code",
        "colab": {
          "base_uri": "https://localhost:8080/",
          "height": 386
        },
        "outputId": "164fcbf7-2737-4f59-bda4-0db7eb95e455"
      },
      "source": [
        "history = keras_model.fit(X_train, y_train, batch_size = BATCH_SIZE,\n",
        "                    epochs = NUM_EPOCHS,\n",
        "                    callbacks=[ModelCheckpoint('drive/My Drive/keras_model.h5', save_best_only = True)],\n",
        "                    validation_split = 0.2)"
      ],
      "execution_count": 186,
      "outputs": [
        {
          "output_type": "stream",
          "text": [
            "Train on 10274 samples, validate on 2569 samples\n",
            "Epoch 1/10\n",
            "10274/10274 [==============================] - 30s 3ms/step - loss: 0.8596 - f1_score: 0.7805 - val_loss: 0.8686 - val_f1_score: 0.7882\n",
            "Epoch 2/10\n",
            "10274/10274 [==============================] - 31s 3ms/step - loss: 0.5011 - f1_score: 0.9147 - val_loss: 0.8997 - val_f1_score: 0.7850\n",
            "Epoch 3/10\n",
            "10274/10274 [==============================] - 30s 3ms/step - loss: 0.2440 - f1_score: 0.9527 - val_loss: 1.1263 - val_f1_score: 0.5259\n",
            "Epoch 4/10\n",
            "10274/10274 [==============================] - 30s 3ms/step - loss: 0.1536 - f1_score: 0.9597 - val_loss: 1.2848 - val_f1_score: 0.7738\n",
            "Epoch 5/10\n",
            "10274/10274 [==============================] - 29s 3ms/step - loss: 0.1279 - f1_score: 0.9597 - val_loss: 1.2381 - val_f1_score: 0.7828\n",
            "Epoch 6/10\n",
            "10274/10274 [==============================] - 29s 3ms/step - loss: 0.1164 - f1_score: 0.9614 - val_loss: 1.4937 - val_f1_score: 0.5107\n",
            "Epoch 7/10\n",
            "10274/10274 [==============================] - 29s 3ms/step - loss: 0.1102 - f1_score: 0.9629 - val_loss: 1.5062 - val_f1_score: 0.5380\n",
            "Epoch 8/10\n",
            "10274/10274 [==============================] - 30s 3ms/step - loss: 0.1086 - f1_score: 0.9629 - val_loss: 1.5744 - val_f1_score: 0.4986\n",
            "Epoch 9/10\n",
            "10274/10274 [==============================] - 30s 3ms/step - loss: 0.1071 - f1_score: 0.9634 - val_loss: 1.6769 - val_f1_score: 0.4634\n",
            "Epoch 10/10\n",
            "10274/10274 [==============================] - 30s 3ms/step - loss: 0.1058 - f1_score: 0.9653 - val_loss: 1.5833 - val_f1_score: 0.7844\n"
          ],
          "name": "stdout"
        }
      ]
    },
    {
      "cell_type": "code",
      "metadata": {
        "id": "dM1AkpSslxqe",
        "colab_type": "code",
        "colab": {
          "base_uri": "https://localhost:8080/",
          "height": 52
        },
        "outputId": "408a2898-534d-4510-b377-aa35e6a0a657"
      },
      "source": [
        "score = keras_model.evaluate(X_test, y_test)\n",
        "print(\"Test accuracy: {:.3f}\".format(score[1]))"
      ],
      "execution_count": 209,
      "outputs": [
        {
          "output_type": "stream",
          "text": [
            "3211/3211 [==============================] - 0s 151us/step\n",
            "Test accuracy: 0.785\n"
          ],
          "name": "stdout"
        }
      ]
    },
    {
      "cell_type": "code",
      "metadata": {
        "id": "86p3q2LWl_1g",
        "colab_type": "code",
        "colab": {}
      },
      "source": [
        "test = ['класс', 'отвратительный', 'ненавижу', 'нормально', 'люблю']"
      ],
      "execution_count": 0,
      "outputs": []
    },
    {
      "cell_type": "code",
      "metadata": {
        "id": "15tOrXjdmIRK",
        "colab_type": "code",
        "colab": {}
      },
      "source": [
        "test_sentence = []\n",
        "\n",
        "for word in test:\n",
        "  test_sentence.append(tokenize(word))"
      ],
      "execution_count": 0,
      "outputs": []
    },
    {
      "cell_type": "code",
      "metadata": {
        "id": "YEWMtrBgsTb6",
        "colab_type": "code",
        "colab": {
          "base_uri": "https://localhost:8080/",
          "height": 105
        },
        "outputId": "6dcf025c-e018-4c45-f8db-5cd24290d4c6"
      },
      "source": [
        "test_sentence"
      ],
      "execution_count": 212,
      "outputs": [
        {
          "output_type": "execute_result",
          "data": {
            "text/plain": [
              "[['класс_NOUN'],\n",
              " ['отвратительный_ADJF'],\n",
              " ['ненавидеть_INFN'],\n",
              " ['нормальный_ADJF'],\n",
              " ['любить_INFN']]"
            ]
          },
          "metadata": {
            "tags": []
          },
          "execution_count": 212
        }
      ]
    },
    {
      "cell_type": "code",
      "metadata": {
        "id": "DXcpX913mKix",
        "colab_type": "code",
        "colab": {}
      },
      "source": [
        "sequences_test = tokenizer.texts_to_sequences(test_sentence)"
      ],
      "execution_count": 0,
      "outputs": []
    },
    {
      "cell_type": "code",
      "metadata": {
        "id": "tIimAyK_HqCP",
        "colab_type": "code",
        "colab": {
          "base_uri": "https://localhost:8080/",
          "height": 34
        },
        "outputId": "299286bc-870c-4b88-9efd-883a6747e88f"
      },
      "source": [
        "sequences_test"
      ],
      "execution_count": 274,
      "outputs": [
        {
          "output_type": "execute_result",
          "data": {
            "text/plain": [
              "[[155], [8360], [7276], [990], [915]]"
            ]
          },
          "metadata": {
            "tags": []
          },
          "execution_count": 274
        }
      ]
    },
    {
      "cell_type": "code",
      "metadata": {
        "id": "ve3ADN3cn3Um",
        "colab_type": "code",
        "colab": {}
      },
      "source": [
        "X_predict = pad_sequences(sequences_test, maxlen = X_train.shape[1])"
      ],
      "execution_count": 0,
      "outputs": []
    },
    {
      "cell_type": "code",
      "metadata": {
        "id": "ae6cAvlen6XJ",
        "colab_type": "code",
        "colab": {}
      },
      "source": [
        "prediction = keras_model.predict_classes(X_predict)"
      ],
      "execution_count": 0,
      "outputs": []
    },
    {
      "cell_type": "code",
      "metadata": {
        "id": "Q05bkgvKn8eY",
        "colab_type": "code",
        "colab": {
          "base_uri": "https://localhost:8080/",
          "height": 34
        },
        "outputId": "926de3b1-6b88-43c5-a142-92220bcf5bc6"
      },
      "source": [
        "answers = transform_from_categorical(prediction, unique_tones.tolist()) \n",
        "answers"
      ],
      "execution_count": 216,
      "outputs": [
        {
          "output_type": "execute_result",
          "data": {
            "text/plain": [
              "['positive', 'negative', 'negative', 'positive', 'positive']"
            ]
          },
          "metadata": {
            "tags": []
          },
          "execution_count": 216
        }
      ]
    },
    {
      "cell_type": "markdown",
      "metadata": {
        "id": "F-OEMFvKZdj8",
        "colab_type": "text"
      },
      "source": [
        "# Попробуем классифицировать с помощью keras наш словарь"
      ]
    },
    {
      "cell_type": "code",
      "metadata": {
        "id": "P63NE3C17jYA",
        "colab_type": "code",
        "colab": {}
      },
      "source": [
        "import json"
      ],
      "execution_count": 0,
      "outputs": []
    },
    {
      "cell_type": "code",
      "metadata": {
        "id": "bnlNmsnH7hkK",
        "colab_type": "code",
        "colab": {}
      },
      "source": [
        "# загружаем отзывы о телефонах из json файла\n",
        "with open('drive/My Drive/review_db.json', 'r', encoding='utf-8') as f:\n",
        "    review = json.load(f)"
      ],
      "execution_count": 0,
      "outputs": []
    },
    {
      "cell_type": "code",
      "metadata": {
        "id": "pt9dycZS7q-C",
        "colab_type": "code",
        "colab": {
          "base_uri": "https://localhost:8080/",
          "height": 72
        },
        "outputId": "81d85b5a-ec50-40e3-b7b9-bf8adb04c15c"
      },
      "source": [
        "review[:2]"
      ],
      "execution_count": 339,
      "outputs": [
        {
          "output_type": "execute_result",
          "data": {
            "text/plain": [
              "['Телефон классный. Перечисляю достоинства.\\n- Не глючит, довольно шустрый\\n- Офигенный дизайн (мой - черный с оранжевым - супер! серый с черным фигня =) )\\n- Стандартный браузер хороший, не особо привередливые пользователи могут даже не ставить оперу =)\\n- Естессна сеть 3G и WiFi\\n- Аккумулятор хороший, долго держит. Я - человек, который постоянно серфит по инету и юзает приложения и у меня этот тел держит дней 6.\\n- Игры и приложения идут абсолютно все (если конечно качать с нуждны разрешением экрана)\\nИ еще много-много плюсов! Их мало. Можно пересчитать по пальцам.\\n1) WiFi подключается к точке только на относительно близком расстоянии (но потом при удалении от точки держит в радиусе ее действия)\\n2) Стандартный браузер не может загрузить ооооочень большие страницы и иногда, чтобы освободить память берет и удбирает виджеты. Но это не страшно\\n3) Маркий экран, от которого спасает пленка или постоянное натирание Советую всем, кому нужен сенсорный телефон с хорошими функционалом и мощностью, а не смартфон. Кому нужен офисный смартфон еще мощнее - двигайтесь дальше до Wave, а то и Galaxy. При наличии рук, растущих и ужного места, можно скачать несколько приложений и таким образом полностью подогнать тел под себя. Меня телефончик полностью кстроил.',\n",
              " 'За такую стоимость их тонна.\\nДа и кто то говорил что на морозе не работает, это чушь, этой зимой не мог найти нужный дом, по работе надо было поехать, так вот пришлось пользоваться GPS, минус что долго подключался, руки замёрзли сильно, так как в -20 дул ещё и дикий ветер, от которого становилось смертельно холодно, на прикосновения моими \"обмёршими\" руками, да да именно такими, так как я пальцев не чувствовал, он работал на ура. Покупайте в нормальных магазинах и всё будет хорошо. советую всем кто не хочет тратиться на дорогой телефон денег или попросту зажал на другие вещи. думаю смешно говорить про недостатки за такую цену, я его купил за 5900 руб. С ДВУМЯ ГОДАМИ ГАРАНТИИ.\\nМинусом считаю только плеер, не удобный после волкмана, но можно скачать и установить другой)))) так что даже не знаю есть ли минусы вообще. сравнивал телефоны разные и смотрел и не одного продовца достал с вопросами и просмотрами телефонов.\\nс начало хотел взять Samsung GT-i8910 8Gb,\\nно что то пожелел денег и остановился на нокиа, начал по магазинам ходить смотреть разные модели, и посотрев разные модели понял что нокиа это УЖАСНЫЕ ТЕЛЕФОНЫ. всё скрипит, тормозит, на прикосновения реагирует так туго и долго что просто ужас.\\nи тут я увидел данную модель. был приятно удивлён. в нём всё есть что я хотел, да и за такую цену, я был шокирован, думал тормоз дикий и небось разваливаеться в руках, пришёл в магазин его посомтреть и О ЧУДО!!!!! он крепкий, быстрый, отлично реагирует на прикосновения. удобное управление пальцами, иногда конечно промахиваюсь, но это по не привычке.\\nХороший телефон и если покопаться и разобраться, то всё отлично. Я доволен как СЛОН!!!!!!']"
            ]
          },
          "metadata": {
            "tags": []
          },
          "execution_count": 339
        }
      ]
    },
    {
      "cell_type": "code",
      "metadata": {
        "id": "phQVWjjn7tfR",
        "colab_type": "code",
        "colab": {}
      },
      "source": [
        "sentences_review = np.array([tokenize(text) for text in review[:10]])"
      ],
      "execution_count": 0,
      "outputs": []
    },
    {
      "cell_type": "code",
      "metadata": {
        "id": "XXFnIffDC5rf",
        "colab_type": "code",
        "colab": {
          "base_uri": "https://localhost:8080/",
          "height": 142
        },
        "outputId": "2f8c61c7-e024-4b9e-dad1-9143b4afdf48"
      },
      "source": [
        "sentences_review[:5]"
      ],
      "execution_count": 338,
      "outputs": [
        {
          "output_type": "execute_result",
          "data": {
            "text/plain": [
              "array([list(['телефон_NOUN', 'классный_ADJF', 'перечислять_INFN', 'достоинство_NOUN', 'глючить_INFN', 'довольно_ADVB', 'шустрый_ADJF', 'офигенный_ADJF', 'дизайн_NOUN', 'чёрный_NOUN', 'оранжевый_ADJF', 'супер_ADJF', 'серый_ADJF', 'чёрный_NOUN', 'фигня_NOUN', 'стандартный_ADJF', 'браузер_NOUN', 'хороший_ADJF', 'особо_ADVB', 'привередливый_ADJF', 'пользователь_NOUN', 'мочь_NOUN', 'ставить_INFN', 'опера_NOUN', 'естессон_NOUN', 'сеть_NOUN', 'аккумулятор_NOUN', 'хороший_ADJF', 'долго_ADVB', 'держать_INFN', 'человек_NOUN', 'который_ADJF', 'постоянно_ADVB', 'серфита_NOUN', 'инет_VERB', 'юзаета_NOUN', 'приложение_NOUN', 'тело_NOUN', 'держать_INFN', 'день_NOUN', 'игра_NOUN', 'приложение_NOUN', 'идти_INFN', 'абсолютно_ADVB', 'качать_INFN', 'нуждный_ADJF', 'разрешение_NOUN', 'экран_NOUN', 'плюс_CONJ', 'мало_ADVB', 'пересчитать_INFN', 'палец_NOUN', 'подключаться_INFN', 'точка_NOUN', 'относительно_PREP', 'близкий_ADJF', 'расстояние_NOUN', 'удаление_NOUN', 'точка_NOUN', 'держать_INFN', 'радиус_NOUN', 'действие_NOUN', 'стандартный_ADJF', 'браузер_NOUN', 'загрузить_INFN', 'ооооочень_ADVB', 'большой_ADJF', 'страница_NOUN', 'освободить_INFN', 'память_NOUN', 'брать_INFN', 'удбираета_NOUN', 'виджет_NOUN', 'это_PRCL', 'страшно_ADVB', 'маркий_ADJF', 'экран_NOUN', 'который_ADJF', 'спасать_INFN', 'плёнка_NOUN', 'постоянный_ADJF', 'натирание_NOUN', 'советовать_INFN', 'весь_ADJF', 'кома_NOUN', 'нужный_ADJF', 'сенсорный_ADJF', 'телефон_NOUN', 'хороший_ADJF', 'функционал_NOUN', 'мощность_NOUN', 'смартфон_NOUN', 'кома_NOUN', 'нужный_ADJF', 'офисный_ADJF', 'смартфон_NOUN', 'мощный_ADJF', 'двигаться_INFN', 'далёкий_ADJF', 'наличие_NOUN', 'рука_NOUN', 'расти_VERB', 'ужный_ADJF', 'место_NOUN', 'скачать_INFN', 'несколько_ADVB', 'приложение_NOUN', 'такой_ADJF', 'образ_NOUN', 'полностью_ADVB', 'подогнать_INFN', 'тело_NOUN', 'телефончик_NOUN', 'полностью_ADVB', 'кстроить_INFN']),\n",
              "       list(['такой_ADJF', 'стоимость_NOUN', 'тонна_NOUN', 'говорить_INFN', 'мороз_NOUN', 'работать_INFN', 'это_PRCL', 'чушь_NOUN', 'зимой_ADVB', 'мочь_NOUN', 'найти_INFN', 'нужный_ADJF', 'дом_NOUN', 'работа_NOUN', 'поехать_INFN', 'прийтись_INFN', 'пользоваться_INFN', 'минус_CONJ', 'долго_ADVB', 'подключаться_INFN', 'рука_NOUN', 'замёрзнуть_INFN', 'сильно_ADVB', 'дуть_INFN', 'ещё_ADVB', 'дикий_ADJF', 'ветер_NOUN', 'который_ADJF', 'становиться_INFN', 'смертельно_ADVB', 'холодный_ADJF', 'прикосновение_NOUN', 'мой_ADJF', 'обмереть_INFN', 'рука_NOUN', 'именно_PRCL', 'такой_ADJF', 'палец_NOUN', 'чувствовать_INFN', 'работать_INFN', 'ура_INTJ', 'покупать_INFN', 'нормальный_ADJF', 'магазин_NOUN', 'весь_ADJF', 'советовать_INFN', 'весь_ADJF', 'хотеть_INFN', 'тратиться_INFN', 'дорогой_ADVB', 'телефон_NOUN', 'деньга_NOUN', 'попросту_ADVB', 'зажать_INFN', 'другой_ADJF', 'вещий_ADJF', 'думать_INFN', 'смешно_ADVB', 'говорить_INFN', 'недостаток_NOUN', 'такой_ADJF', 'цена_NOUN', 'купить_INFN', 'рубль_NOUN', 'два_NUMR', 'годами_ADVB', 'гарантия_NOUN', 'минус_CONJ', 'считать_INFN', 'плеер_NOUN', 'удобный_ADJF', 'волкмана_NOUN', 'скачать_INFN', 'установить_INFN', 'знать_INFN', 'минус_CONJ', 'вообще_ADVB', 'сравнивать_INFN', 'телефон_NOUN', 'разный_ADJF', 'смотреть_INFN', 'один_ADJF', 'продовца_NOUN', 'достать_INFN', 'вопрос_NOUN', 'просмотр_NOUN', 'телефон_NOUN', 'начать_INFN', 'хотеть_INFN', 'взять_INFN', 'пожелела_NOUN', 'деньга_NOUN', 'остановиться_INFN', 'нокиа_NOUN', 'начать_INFN', 'магазин_NOUN', 'ходить_INFN', 'смотреть_INFN', 'разный_ADJF', 'модель_NOUN', 'посотрёв_NOUN', 'разный_ADJF', 'модель_NOUN', 'понять_INFN', 'нокиа_NOUN', 'это_PRCL', 'ужасный_ADJF', 'телефон_NOUN', 'весь_ADJF', 'скрипеть_INFN', 'тормозить_INFN', 'прикосновение_NOUN', 'реагировать_INFN', 'туго_ADVB', 'долго_ADVB', 'просто_PRCL', 'ужас_NOUN', 'увидеть_INFN', 'данный_ADJF', 'модель_NOUN', 'приятно_ADVB', 'удивлённый_ADJF', 'он_NPRO', 'весь_ADJF', 'хотеть_INFN', 'такой_ADJF', 'цена_NOUN', 'шокировать_INFN', 'думать_INFN', 'тормоз_NOUN', 'дикий_ADJF', 'небось_PRCL', 'разваливаеться_INFN', 'рука_NOUN', 'прийти_INFN', 'магазин_NOUN', 'посомтреть_NOUN', 'чудо_NOUN', 'крепкий_ADJF', 'быстрый_ADJF', 'отлично_ADVB', 'реагировать_INFN', 'прикосновение_NOUN', 'удобный_ADJF', 'управление_NOUN', 'палец_NOUN', 'промахиваться_INFN', 'это_PRCL', 'привычка_NOUN', 'хороший_ADJF', 'телефон_NOUN', 'покопаться_INFN', 'разобраться_INFN', 'весь_ADJF', 'отлично_ADVB', 'довольный_ADJF', 'слон_NOUN']),\n",
              "       list(['хороший_ADJF', 'пластик_NOUN', 'экран_NOUN', 'носить_INFN', 'чело_NOUN', 'качественный_ADJF', 'гарнитур_NOUN', 'хороший_ADJF', 'акумулятор_NOUN', 'интенсивный_ADJF', 'использование_NOUN', 'постоян_None', 'поиск_NOUN', 'сеть_NOUN', 'хватать_INFN', 'день_NOUN', 'подсветка_NOUN', 'нижний_ADJF', 'клавиша_NOUN', 'динамик_NOUN', 'вызов_NOUN', 'какойтый_ADJF', 'дешманский_ADJF', 'звук_NOUN', 'выдавать_INFN', 'навигация_NOUN', 'работать_INFN', 'инуть_INFN', 'удобный_ADJF', 'навигация_NOUN', 'инуть_INFN', 'модель_NOUN', 'такой_ADJF', 'сумма_NOUN', 'очень_ADVB', 'плохой_ADJF', 'приложение_NOUN', 'установить_INFN', 'изначально_ADVB', 'такой_ADJF', 'погода_NOUN', 'пробка_NOUN', 'контакт_NOUN', 'др_NOUN', 'очень_ADVB', 'отзывчивый_ADJF', 'сенсор_NOUN', 'яркия_NOUN', 'экран_NOUN', 'простой_NOUN', 'навигация_NOUN', 'телефон_NOUN', 'разобраться_INFN', 'день_NOUN', 'мурзилка_NOUN', 'день_NOUN', 'сложиться_INFN', 'такой_ADJF', 'впечетление_NOUN', 'очень_ADVB', 'давно_ADVB', 'очень_ADVB', 'рекомендовать_INFN', 'кома_NOUN', 'нужный_ADJF', 'добротный_ADJF', 'сенсорный_ADJF', 'телефон_NOUN']),\n",
              "       list(['ёмкостный_ADJF', 'сенсорный_ADJF', 'экран_NOUN', 'наличие_NOUN', 'разъесть_INFN', 'мм_INTJ', 'поддержка_NOUN', 'гб_NOUN', 'низкий_ADJF', 'цена_NOUN', 'хороший_ADJF', 'качество_NOUN', 'сборка_NOUN', 'наличие_NOUN', 'акселерометр_NOUN', 'нормальный_ADJF', 'работать_INFN', 'открытый_ADJF', 'воздух_NOUN', 'включение_NOUN', 'телефон_NOUN', 'немного_ADVB', 'подвисать_INFN', 'корпус_NOUN', 'экран_NOUN', 'быстро_ADVB', 'заляпываться_INFN', 'покупать_INFN', 'сразу_ADVB', 'чехол_NOUN', 'плёнка_NOUN', 'экран_NOUN', 'встроить_INFN', 'плеер_NOUN', 'недостаточно_ADVB', 'функциональный_ADJF', 'например_CONJ', 'проиграть_INFN', 'целиком_ADVB', 'папка_NOUN', 'музыка_NOUN', 'приходиться_INFN', 'вручную_ADVB', 'выбирать_INFN', 'песнь_NOUN', 'добавлять_INFN', 'плейлист_NOUN', 'радио_NOUN', 'работать_INFN', 'подключение_NOUN', 'наушник_NOUN', 'идти_INFN', 'весь_ADJF', 'софт_NOUN', 'игра_NOUN', 'игра_NOUN', 'сенсорный_ADJF', 'телефон_NOUN', 'довольно_ADVB', 'вставить_INFN', 'симка_NOUN', 'флешек_NOUN', 'вынимать_INFN', 'аккумулятор_NOUN', 'хотя_CONJ', 'вставить_INFN', 'симка_NOUN', 'снять_INFN', 'задний_ADJF', 'крышка_NOUN', 'разъесть_INFN', 'очень_ADVB', 'удобный_ADJF', 'подрубить_INFN', 'он_NPRO', 'колонка_NOUN', 'слушать_INFN', 'музыка_NOUN', 'телефон_NOUN', 'очень_ADVB', 'понравиться_INFN', 'ёмкостный_ADJF', 'сенсор_NOUN', 'кнопочный_ADJF', 'телефон_NOUN', 'вернуться_INFN', 'довольно_ADVB', 'сносный_ADJF', 'камера_NOUN', 'вдобавок_ADVB', 'иметься_INFN', 'камера_NOUN', 'видеозвонок_NOUN', 'работать_INFN', 'наличие_NOUN', 'кстати_CONJ', 'камера_NOUN', 'пользоваться_INFN', 'зеркало_NOUN', 'цифровой_ADJF', 'клавиатура_NOUN', 'ввести_INFN', 'выбрать_INFN', 'подключение_NOUN', 'пк_NOUN', 'заряжать_INFN', 'телефон_NOUN', 'иметься_INFN', 'возможность_NOUN', 'прикрепить_INFN', 'ремешок_NOUN', 'рука_NOUN', 'кто_NPRO', 'устраивать_INFN', 'встроить_INFN', 'софт_NOUN', 'поставить_INFN', 'сторонний_ADJF', 'который_ADJF', 'правило_NOUN', 'вердикт_NOUN', 'отличный_ADJF', 'телефон_NOUN', 'небольшой_ADJF', 'деньга_NOUN']),\n",
              "       list(['нравиться_INFN', 'чёткий_ADJF', 'экран_NOUN', 'скорость_NOUN', 'перелистывание_NOUN', 'виджет_NOUN', 'настроить_INFN', 'начало_VERB', 'хватить_INFN', 'стандартный_ADJF', 'быть_INFN', 'аккуратный_ADJF', 'попасться_INFN', 'браковать_INFN', 'наушник_NOUN', 'один_ADJF', 'ухо_NOUN', 'работать_INFN', 'менять_INFN', 'поехать_INFN', 'это_PRCL', 'подарок_NOUN', 'простой_NOUN', 'купить_INFN', 'новое_NOUN', 'факт_NOUN', 'факт_NOUN', 'другой_ADJF', 'недостаток_NOUN', 'пока_ADVB', 'обнаружить_INFN', 'долго_ADVB', 'выбирать_INFN', 'получить_INFN', 'подарок_NOUN', 'очень_ADVB', 'нравиться_INFN'])],\n",
              "      dtype=object)"
            ]
          },
          "metadata": {
            "tags": []
          },
          "execution_count": 338
        }
      ]
    },
    {
      "cell_type": "code",
      "metadata": {
        "id": "Ke_HPlMjFOL0",
        "colab_type": "code",
        "colab": {}
      },
      "source": [
        "counter_review = collections.Counter()"
      ],
      "execution_count": 0,
      "outputs": []
    },
    {
      "cell_type": "code",
      "metadata": {
        "id": "vQsUxhpxE9mI",
        "colab_type": "code",
        "colab": {}
      },
      "source": [
        "#считаем максимальную длину предложений, а также частоту всех слов предложений, считанных из файла \n",
        "maxlen_review = 0\n",
        "for words in sentences_review:\n",
        "    if len(words) > maxlen_review:\n",
        "        maxlen_review = len(words)\n",
        "    for word in words:\n",
        "        counter_review[word] += 1"
      ],
      "execution_count": 0,
      "outputs": []
    },
    {
      "cell_type": "code",
      "metadata": {
        "id": "vvumgkR0E_rV",
        "colab_type": "code",
        "colab": {}
      },
      "source": [
        "vocab_sz_sentences_review = len(counter_review) + 1"
      ],
      "execution_count": 0,
      "outputs": []
    },
    {
      "cell_type": "code",
      "metadata": {
        "id": "qbYEpUULFFBe",
        "colab_type": "code",
        "colab": {
          "base_uri": "https://localhost:8080/",
          "height": 34
        },
        "outputId": "39eb4e7b-4b9c-4213-a2bb-41354c216d0d"
      },
      "source": [
        "vocab_sz_sentences_review"
      ],
      "execution_count": 233,
      "outputs": [
        {
          "output_type": "execute_result",
          "data": {
            "text/plain": [
              "445"
            ]
          },
          "metadata": {
            "tags": []
          },
          "execution_count": 233
        }
      ]
    },
    {
      "cell_type": "code",
      "metadata": {
        "id": "ULnvweUUSPwb",
        "colab_type": "code",
        "colab": {}
      },
      "source": [
        "test_sentence_review = []\n",
        "\n",
        "for review_words in sentences_review:\n",
        "  for word in review_words:\n",
        "    test_sentence_review.append(tokenize(word))"
      ],
      "execution_count": 0,
      "outputs": []
    },
    {
      "cell_type": "code",
      "metadata": {
        "id": "pCk1ZMvlVtEx",
        "colab_type": "code",
        "colab": {
          "base_uri": "https://localhost:8080/",
          "height": 193
        },
        "outputId": "c7c804f3-a415-4004-d47b-9f026b984fbb"
      },
      "source": [
        "test_sentence_review[:10]"
      ],
      "execution_count": 333,
      "outputs": [
        {
          "output_type": "execute_result",
          "data": {
            "text/plain": [
              "[['телефон_NOUN'],\n",
              " ['классный_ADJF'],\n",
              " ['перечислять_INFN'],\n",
              " ['достоинство_NOUN'],\n",
              " ['глючить_INFN'],\n",
              " ['довольно_ADVB'],\n",
              " ['шустрый_ADJF'],\n",
              " ['офигенный_ADJF'],\n",
              " ['дизайн_NOUN'],\n",
              " ['чёрный_NOUN']]"
            ]
          },
          "metadata": {
            "tags": []
          },
          "execution_count": 333
        }
      ]
    },
    {
      "cell_type": "code",
      "metadata": {
        "id": "uuEjWX04FY3h",
        "colab_type": "code",
        "colab": {}
      },
      "source": [
        "sequences_test = tokenizer.texts_to_sequences(test_sentence_review)"
      ],
      "execution_count": 0,
      "outputs": []
    },
    {
      "cell_type": "code",
      "metadata": {
        "id": "drddlzluJnyg",
        "colab_type": "code",
        "colab": {}
      },
      "source": [
        "sequences_test"
      ],
      "execution_count": 0,
      "outputs": []
    },
    {
      "cell_type": "code",
      "metadata": {
        "id": "yPi1tMR4Fm5d",
        "colab_type": "code",
        "colab": {}
      },
      "source": [
        "X_predict = pad_sequences(sequences_test, maxlen = X_train.shape[1])"
      ],
      "execution_count": 0,
      "outputs": []
    },
    {
      "cell_type": "code",
      "metadata": {
        "id": "b9cGWPutFqH4",
        "colab_type": "code",
        "colab": {}
      },
      "source": [
        "prediction = keras_model.predict_classes(X_predict)"
      ],
      "execution_count": 0,
      "outputs": []
    },
    {
      "cell_type": "code",
      "metadata": {
        "id": "_sVMxl4MFtvz",
        "colab_type": "code",
        "colab": {}
      },
      "source": [
        "answers = transform_from_categorical(prediction, unique_tones.tolist()) \n",
        "for i in range(0, len(answers)):\n",
        "  print(str(test_sentence_review[i]) + ' ' + str(answers[i]))"
      ],
      "execution_count": 0,
      "outputs": []
    }
  ]
}