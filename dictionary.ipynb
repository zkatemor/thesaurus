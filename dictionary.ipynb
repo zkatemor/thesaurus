{
  "nbformat": 4,
  "nbformat_minor": 0,
  "metadata": {
    "colab": {
      "name": "dictionary.ipynb",
      "provenance": [],
      "collapsed_sections": [
        "UF_NEJKlkxfd"
      ],
      "include_colab_link": true
    },
    "kernelspec": {
      "name": "python3",
      "display_name": "Python 3"
    },
    "accelerator": "GPU"
  },
  "cells": [
    {
      "cell_type": "markdown",
      "metadata": {
        "id": "view-in-github",
        "colab_type": "text"
      },
      "source": [
        "<a href=\"https://colab.research.google.com/github/zkatemor/thesaurus/blob/word2vec_keras_sample/dictionary.ipynb\" target=\"_parent\"><img src=\"https://colab.research.google.com/assets/colab-badge.svg\" alt=\"Open In Colab\"/></a>"
      ]
    },
    {
      "cell_type": "code",
      "metadata": {
        "id": "3H17CPcqaL_Y",
        "colab_type": "code",
        "outputId": "e0b04d30-17d5-4c52-fd5f-f2cd28cb892f",
        "colab": {
          "base_uri": "https://localhost:8080/",
          "height": 125
        }
      },
      "source": [
        "from google.colab import drive\n",
        "drive.mount('/content/drive')"
      ],
      "execution_count": 6,
      "outputs": [
        {
          "output_type": "stream",
          "text": [
            "Go to this URL in a browser: https://accounts.google.com/o/oauth2/auth?client_id=947318989803-6bn6qk8qdgf4n4g3pfee6491hc0brc4i.apps.googleusercontent.com&redirect_uri=urn%3aietf%3awg%3aoauth%3a2.0%3aoob&response_type=code&scope=email%20https%3a%2f%2fwww.googleapis.com%2fauth%2fdocs.test%20https%3a%2f%2fwww.googleapis.com%2fauth%2fdrive%20https%3a%2f%2fwww.googleapis.com%2fauth%2fdrive.photos.readonly%20https%3a%2f%2fwww.googleapis.com%2fauth%2fpeopleapi.readonly\n",
            "\n",
            "Enter your authorization code:\n",
            "··········\n",
            "Mounted at /content/drive\n"
          ],
          "name": "stdout"
        }
      ]
    },
    {
      "cell_type": "code",
      "metadata": {
        "id": "rzsQEd5f-nJ7",
        "colab_type": "code",
        "outputId": "8ac9c5c7-668b-474e-9a20-213a3150f43a",
        "colab": {
          "base_uri": "https://localhost:8080/",
          "height": 230
        }
      },
      "source": [
        "pip install pymorphy2"
      ],
      "execution_count": 2,
      "outputs": [
        {
          "output_type": "stream",
          "text": [
            "Collecting pymorphy2\n",
            "\u001b[?25l  Downloading https://files.pythonhosted.org/packages/a3/33/fff9675c68b5f6c63ec8c6e6ff57827dda28a1fa5b2c2d727dffff92dd47/pymorphy2-0.8-py2.py3-none-any.whl (46kB)\n",
            "\u001b[K     |████████████████████████████████| 51kB 8.6MB/s \n",
            "\u001b[?25hCollecting pymorphy2-dicts<3.0,>=2.4\n",
            "\u001b[?25l  Downloading https://files.pythonhosted.org/packages/02/51/2465fd4f72328ab50877b54777764d928da8cb15b74e2680fc1bd8cb3173/pymorphy2_dicts-2.4.393442.3710985-py2.py3-none-any.whl (7.1MB)\n",
            "\u001b[K     |████████████████████████████████| 7.1MB 24.4MB/s \n",
            "\u001b[?25hRequirement already satisfied: docopt>=0.6 in /usr/local/lib/python3.6/dist-packages (from pymorphy2) (0.6.2)\n",
            "Collecting dawg-python>=0.7\n",
            "  Downloading https://files.pythonhosted.org/packages/6a/84/ff1ce2071d4c650ec85745766c0047ccc3b5036f1d03559fd46bb38b5eeb/DAWG_Python-0.7.2-py2.py3-none-any.whl\n",
            "Installing collected packages: pymorphy2-dicts, dawg-python, pymorphy2\n",
            "Successfully installed dawg-python-0.7.2 pymorphy2-0.8 pymorphy2-dicts-2.4.393442.3710985\n"
          ],
          "name": "stdout"
        }
      ]
    },
    {
      "cell_type": "code",
      "metadata": {
        "id": "Z-wscP044PwA",
        "colab_type": "code",
        "colab": {}
      },
      "source": [
        "import pickle"
      ],
      "execution_count": 0,
      "outputs": []
    },
    {
      "cell_type": "code",
      "metadata": {
        "id": "Ro6JQl-8-j8h",
        "colab_type": "code",
        "outputId": "dfb55250-6bd2-490e-fbf3-2cb5d3d7b4e5",
        "colab": {
          "base_uri": "https://localhost:8080/",
          "height": 81
        }
      },
      "source": [
        "import numpy as np\n",
        "import pandas as pd\n",
        "from keras.callbacks import ModelCheckpoint\n",
        "from keras_preprocessing.text import Tokenizer\n",
        "from keras_preprocessing.sequence import pad_sequences\n",
        "import collections\n",
        "from keras.models import Sequential\n",
        "from keras.layers import Dense, Embedding, LSTM, GRU, Activation, Dropout\n",
        "from keras.layers.embeddings import Embedding\n",
        "import gensim.downloader\n",
        "from keras.utils import to_categorical\n",
        "from sklearn.model_selection import train_test_split\n",
        "import matplotlib.pyplot as plt\n",
        "import sklearn\n",
        "import pymorphy2"
      ],
      "execution_count": 4,
      "outputs": [
        {
          "output_type": "stream",
          "text": [
            "Using TensorFlow backend.\n"
          ],
          "name": "stderr"
        },
        {
          "output_type": "display_data",
          "data": {
            "text/html": [
              "<p style=\"color: red;\">\n",
              "The default version of TensorFlow in Colab will soon switch to TensorFlow 2.x.<br>\n",
              "We recommend you <a href=\"https://www.tensorflow.org/guide/migrate\" target=\"_blank\">upgrade</a> now \n",
              "or ensure your notebook will continue to use TensorFlow 1.x via the <code>%tensorflow_version 1.x</code> magic:\n",
              "<a href=\"https://colab.research.google.com/notebooks/tensorflow_version.ipynb\" target=\"_blank\">more info</a>.</p>\n"
            ],
            "text/plain": [
              "<IPython.core.display.HTML object>"
            ]
          },
          "metadata": {
            "tags": []
          }
        }
      ]
    },
    {
      "cell_type": "markdown",
      "metadata": {
        "id": "e5fq1F3ob7iN",
        "colab_type": "text"
      },
      "source": [
        "# DataSet\n",
        " \n",
        "Загрузка словаря RuSentilex в формате .csv\n",
        "*   https://www.labinform.ru/pub/rusentilex/index.htm\n",
        "\n"
      ]
    },
    {
      "cell_type": "code",
      "metadata": {
        "id": "GhFeuumXadtJ",
        "colab_type": "code",
        "colab": {}
      },
      "source": [
        "df = pd.read_csv('drive/My Drive/coursework/rusentilex.csv')"
      ],
      "execution_count": 0,
      "outputs": []
    },
    {
      "cell_type": "code",
      "metadata": {
        "id": "agYLF6Kba75A",
        "colab_type": "code",
        "outputId": "c8f20635-14dd-49b3-f637-11f857d0435b",
        "colab": {
          "base_uri": "https://localhost:8080/",
          "height": 136
        }
      },
      "source": [
        "df.head(3)"
      ],
      "execution_count": 8,
      "outputs": [
        {
          "output_type": "execute_result",
          "data": {
            "text/html": [
              "<div>\n",
              "<style scoped>\n",
              "    .dataframe tbody tr th:only-of-type {\n",
              "        vertical-align: middle;\n",
              "    }\n",
              "\n",
              "    .dataframe tbody tr th {\n",
              "        vertical-align: top;\n",
              "    }\n",
              "\n",
              "    .dataframe thead th {\n",
              "        text-align: right;\n",
              "    }\n",
              "</style>\n",
              "<table border=\"1\" class=\"dataframe\">\n",
              "  <thead>\n",
              "    <tr style=\"text-align: right;\">\n",
              "      <th></th>\n",
              "      <th>term</th>\n",
              "      <th>tone</th>\n",
              "    </tr>\n",
              "  </thead>\n",
              "  <tbody>\n",
              "    <tr>\n",
              "      <th>0</th>\n",
              "      <td>остепеняться</td>\n",
              "      <td>positive</td>\n",
              "    </tr>\n",
              "    <tr>\n",
              "      <th>1</th>\n",
              "      <td>трудолюбивый</td>\n",
              "      <td>positive</td>\n",
              "    </tr>\n",
              "    <tr>\n",
              "      <th>2</th>\n",
              "      <td>беспалевный</td>\n",
              "      <td>positive</td>\n",
              "    </tr>\n",
              "  </tbody>\n",
              "</table>\n",
              "</div>"
            ],
            "text/plain": [
              "           term      tone\n",
              "0  остепеняться  positive\n",
              "1  трудолюбивый  positive\n",
              "2   беспалевный  positive"
            ]
          },
          "metadata": {
            "tags": []
          },
          "execution_count": 8
        }
      ]
    },
    {
      "cell_type": "code",
      "metadata": {
        "id": "WsbhJmtBbD6c",
        "colab_type": "code",
        "outputId": "22a03105-de27-419b-d5bd-c4e5f4e7cada",
        "colab": {
          "base_uri": "https://localhost:8080/",
          "height": 34
        }
      },
      "source": [
        "len(df)"
      ],
      "execution_count": 9,
      "outputs": [
        {
          "output_type": "execute_result",
          "data": {
            "text/plain": [
              "10668"
            ]
          },
          "metadata": {
            "tags": []
          },
          "execution_count": 9
        }
      ]
    },
    {
      "cell_type": "code",
      "metadata": {
        "id": "c9shvfUR_62P",
        "colab_type": "code",
        "outputId": "100fe848-6c08-416e-e027-570f59829dd6",
        "colab": {
          "base_uri": "https://localhost:8080/",
          "height": 87
        }
      },
      "source": [
        "df['tone'].value_counts()"
      ],
      "execution_count": 10,
      "outputs": [
        {
          "output_type": "execute_result",
          "data": {
            "text/plain": [
              "negative    7148\n",
              "positive    2774\n",
              "neutral      746\n",
              "Name: tone, dtype: int64"
            ]
          },
          "metadata": {
            "tags": []
          },
          "execution_count": 10
        }
      ]
    },
    {
      "cell_type": "code",
      "metadata": {
        "id": "CF-xCF_w9avm",
        "colab_type": "code",
        "outputId": "cd5885e3-5671-4fbf-aa37-0e42aab2faf0",
        "colab": {
          "base_uri": "https://localhost:8080/",
          "height": 303
        }
      },
      "source": [
        "df['tone'].value_counts().plot(kind = 'pie',figsize = (5, 5), autopct = '%1.1f%%', shadow = True)\n",
        "plt.legend(df['tone'].unique())\n",
        "plt.show()"
      ],
      "execution_count": 11,
      "outputs": [
        {
          "output_type": "display_data",
          "data": {
            "image/png": "[encoded data removed]",
            "text/plain": [
              "<Figure size 360x360 with 1 Axes>"
            ]
          },
          "metadata": {
            "tags": []
          }
        }
      ]
    },
    {
      "cell_type": "markdown",
      "metadata": {
        "id": "v3moVQWS_QQc",
        "colab_type": "text"
      },
      "source": [
        "Всего в словаре 10668 слов."
      ]
    },
    {
      "cell_type": "code",
      "metadata": {
        "id": "lBM7v6UddV_Q",
        "colab_type": "code",
        "colab": {}
      },
      "source": [
        "# получение id тональности\n",
        "def get_ids(all_tones):\n",
        "    result = []\n",
        "\n",
        "    for tone in all_tones:\n",
        "        result.append(all_tones.unique().tolist().index(tone))\n",
        "\n",
        "    return result"
      ],
      "execution_count": 0,
      "outputs": []
    },
    {
      "cell_type": "code",
      "metadata": {
        "id": "lzJ0wpESdXZq",
        "colab_type": "code",
        "colab": {}
      },
      "source": [
        "labels = get_ids(df['tone'])\n",
        "total_words = df['term']\n",
        "# перемешиваем\n",
        "total_words, labels = sklearn.utils.shuffle(total_words, labels)"
      ],
      "execution_count": 0,
      "outputs": []
    },
    {
      "cell_type": "code",
      "metadata": {
        "id": "Ha2OuJmxx0Ri",
        "colab_type": "code",
        "colab": {}
      },
      "source": [
        "# добавление части речи к слову для корректной работы с русскоязычной word2vec\n",
        "def add_part_of_speech(word):\n",
        "    p = pymorphy2.MorphAnalyzer().parse(word)[0]\n",
        "    word += '_' + str(p.tag.POS)\n",
        "    return word"
      ],
      "execution_count": 0,
      "outputs": []
    },
    {
      "cell_type": "code",
      "metadata": {
        "id": "sR2jB1xKEme9",
        "colab_type": "code",
        "colab": {}
      },
      "source": [
        "# получаем список для корректной работы с моделью\n",
        "#sentences = [[add_part_of_speech(word)] for word in total_words]\n",
        "\n",
        "with open('drive/My Drive/coursework/rusentilex_sentences.pickle', 'rb') as handle:\n",
        "        sentences = pickle.load(handle)\n",
        "# получаем id тональностей для сохраненного списка токенов (sentences)\n",
        "with open('drive/My Drive/coursework/rusentilex_labels.pickle', 'rb') as handle:\n",
        "        labels = pickle.load(handle)"
      ],
      "execution_count": 0,
      "outputs": []
    },
    {
      "cell_type": "code",
      "metadata": {
        "id": "4F-SnSOFyBmB",
        "colab_type": "code",
        "outputId": "37af4a47-654c-4aee-bb77-dc6b9104b51f",
        "colab": {
          "base_uri": "https://localhost:8080/",
          "height": 105
        }
      },
      "source": [
        "sentences[:5]"
      ],
      "execution_count": 16,
      "outputs": [
        {
          "output_type": "execute_result",
          "data": {
            "text/plain": [
              "[['толстопузость_NOUN'],\n",
              " ['винтик_NOUN'],\n",
              " ['оскорбить_INFN'],\n",
              " ['рациональный_ADJF'],\n",
              " ['равнодушный_ADJF']]"
            ]
          },
          "metadata": {
            "tags": []
          },
          "execution_count": 16
        }
      ]
    },
    {
      "cell_type": "code",
      "metadata": {
        "id": "uBIUBPu2E8HU",
        "colab_type": "code",
        "colab": {}
      },
      "source": [
        "counter = collections.Counter()"
      ],
      "execution_count": 0,
      "outputs": []
    },
    {
      "cell_type": "code",
      "metadata": {
        "id": "X-BypFa5E_Fu",
        "colab_type": "code",
        "colab": {}
      },
      "source": [
        "#считаем максимальную длину предложений (в словаре могут быть словосочетания), а также частоту всех слов, считанных из файла\n",
        "maxlen = 0\n",
        "for words in sentences:\n",
        "    if len(words) > maxlen:\n",
        "        maxlen = len(words)\n",
        "    for word in words:\n",
        "        counter[word] += 1"
      ],
      "execution_count": 0,
      "outputs": []
    },
    {
      "cell_type": "code",
      "metadata": {
        "id": "QMnhnLlzFE_F",
        "colab_type": "code",
        "outputId": "eb30d8c2-61e8-4a07-e2a4-2c272ff1ffcd",
        "colab": {
          "base_uri": "https://localhost:8080/",
          "height": 34
        }
      },
      "source": [
        "vocab_sz = len(counter) + 1 \n",
        "print('Размер словаря: ' + str(vocab_sz))"
      ],
      "execution_count": 19,
      "outputs": [
        {
          "output_type": "stream",
          "text": [
            "Размер словаря: 10669\n"
          ],
          "name": "stdout"
        }
      ]
    },
    {
      "cell_type": "markdown",
      "metadata": {
        "id": "byG7WHx8A18N",
        "colab_type": "text"
      },
      "source": [
        "Задаем необходимые константные значения и загружаем русскоязычную модель Word2Vec"
      ]
    },
    {
      "cell_type": "code",
      "metadata": {
        "id": "S4ElkGObez23",
        "colab_type": "code",
        "colab": {}
      },
      "source": [
        "EMBEDDING_DIM = 300\n",
        "VALIDATION_SPLIT = 0.2\n",
        "EPOCH_SIZE = 10\n",
        "BATCH_SIZE = 32\n",
        "NUM_FILTERS = 256\n",
        "NUM_WORDS = 3"
      ],
      "execution_count": 0,
      "outputs": []
    },
    {
      "cell_type": "code",
      "metadata": {
        "id": "VaemuBaCDoFW",
        "colab_type": "code",
        "outputId": "76f74d0f-1ff4-4f56-b116-745828a9cf2d",
        "colab": {
          "base_uri": "https://localhost:8080/",
          "height": 90
        }
      },
      "source": [
        "word2vec_model = gensim.downloader.load(\"word2vec-ruscorpora-300\")"
      ],
      "execution_count": 21,
      "outputs": [
        {
          "output_type": "stream",
          "text": [
            "[==================================================] 100.0% 198.8/198.8MB downloaded\n"
          ],
          "name": "stdout"
        },
        {
          "output_type": "stream",
          "text": [
            "/usr/local/lib/python3.6/dist-packages/smart_open/smart_open_lib.py:402: UserWarning: This function is deprecated, use smart_open.open instead. See the migration notes for details: https://github.com/RaRe-Technologies/smart_open/blob/master/README.rst#migrating-to-the-new-open-function\n",
            "  'See the migration notes for details: %s' % _MIGRATION_NOTES_URL\n"
          ],
          "name": "stderr"
        }
      ]
    },
    {
      "cell_type": "markdown",
      "metadata": {
        "id": "Ykl10VCGehC8",
        "colab_type": "text"
      },
      "source": [
        "# Работа с Keras"
      ]
    },
    {
      "cell_type": "code",
      "metadata": {
        "id": "rhwENqX5pjSJ",
        "colab_type": "code",
        "colab": {}
      },
      "source": [
        "#создаём матрицу размером размерность словаря*размерность вектора слова\n",
        "embedding_weights = np.zeros((vocab_sz, EMBEDDING_DIM))\n",
        "index = 0\n",
        "#сортируем слова по частоте встречаемости\n",
        "sorted_counter = counter.most_common()\n",
        "#для каждого слова из нашего словаря задаём вектор из word2vec_model в матрицу\n",
        "for word in sorted_counter:\n",
        "    try:\n",
        "      embedding_weights[index, :] = word2vec_model[word[0]] \n",
        "      index+=1     \n",
        "    #если нет слова в словаре word2vec_model\n",
        "    except KeyError:\n",
        "      index+=1\n",
        "      pass"
      ],
      "execution_count": 0,
      "outputs": []
    },
    {
      "cell_type": "markdown",
      "metadata": {
        "id": "NbqNBBdiBYVP",
        "colab_type": "text"
      },
      "source": [
        "Собираем модель для обучения:\n",
        "1 слой модели – русскоязычный word2vec"
      ]
    },
    {
      "cell_type": "code",
      "metadata": {
        "id": "JSU1dMgX1uie",
        "colab_type": "code",
        "colab": {}
      },
      "source": [
        "import keras"
      ],
      "execution_count": 0,
      "outputs": []
    },
    {
      "cell_type": "code",
      "metadata": {
        "id": "r-_S0tW-e3EA",
        "colab_type": "code",
        "colab": {}
      },
      "source": [
        "model = Sequential()\n",
        "model.add(Embedding(vocab_sz, EMBEDDING_DIM, input_length=maxlen, weights=[embedding_weights],\n",
        "                    trainable=True))\n",
        "model.add(keras.layers.Dropout(0.2))\n",
        "model.add(keras.layers.Conv1D(50,\n",
        "                                1,\n",
        "                                padding='valid',\n",
        "                                activation='relu',\n",
        "                                strides=1))\n",
        "model.add(keras.layers.GlobalMaxPooling1D())\n",
        "model.add(keras.layers.Dense(250))\n",
        "model.add(keras.layers.Dropout(0.2))\n",
        "model.add(keras.layers.Activation('relu'))\n",
        "model.add(keras.layers.Dense(3, activation='softmax'))"
      ],
      "execution_count": 0,
      "outputs": []
    },
    {
      "cell_type": "code",
      "metadata": {
        "id": "uJtcgl2YfMEW",
        "colab_type": "code",
        "colab": {}
      },
      "source": [
        "model.compile(optimizer='adam', loss='categorical_crossentropy', metrics=['accuracy'])"
      ],
      "execution_count": 0,
      "outputs": []
    },
    {
      "cell_type": "code",
      "metadata": {
        "id": "by-hNLEjfeK_",
        "colab_type": "code",
        "outputId": "1874b079-d94d-4457-91c4-8166d79c6d5a",
        "colab": {
          "base_uri": "https://localhost:8080/",
          "height": 439
        }
      },
      "source": [
        "model.summary()"
      ],
      "execution_count": 81,
      "outputs": [
        {
          "output_type": "stream",
          "text": [
            "Model: \"sequential_35\"\n",
            "_________________________________________________________________\n",
            "Layer (type)                 Output Shape              Param #   \n",
            "=================================================================\n",
            "embedding_35 (Embedding)     (None, 1, 300)            3200700   \n",
            "_________________________________________________________________\n",
            "dropout_69 (Dropout)         (None, 1, 300)            0         \n",
            "_________________________________________________________________\n",
            "conv1d_35 (Conv1D)           (None, 1, 50)             15050     \n",
            "_________________________________________________________________\n",
            "global_max_pooling1d_35 (Glo (None, 50)                0         \n",
            "_________________________________________________________________\n",
            "dense_69 (Dense)             (None, 250)               12750     \n",
            "_________________________________________________________________\n",
            "dropout_70 (Dropout)         (None, 250)               0         \n",
            "_________________________________________________________________\n",
            "activation_35 (Activation)   (None, 250)               0         \n",
            "_________________________________________________________________\n",
            "dense_70 (Dense)             (None, 3)                 753       \n",
            "=================================================================\n",
            "Total params: 3,229,253\n",
            "Trainable params: 3,229,253\n",
            "Non-trainable params: 0\n",
            "_________________________________________________________________\n"
          ],
          "name": "stdout"
        }
      ]
    },
    {
      "cell_type": "markdown",
      "metadata": {
        "id": "BmVHaW3Wfnfk",
        "colab_type": "text"
      },
      "source": [
        "# Train Model\n",
        "\n",
        "Обучение модели"
      ]
    },
    {
      "cell_type": "code",
      "metadata": {
        "id": "-satzwaLJuBk",
        "colab_type": "code",
        "colab": {}
      },
      "source": [
        "# Создание единого словаря (слово -> число) для преобразования на основе списка текстов sentences\n",
        "tokenizer = Tokenizer()\n",
        "tokenizer.fit_on_texts(sentences)"
      ],
      "execution_count": 0,
      "outputs": []
    },
    {
      "cell_type": "code",
      "metadata": {
        "id": "v03FM_bWJnDm",
        "colab_type": "code",
        "colab": {}
      },
      "source": [
        "#заменяем слова каждого предложения на числа\n",
        "X = tokenizer.texts_to_sequences(sentences)\n",
        "#уравниваем все предложения до размера maxlen\n",
        "X = pad_sequences(X, maxlen = maxlen)"
      ],
      "execution_count": 0,
      "outputs": []
    },
    {
      "cell_type": "code",
      "metadata": {
        "id": "iHh2sFxRGTpz",
        "colab_type": "code",
        "colab": {}
      },
      "source": [
        "y = to_categorical(labels)"
      ],
      "execution_count": 0,
      "outputs": []
    },
    {
      "cell_type": "code",
      "metadata": {
        "id": "dw_GhvVSfjU8",
        "colab_type": "code",
        "outputId": "751b7a7d-5842-49dd-b6fa-af013452043b",
        "colab": {
          "base_uri": "https://localhost:8080/",
          "height": 386
        }
      },
      "source": [
        "history = model.fit(X, y, batch_size=BATCH_SIZE, epochs=EPOCH_SIZE, \n",
        "                    callbacks=[keras.callbacks.ModelCheckpoint('drive/My Drive/coursework/model83.h5', save_best_only=True)],\n",
        "                    validation_split=VALIDATION_SPLIT, verbose=2)"
      ],
      "execution_count": 88,
      "outputs": [
        {
          "output_type": "stream",
          "text": [
            "Train on 8534 samples, validate on 2134 samples\n",
            "Epoch 1/10\n",
            " - 2s - loss: 1.6789e-06 - acc: 1.0000 - val_loss: 0.4041 - val_acc: 0.8304\n",
            "Epoch 2/10\n",
            " - 2s - loss: 1.3644e-06 - acc: 1.0000 - val_loss: 0.4049 - val_acc: 0.8304\n",
            "Epoch 3/10\n",
            " - 2s - loss: 1.3444e-06 - acc: 1.0000 - val_loss: 0.4059 - val_acc: 0.8304\n",
            "Epoch 4/10\n",
            " - 2s - loss: 1.1788e-06 - acc: 1.0000 - val_loss: 0.4070 - val_acc: 0.8294\n",
            "Epoch 5/10\n",
            " - 2s - loss: 1.0625e-06 - acc: 1.0000 - val_loss: 0.4081 - val_acc: 0.8294\n",
            "Epoch 6/10\n",
            " - 2s - loss: 8.0691e-07 - acc: 1.0000 - val_loss: 0.4091 - val_acc: 0.8294\n",
            "Epoch 7/10\n",
            " - 2s - loss: 8.7155e-07 - acc: 1.0000 - val_loss: 0.4100 - val_acc: 0.8290\n",
            "Epoch 8/10\n",
            " - 2s - loss: 6.7821e-07 - acc: 1.0000 - val_loss: 0.4111 - val_acc: 0.8290\n",
            "Epoch 9/10\n",
            " - 2s - loss: 5.6929e-07 - acc: 1.0000 - val_loss: 0.4121 - val_acc: 0.8285\n",
            "Epoch 10/10\n",
            " - 2s - loss: 6.5056e-07 - acc: 1.0000 - val_loss: 0.4134 - val_acc: 0.8280\n"
          ],
          "name": "stdout"
        }
      ]
    },
    {
      "cell_type": "code",
      "metadata": {
        "id": "TGwugyyEx5q4",
        "colab_type": "code",
        "outputId": "ed1afbca-a29b-4de7-a5b2-36f53bea97c4",
        "colab": {
          "base_uri": "https://localhost:8080/",
          "height": 52
        }
      },
      "source": [
        "score = model.evaluate(X_test, Y_test)\n",
        "print(\"Test accuracy: {:.3f}\".format(score[1]))"
      ],
      "execution_count": 89,
      "outputs": [
        {
          "output_type": "stream",
          "text": [
            "3201/3201 [==============================] - 0s 67us/step\n",
            "Test accuracy: 0.922\n"
          ],
          "name": "stdout"
        }
      ]
    },
    {
      "cell_type": "markdown",
      "metadata": {
        "id": "hqXsbysiUfXZ",
        "colab_type": "text"
      },
      "source": [
        "Построение графика потерь:"
      ]
    },
    {
      "cell_type": "code",
      "metadata": {
        "id": "B0eBJtvBVm5S",
        "colab_type": "code",
        "outputId": "41ec6d1d-56c8-4b5e-f06b-812e0ac3be4e",
        "colab": {
          "base_uri": "https://localhost:8080/",
          "height": 353
        }
      },
      "source": [
        "x = range(EPOCH_SIZE)\n",
        "plt.figure(figsize = (10, 5))\n",
        "plt.grid(True)\n",
        "plt.plot(x, history.history['loss'], 'go-', label = 'loss')\n",
        "plt.plot(x, history.history['val_loss'], 'yo-', label = 'val_loss')\n",
        "plt.xlabel('num_epochs')\n",
        "plt.ylabel('loss')\n",
        "plt.legend(loc='upper right')"
      ],
      "execution_count": 90,
      "outputs": [
        {
          "output_type": "execute_result",
          "data": {
            "text/plain": [
              "<matplotlib.legend.Legend at 0x7f636a83a4a8>"
            ]
          },
          "metadata": {
            "tags": []
          },
          "execution_count": 90
        },
        {
          "output_type": "display_data",
          "data": {
            "image/png": "[encoded data removed]",
            "text/plain": [
              "<Figure size 720x360 with 1 Axes>"
            ]
          },
          "metadata": {
            "tags": []
          }
        }
      ]
    },
    {
      "cell_type": "code",
      "metadata": {
        "id": "RaJZH10B4F72",
        "colab_type": "code",
        "colab": {}
      },
      "source": [
        "from keras.utils.vis_utils import plot_model"
      ],
      "execution_count": 0,
      "outputs": []
    },
    {
      "cell_type": "code",
      "metadata": {
        "id": "4t1rxGW74JDE",
        "colab_type": "code",
        "outputId": "f2144b23-4f58-4c54-d181-45960b810218",
        "colab": {
          "base_uri": "https://localhost:8080/",
          "height": 976
        }
      },
      "source": [
        "plot_model(model, to_file='drive/My Drive/coursework/model_plot.png', show_shapes=True, show_layer_names=True)"
      ],
      "execution_count": 0,
      "outputs": [
        {
          "output_type": "execute_result",
          "data": {
            "image/png": "[encoded data removed]",
            "text/plain": [
              "<IPython.core.display.Image object>"
            ]
          },
          "metadata": {
            "tags": []
          },
          "execution_count": 36
        }
      ]
    },
    {
      "cell_type": "markdown",
      "metadata": {
        "id": "3GKjmQDUx_N-",
        "colab_type": "text"
      },
      "source": [
        "Отчёт по предсказанию (по разным метрикам) + матрица ошибок:"
      ]
    },
    {
      "cell_type": "code",
      "metadata": {
        "id": "mTSVEJ2hvfIT",
        "colab_type": "code",
        "colab": {}
      },
      "source": [
        "def from_tone(prediction, tones):\n",
        "  answers = []\n",
        "\n",
        "  for i in range(prediction.shape[0]):\n",
        "    answers.append(tones[prediction[i]])\n",
        "\n",
        "  return answers"
      ],
      "execution_count": 0,
      "outputs": []
    },
    {
      "cell_type": "code",
      "metadata": {
        "id": "bFmyh0rFyEXf",
        "colab_type": "code",
        "colab": {}
      },
      "source": [
        "prediction = model.predict_classes(X_test)"
      ],
      "execution_count": 0,
      "outputs": []
    },
    {
      "cell_type": "code",
      "metadata": {
        "id": "yBFiKT1MwfJc",
        "colab_type": "code",
        "colab": {}
      },
      "source": [
        "unique_tone = df['tone'].unique().tolist()"
      ],
      "execution_count": 0,
      "outputs": []
    },
    {
      "cell_type": "code",
      "metadata": {
        "id": "sA3k5dhmE8Zo",
        "colab_type": "code",
        "outputId": "b812dcee-e8c6-4172-b70d-7c4663b93d1c",
        "colab": {
          "base_uri": "https://localhost:8080/",
          "height": 34
        }
      },
      "source": [
        "unique_tone"
      ],
      "execution_count": 93,
      "outputs": [
        {
          "output_type": "execute_result",
          "data": {
            "text/plain": [
              "['positive', 'neutral', 'negative']"
            ]
          },
          "metadata": {
            "tags": []
          },
          "execution_count": 93
        }
      ]
    },
    {
      "cell_type": "code",
      "metadata": {
        "id": "EwZ5WrSqyJIr",
        "colab_type": "code",
        "colab": {}
      },
      "source": [
        "prediction_tones = from_tone(prediction, unique_tone) "
      ],
      "execution_count": 0,
      "outputs": []
    },
    {
      "cell_type": "code",
      "metadata": {
        "id": "17rU45YJyRHT",
        "colab_type": "code",
        "colab": {}
      },
      "source": [
        "y_test = Y_test.tolist()\n",
        "y_test_tones = []\n",
        "\n",
        "for i in range(len(y_test)):\n",
        "  y_test_tones.append(df['tone'].unique()[y_test[i].index(1)])"
      ],
      "execution_count": 0,
      "outputs": []
    },
    {
      "cell_type": "code",
      "metadata": {
        "id": "c0_yZjBdydMj",
        "colab_type": "code",
        "colab": {}
      },
      "source": [
        "from sklearn.metrics import classification_report"
      ],
      "execution_count": 0,
      "outputs": []
    },
    {
      "cell_type": "code",
      "metadata": {
        "id": "QK6ONzx9yfzx",
        "colab_type": "code",
        "outputId": "3909b9a8-58b9-4197-ec01-fdf5ee23150f",
        "colab": {
          "base_uri": "https://localhost:8080/",
          "height": 193
        }
      },
      "source": [
        "print(classification_report(y_test_tones, prediction_tones))"
      ],
      "execution_count": 98,
      "outputs": [
        {
          "output_type": "stream",
          "text": [
            "              precision    recall  f1-score   support\n",
            "\n",
            "    negative       0.92      0.97      0.94      2132\n",
            "     neutral       0.99      0.83      0.90       223\n",
            "    positive       0.91      0.83      0.87       846\n",
            "\n",
            "    accuracy                           0.92      3201\n",
            "   macro avg       0.94      0.87      0.90      3201\n",
            "weighted avg       0.92      0.92      0.92      3201\n",
            "\n"
          ],
          "name": "stdout"
        }
      ]
    },
    {
      "cell_type": "code",
      "metadata": {
        "id": "fwxHVryFy27n",
        "colab_type": "code",
        "colab": {}
      },
      "source": [
        "import seaborn as sn"
      ],
      "execution_count": 0,
      "outputs": []
    },
    {
      "cell_type": "code",
      "metadata": {
        "id": "049-Xi_Syk9R",
        "colab_type": "code",
        "outputId": "355e9157-1122-4494-f75d-434043437f9c",
        "colab": {
          "base_uri": "https://localhost:8080/",
          "height": 352
        }
      },
      "source": [
        "data = {'prediction': prediction_tones,\n",
        "        'actual':    y_test_tones }\n",
        "\n",
        "df_data = pd.DataFrame(data, columns = ['actual','prediction'])\n",
        "confusion_matrix = pd.crosstab(df_data['actual'], df_data['prediction'], rownames = ['actual'], colnames = ['prediction'])\n",
        "plt.figure(figsize=(10, 5))\n",
        "sn.heatmap(confusion_matrix, annot=True,cmap=\"Greens\")"
      ],
      "execution_count": 100,
      "outputs": [
        {
          "output_type": "execute_result",
          "data": {
            "text/plain": [
              "<matplotlib.axes._subplots.AxesSubplot at 0x7f636acb9518>"
            ]
          },
          "metadata": {
            "tags": []
          },
          "execution_count": 100
        },
        {
          "output_type": "display_data",
          "data": {
            "image/png": "[encoded data removed]",
            "text/plain": [
              "<Figure size 720x360 with 2 Axes>"
            ]
          },
          "metadata": {
            "tags": []
          }
        }
      ]
    },
    {
      "cell_type": "markdown",
      "metadata": {
        "id": "4ws0aq6DvLUj",
        "colab_type": "text"
      },
      "source": [
        "Сохранение токенизированных слов и id тональностей (их построение занимает много времени, поэтому так будет проще менять структуру модели и др. в будущем)"
      ]
    },
    {
      "cell_type": "code",
      "metadata": {
        "id": "j7KV1DVs4H6A",
        "colab_type": "code",
        "colab": {}
      },
      "source": [
        "#with open('drive/My Drive/coursework/rusentilex_sentences.pickle', 'wb') as f:\n",
        "       # pickle.dump(sentences, f)\n",
        "\n",
        "#with open('drive/My Drive/coursework/rusentilex_labels.pickle', 'wb') as f:\n",
        "       # pickle.dump(labels, f)"
      ],
      "execution_count": 0,
      "outputs": []
    },
    {
      "cell_type": "markdown",
      "metadata": {
        "id": "IXJx-u0l2WD2",
        "colab_type": "text"
      },
      "source": [
        "# Оценка качества (кросс-валидация)\n"
      ]
    },
    {
      "cell_type": "code",
      "metadata": {
        "id": "itpK5ypz25nl",
        "colab_type": "code",
        "colab": {}
      },
      "source": [
        "import keras"
      ],
      "execution_count": 0,
      "outputs": []
    },
    {
      "cell_type": "code",
      "metadata": {
        "id": "oITzFdLa2bhk",
        "colab_type": "code",
        "colab": {}
      },
      "source": [
        "from sklearn.model_selection import StratifiedKFold\n",
        "from sklearn.model_selection import cross_val_score"
      ],
      "execution_count": 0,
      "outputs": []
    },
    {
      "cell_type": "code",
      "metadata": {
        "id": "srPv4Zdo2tJg",
        "colab_type": "code",
        "colab": {}
      },
      "source": [
        "keras_model = keras.models.load_model('drive/My Drive/coursework/model83.h5')"
      ],
      "execution_count": 0,
      "outputs": []
    },
    {
      "cell_type": "code",
      "metadata": {
        "id": "cCsL5wywijBY",
        "colab_type": "code",
        "colab": {
          "base_uri": "https://localhost:8080/",
          "height": 52
        },
        "outputId": "f3f2df50-0970-418a-d2f1-854b1cc36f53"
      },
      "source": [
        "score = keras_model.evaluate(X_test, Y_test)\n",
        "print(\"Test accuracy: {:.3f}\".format(score[1]))"
      ],
      "execution_count": 102,
      "outputs": [
        {
          "output_type": "stream",
          "text": [
            "3201/3201 [==============================] - 1s 453us/step\n",
            "Test accuracy: 0.923\n"
          ],
          "name": "stdout"
        }
      ]
    },
    {
      "cell_type": "code",
      "metadata": {
        "id": "MeirIaG-2jAE",
        "colab_type": "code",
        "colab": {
          "base_uri": "https://localhost:8080/",
          "height": 122
        },
        "outputId": "48021c70-bf8f-4e95-8e3a-b7fbdd320d3b"
      },
      "source": [
        "# define 5-fold cross validation test harness\n",
        "kfold = KFold(n_splits=5)\n",
        "cvscores = []\n",
        "for train, test in kfold.split(X, y):\n",
        "\t# evaluate the model\n",
        "  scores = keras_model.evaluate(X[test], y[test], verbose=0)\n",
        "  print(\"%s: %.2f%%\" % (keras_model.metrics_names[1], scores[1]*100))\n",
        "  cvscores.append(scores[1] * 100)\n",
        " \n",
        "print(\"%.2f%% (+/- %.2f%%)\" % (np.mean(cvscores), np.std(cvscores)))"
      ],
      "execution_count": 103,
      "outputs": [
        {
          "output_type": "stream",
          "text": [
            "acc: 100.00%\n",
            "acc: 100.00%\n",
            "acc: 100.00%\n",
            "acc: 100.00%\n",
            "acc: 83.03%\n",
            "96.61% (+/- 6.79%)\n"
          ],
          "name": "stdout"
        }
      ]
    },
    {
      "cell_type": "markdown",
      "metadata": {
        "id": "UF_NEJKlkxfd",
        "colab_type": "text"
      },
      "source": [
        "# Test Model\n",
        "\n",
        "Проверка работоспособности на небольших данных"
      ]
    },
    {
      "cell_type": "code",
      "metadata": {
        "id": "vGEy8cA5XZhl",
        "colab_type": "code",
        "colab": {}
      },
      "source": [
        "# метод для преобразования из id тональности в его словесное значение (0 -> positive)\n",
        "def from_tone(prediction, tones):\n",
        "  answers = []\n",
        "\n",
        "  for i in range(prediction.shape[0]):\n",
        "    answers.append(tones[prediction[i]])\n",
        "\n",
        "  return answers"
      ],
      "execution_count": 0,
      "outputs": []
    },
    {
      "cell_type": "code",
      "metadata": {
        "id": "diz5l8u3lEJx",
        "colab_type": "code",
        "colab": {}
      },
      "source": [
        "test_samples = ['ненужный', 'отвратительный', 'прикольный', 'милый', 'жестокий', 'шедевр', 'никакой']"
      ],
      "execution_count": 0,
      "outputs": []
    },
    {
      "cell_type": "code",
      "metadata": {
        "id": "Ja-r80-UJ4Hg",
        "colab_type": "code",
        "outputId": "d74f86d6-463a-4643-97bd-a4e7053dddbe",
        "colab": {
          "base_uri": "https://localhost:8080/",
          "height": 140
        }
      },
      "source": [
        "test_samples = [[add_part_of_speech(test)] for test in test_samples]\n",
        "test_samples"
      ],
      "execution_count": 0,
      "outputs": [
        {
          "output_type": "execute_result",
          "data": {
            "text/plain": [
              "[['ненужный_ADJF'],\n",
              " ['отвратительный_ADJF'],\n",
              " ['прикольный_ADJF'],\n",
              " ['милый_ADJF'],\n",
              " ['жестокий_ADJF'],\n",
              " ['шедевр_NOUN'],\n",
              " ['никакой_ADJF']]"
            ]
          },
          "metadata": {
            "tags": []
          },
          "execution_count": 50
        }
      ]
    },
    {
      "cell_type": "code",
      "metadata": {
        "id": "wZ3nGCk5lMQe",
        "colab_type": "code",
        "colab": {}
      },
      "source": [
        "test_samples_tokens = tokenizer.texts_to_sequences(test_samples)"
      ],
      "execution_count": 0,
      "outputs": []
    },
    {
      "cell_type": "code",
      "metadata": {
        "id": "0AQMioEmlSXB",
        "colab_type": "code",
        "colab": {}
      },
      "source": [
        "test_samples_pad = pad_sequences(test_samples_tokens, maxlen=maxlen)"
      ],
      "execution_count": 0,
      "outputs": []
    },
    {
      "cell_type": "code",
      "metadata": {
        "id": "jtt7wlPPlYzg",
        "colab_type": "code",
        "colab": {}
      },
      "source": [
        "predict = model.predict_classes(x=test_samples_pad)"
      ],
      "execution_count": 0,
      "outputs": []
    },
    {
      "cell_type": "code",
      "metadata": {
        "id": "TQXT5LG0Xlw_",
        "colab_type": "code",
        "outputId": "df22fabe-ac8a-4699-890f-780fe1d86f4f",
        "colab": {
          "base_uri": "https://localhost:8080/",
          "height": 140
        }
      },
      "source": [
        "answers = from_tone(predict, df['tone'].unique().tolist()) \n",
        "answers"
      ],
      "execution_count": 0,
      "outputs": [
        {
          "output_type": "execute_result",
          "data": {
            "text/plain": [
              "['negative',\n",
              " 'negative',\n",
              " 'positive',\n",
              " 'negative',\n",
              " 'negative',\n",
              " 'positive',\n",
              " 'negative']"
            ]
          },
          "metadata": {
            "tags": []
          },
          "execution_count": 54
        }
      ]
    },
    {
      "cell_type": "markdown",
      "metadata": {
        "id": "-PZhh1shJzuf",
        "colab_type": "text"
      },
      "source": [
        "# Классификация неразмеченного словаря, полученного из отзывов"
      ]
    },
    {
      "cell_type": "code",
      "metadata": {
        "id": "frQtC1XEKGt4",
        "colab_type": "code",
        "colab": {}
      },
      "source": [
        "import json"
      ],
      "execution_count": 0,
      "outputs": []
    },
    {
      "cell_type": "code",
      "metadata": {
        "id": "iOErAKKLJ49U",
        "colab_type": "code",
        "colab": {}
      },
      "source": [
        "# загружаем неразмеченный словарь из json файла\n",
        "with open('drive/My Drive/coursework/unallocated_dictionary.json', 'r', encoding='utf-8') as f:\n",
        "    js = json.load(f)"
      ],
      "execution_count": 0,
      "outputs": []
    },
    {
      "cell_type": "code",
      "metadata": {
        "id": "BTuc39dvKQR1",
        "colab_type": "code",
        "outputId": "c29213ed-6236-4677-f341-eda69e647756",
        "colab": {
          "base_uri": "https://localhost:8080/",
          "height": 105
        }
      },
      "source": [
        "js[:5]"
      ],
      "execution_count": 0,
      "outputs": [
        {
          "output_type": "execute_result",
          "data": {
            "text/plain": [
              "[['телефон_NOUN', 13004],\n",
              " ['очень_ADVB', 7831],\n",
              " ['экран_NOUN', 6981],\n",
              " ['хороший_ADJF', 5305],\n",
              " ['камера_NOUN', 5178]]"
            ]
          },
          "metadata": {
            "tags": []
          },
          "execution_count": 57
        }
      ]
    },
    {
      "cell_type": "code",
      "metadata": {
        "id": "chuA1NDHKpL0",
        "colab_type": "code",
        "colab": {}
      },
      "source": [
        "unallocated_words = [[word[0]] for word in js]"
      ],
      "execution_count": 0,
      "outputs": []
    },
    {
      "cell_type": "code",
      "metadata": {
        "id": "Mjo5Om0CKpIL",
        "colab_type": "code",
        "outputId": "40254ac1-2e19-42ef-ccd0-7b3b5ea222c4",
        "colab": {
          "base_uri": "https://localhost:8080/",
          "height": 122
        }
      },
      "source": [
        "unallocated_words[:6]"
      ],
      "execution_count": 0,
      "outputs": [
        {
          "output_type": "execute_result",
          "data": {
            "text/plain": [
              "[['телефон_NOUN'],\n",
              " ['очень_ADVB'],\n",
              " ['экран_NOUN'],\n",
              " ['хороший_ADJF'],\n",
              " ['камера_NOUN'],\n",
              " ['весь_ADJF']]"
            ]
          },
          "metadata": {
            "tags": []
          },
          "execution_count": 59
        }
      ]
    },
    {
      "cell_type": "code",
      "metadata": {
        "id": "6XvFY6BiK7zo",
        "colab_type": "code",
        "colab": {}
      },
      "source": [
        "unallocated_words_tokens = tokenizer.texts_to_sequences(unallocated_words)"
      ],
      "execution_count": 0,
      "outputs": []
    },
    {
      "cell_type": "code",
      "metadata": {
        "id": "OxsKF1FtLBq-",
        "colab_type": "code",
        "colab": {}
      },
      "source": [
        "unallocated_words__pad = pad_sequences(unallocated_words_tokens, maxlen=maxlen)"
      ],
      "execution_count": 0,
      "outputs": []
    },
    {
      "cell_type": "code",
      "metadata": {
        "id": "WZgT790LLH4T",
        "colab_type": "code",
        "colab": {}
      },
      "source": [
        "predict = model.predict_classes(x=unallocated_words__pad)"
      ],
      "execution_count": 0,
      "outputs": []
    },
    {
      "cell_type": "code",
      "metadata": {
        "id": "GfDLtSdgLN8t",
        "colab_type": "code",
        "colab": {}
      },
      "source": [
        "answers = from_tone(predict, df['tone'].unique().tolist())"
      ],
      "execution_count": 0,
      "outputs": []
    },
    {
      "cell_type": "code",
      "metadata": {
        "id": "lpoXQMKAOPh4",
        "colab_type": "code",
        "colab": {}
      },
      "source": [
        "keys = [word[0] for word in js]"
      ],
      "execution_count": 0,
      "outputs": []
    },
    {
      "cell_type": "code",
      "metadata": {
        "id": "3AfU0piDMeDg",
        "colab_type": "code",
        "colab": {}
      },
      "source": [
        "dictionary = dict(zip(keys, answers))"
      ],
      "execution_count": 0,
      "outputs": []
    },
    {
      "cell_type": "code",
      "metadata": {
        "id": "PpAlCG0EPtMo",
        "colab_type": "code",
        "colab": {}
      },
      "source": [
        "import itertools"
      ],
      "execution_count": 0,
      "outputs": []
    },
    {
      "cell_type": "code",
      "metadata": {
        "id": "xox7-fG_OpyC",
        "colab_type": "code",
        "outputId": "84fad068-532b-4ac8-bdc9-80eacc683ebe",
        "colab": {
          "base_uri": "https://localhost:8080/",
          "height": 281
        }
      },
      "source": [
        "dict(itertools.islice(dictionary.items(), 15))"
      ],
      "execution_count": 0,
      "outputs": [
        {
          "output_type": "execute_result",
          "data": {
            "text/plain": [
              "{'батарея_NOUN': 'negative',\n",
              " 'весь_ADJF': 'negative',\n",
              " 'год_NOUN': 'negative',\n",
              " 'день_NOUN': 'negative',\n",
              " 'камера_NOUN': 'negative',\n",
              " 'качество_NOUN': 'negative',\n",
              " 'один_ADJF': 'negative',\n",
              " 'отличный_ADJF': 'positive',\n",
              " 'очень_ADVB': 'negative',\n",
              " 'приложение_NOUN': 'negative',\n",
              " 'работать_INFN': 'negative',\n",
              " 'телефон_NOUN': 'negative',\n",
              " 'хороший_ADJF': 'positive',\n",
              " 'цена_NOUN': 'negative',\n",
              " 'экран_NOUN': 'negative'}"
            ]
          },
          "metadata": {
            "tags": []
          },
          "execution_count": 67
        }
      ]
    },
    {
      "cell_type": "code",
      "metadata": {
        "id": "tuWxwjiaP-0N",
        "colab_type": "code",
        "colab": {}
      },
      "source": [
        "# сохраняем размеченный словарь в json файл\n",
        "with open('drive/My Drive/coursework/tagged_dictionary_80.json', 'w', encoding='utf-8') as f:\n",
        "    json.dump(dictionary, f, ensure_ascii=False, indent=4)"
      ],
      "execution_count": 0,
      "outputs": []
    },
    {
      "cell_type": "code",
      "metadata": {
        "id": "d9Ubr3aHV34D",
        "colab_type": "code",
        "colab": {}
      },
      "source": [
        "# так же сохраняем словарь в csv файл\n",
        "import csv\n",
        "from itertools import zip_longest\n",
        "d = [keys, answers]\n",
        "export_data = zip_longest(*d, fillvalue = '')\n",
        "with open('drive/My Drive/coursework/tagged_dictionary_80.csv', 'w', encoding='utf-8', newline='') as f:\n",
        "      wr = csv.writer(f)\n",
        "      wr.writerow((\"term\", \"tone\"))\n",
        "      wr.writerows(export_data)\n",
        "f.close()"
      ],
      "execution_count": 0,
      "outputs": []
    },
    {
      "cell_type": "code",
      "metadata": {
        "id": "a-1APTnTWHHW",
        "colab_type": "code",
        "colab": {}
      },
      "source": [
        "tagged_dictionary = pd.read_csv('drive/My Drive/coursework/tagged_dictionary_80.csv')"
      ],
      "execution_count": 0,
      "outputs": []
    },
    {
      "cell_type": "code",
      "metadata": {
        "id": "njadqVcaWMNr",
        "colab_type": "code",
        "outputId": "5428f462-ae9d-49cd-ee34-d62d7d32758a",
        "colab": {
          "base_uri": "https://localhost:8080/",
          "height": 491
        }
      },
      "source": [
        "tagged_dictionary[:15]"
      ],
      "execution_count": 0,
      "outputs": [
        {
          "output_type": "execute_result",
          "data": {
            "text/html": [
              "<div>\n",
              "<style scoped>\n",
              "    .dataframe tbody tr th:only-of-type {\n",
              "        vertical-align: middle;\n",
              "    }\n",
              "\n",
              "    .dataframe tbody tr th {\n",
              "        vertical-align: top;\n",
              "    }\n",
              "\n",
              "    .dataframe thead th {\n",
              "        text-align: right;\n",
              "    }\n",
              "</style>\n",
              "<table border=\"1\" class=\"dataframe\">\n",
              "  <thead>\n",
              "    <tr style=\"text-align: right;\">\n",
              "      <th></th>\n",
              "      <th>term</th>\n",
              "      <th>tone</th>\n",
              "    </tr>\n",
              "  </thead>\n",
              "  <tbody>\n",
              "    <tr>\n",
              "      <th>0</th>\n",
              "      <td>телефон_NOUN</td>\n",
              "      <td>negative</td>\n",
              "    </tr>\n",
              "    <tr>\n",
              "      <th>1</th>\n",
              "      <td>очень_ADVB</td>\n",
              "      <td>negative</td>\n",
              "    </tr>\n",
              "    <tr>\n",
              "      <th>2</th>\n",
              "      <td>экран_NOUN</td>\n",
              "      <td>negative</td>\n",
              "    </tr>\n",
              "    <tr>\n",
              "      <th>3</th>\n",
              "      <td>хороший_ADJF</td>\n",
              "      <td>positive</td>\n",
              "    </tr>\n",
              "    <tr>\n",
              "      <th>4</th>\n",
              "      <td>камера_NOUN</td>\n",
              "      <td>negative</td>\n",
              "    </tr>\n",
              "    <tr>\n",
              "      <th>5</th>\n",
              "      <td>весь_ADJF</td>\n",
              "      <td>negative</td>\n",
              "    </tr>\n",
              "    <tr>\n",
              "      <th>6</th>\n",
              "      <td>работать_INFN</td>\n",
              "      <td>negative</td>\n",
              "    </tr>\n",
              "    <tr>\n",
              "      <th>7</th>\n",
              "      <td>день_NOUN</td>\n",
              "      <td>negative</td>\n",
              "    </tr>\n",
              "    <tr>\n",
              "      <th>8</th>\n",
              "      <td>батарея_NOUN</td>\n",
              "      <td>negative</td>\n",
              "    </tr>\n",
              "    <tr>\n",
              "      <th>9</th>\n",
              "      <td>приложение_NOUN</td>\n",
              "      <td>negative</td>\n",
              "    </tr>\n",
              "    <tr>\n",
              "      <th>10</th>\n",
              "      <td>качество_NOUN</td>\n",
              "      <td>negative</td>\n",
              "    </tr>\n",
              "    <tr>\n",
              "      <th>11</th>\n",
              "      <td>отличный_ADJF</td>\n",
              "      <td>positive</td>\n",
              "    </tr>\n",
              "    <tr>\n",
              "      <th>12</th>\n",
              "      <td>год_NOUN</td>\n",
              "      <td>negative</td>\n",
              "    </tr>\n",
              "    <tr>\n",
              "      <th>13</th>\n",
              "      <td>цена_NOUN</td>\n",
              "      <td>negative</td>\n",
              "    </tr>\n",
              "    <tr>\n",
              "      <th>14</th>\n",
              "      <td>один_ADJF</td>\n",
              "      <td>negative</td>\n",
              "    </tr>\n",
              "  </tbody>\n",
              "</table>\n",
              "</div>"
            ],
            "text/plain": [
              "               term      tone\n",
              "0      телефон_NOUN  negative\n",
              "1        очень_ADVB  negative\n",
              "2        экран_NOUN  negative\n",
              "3      хороший_ADJF  positive\n",
              "4       камера_NOUN  negative\n",
              "5         весь_ADJF  negative\n",
              "6     работать_INFN  negative\n",
              "7         день_NOUN  negative\n",
              "8      батарея_NOUN  negative\n",
              "9   приложение_NOUN  negative\n",
              "10    качество_NOUN  negative\n",
              "11    отличный_ADJF  positive\n",
              "12         год_NOUN  negative\n",
              "13        цена_NOUN  negative\n",
              "14        один_ADJF  negative"
            ]
          },
          "metadata": {
            "tags": []
          },
          "execution_count": 71
        }
      ]
    }
  ]
}