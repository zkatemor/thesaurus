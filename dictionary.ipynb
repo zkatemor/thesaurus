{
  "nbformat": 4,
  "nbformat_minor": 0,
  "metadata": {
    "colab": {
      "name": "dictionary.ipynb",
      "provenance": [],
      "collapsed_sections": [
        "UF_NEJKlkxfd"
      ]
    },
    "kernelspec": {
      "name": "python3",
      "display_name": "Python 3"
    },
    "accelerator": "GPU"
  },
  "cells": [
    {
      "cell_type": "code",
      "metadata": {
        "id": "3H17CPcqaL_Y",
        "colab_type": "code",
        "outputId": "d9f0808d-352a-43ce-ebd5-376677cb55d1",
        "colab": {
          "base_uri": "https://localhost:8080/",
          "height": 125
        }
      },
      "source": [
        "from google.colab import drive\n",
        "drive.mount('/content/drive')"
      ],
      "execution_count": 4,
      "outputs": [
        {
          "output_type": "stream",
          "text": [
            "Go to this URL in a browser: https://accounts.google.com/o/oauth2/auth?client_id=947318989803-6bn6qk8qdgf4n4g3pfee6491hc0brc4i.apps.googleusercontent.com&redirect_uri=urn%3aietf%3awg%3aoauth%3a2.0%3aoob&response_type=code&scope=email%20https%3a%2f%2fwww.googleapis.com%2fauth%2fdocs.test%20https%3a%2f%2fwww.googleapis.com%2fauth%2fdrive%20https%3a%2f%2fwww.googleapis.com%2fauth%2fdrive.photos.readonly%20https%3a%2f%2fwww.googleapis.com%2fauth%2fpeopleapi.readonly\n",
            "\n",
            "Enter your authorization code:\n",
            "··········\n",
            "Mounted at /content/drive\n"
          ],
          "name": "stdout"
        }
      ]
    },
    {
      "cell_type": "code",
      "metadata": {
        "id": "rzsQEd5f-nJ7",
        "colab_type": "code",
        "colab": {
          "base_uri": "https://localhost:8080/",
          "height": 230
        },
        "outputId": "d1965b60-2f45-4a1a-e1c9-9363c77e8513"
      },
      "source": [
        "pip install pymorphy2"
      ],
      "execution_count": 2,
      "outputs": [
        {
          "output_type": "stream",
          "text": [
            "Collecting pymorphy2\n",
            "\u001b[?25l  Downloading https://files.pythonhosted.org/packages/a3/33/fff9675c68b5f6c63ec8c6e6ff57827dda28a1fa5b2c2d727dffff92dd47/pymorphy2-0.8-py2.py3-none-any.whl (46kB)\n",
            "\r\u001b[K     |███████                         | 10kB 29.0MB/s eta 0:00:01\r\u001b[K     |██████████████▏                 | 20kB 3.1MB/s eta 0:00:01\r\u001b[K     |█████████████████████▎          | 30kB 4.6MB/s eta 0:00:01\r\u001b[K     |████████████████████████████▍   | 40kB 3.0MB/s eta 0:00:01\r\u001b[K     |████████████████████████████████| 51kB 2.7MB/s \n",
            "\u001b[?25hCollecting pymorphy2-dicts<3.0,>=2.4\n",
            "\u001b[?25l  Downloading https://files.pythonhosted.org/packages/02/51/2465fd4f72328ab50877b54777764d928da8cb15b74e2680fc1bd8cb3173/pymorphy2_dicts-2.4.393442.3710985-py2.py3-none-any.whl (7.1MB)\n",
            "\u001b[K     |████████████████████████████████| 7.1MB 6.4MB/s \n",
            "\u001b[?25hRequirement already satisfied: docopt>=0.6 in /usr/local/lib/python3.6/dist-packages (from pymorphy2) (0.6.2)\n",
            "Collecting dawg-python>=0.7\n",
            "  Downloading https://files.pythonhosted.org/packages/6a/84/ff1ce2071d4c650ec85745766c0047ccc3b5036f1d03559fd46bb38b5eeb/DAWG_Python-0.7.2-py2.py3-none-any.whl\n",
            "Installing collected packages: pymorphy2-dicts, dawg-python, pymorphy2\n",
            "Successfully installed dawg-python-0.7.2 pymorphy2-0.8 pymorphy2-dicts-2.4.393442.3710985\n"
          ],
          "name": "stdout"
        }
      ]
    },
    {
      "cell_type": "code",
      "metadata": {
        "id": "Ro6JQl-8-j8h",
        "colab_type": "code",
        "colab": {}
      },
      "source": [
        "import numpy as np\n",
        "import pandas as pd\n",
        "from keras.callbacks import ModelCheckpoint\n",
        "from keras_preprocessing.text import Tokenizer\n",
        "from keras_preprocessing.sequence import pad_sequences\n",
        "import collections\n",
        "from keras.models import Sequential\n",
        "from keras.layers import Dense, Embedding, LSTM, GRU, Activation, Dropout\n",
        "from keras.layers.embeddings import Embedding\n",
        "import gensim.downloader\n",
        "from keras.utils import to_categorical\n",
        "from sklearn.model_selection import train_test_split\n",
        "import matplotlib.pyplot as plt\n",
        "import sklearn\n",
        "import pymorphy2"
      ],
      "execution_count": 0,
      "outputs": []
    },
    {
      "cell_type": "markdown",
      "metadata": {
        "id": "e5fq1F3ob7iN",
        "colab_type": "text"
      },
      "source": [
        "# DataSet\n",
        " \n",
        "Загрузка словаря RuSentilex в формате .csv\n",
        "*   https://www.labinform.ru/pub/rusentilex/index.htm\n",
        "\n"
      ]
    },
    {
      "cell_type": "code",
      "metadata": {
        "id": "GhFeuumXadtJ",
        "colab_type": "code",
        "colab": {}
      },
      "source": [
        "df = pd.read_csv('drive/My Drive/coursework/rusentilex.csv')"
      ],
      "execution_count": 0,
      "outputs": []
    },
    {
      "cell_type": "code",
      "metadata": {
        "id": "agYLF6Kba75A",
        "colab_type": "code",
        "outputId": "93e18e39-fb62-47e9-aeaa-a94a5c15d7c7",
        "colab": {
          "base_uri": "https://localhost:8080/",
          "height": 136
        }
      },
      "source": [
        "df.head(3)"
      ],
      "execution_count": 6,
      "outputs": [
        {
          "output_type": "execute_result",
          "data": {
            "text/html": [
              "<div>\n",
              "<style scoped>\n",
              "    .dataframe tbody tr th:only-of-type {\n",
              "        vertical-align: middle;\n",
              "    }\n",
              "\n",
              "    .dataframe tbody tr th {\n",
              "        vertical-align: top;\n",
              "    }\n",
              "\n",
              "    .dataframe thead th {\n",
              "        text-align: right;\n",
              "    }\n",
              "</style>\n",
              "<table border=\"1\" class=\"dataframe\">\n",
              "  <thead>\n",
              "    <tr style=\"text-align: right;\">\n",
              "      <th></th>\n",
              "      <th>term</th>\n",
              "      <th>tone</th>\n",
              "    </tr>\n",
              "  </thead>\n",
              "  <tbody>\n",
              "    <tr>\n",
              "      <th>0</th>\n",
              "      <td>остепеняться</td>\n",
              "      <td>positive</td>\n",
              "    </tr>\n",
              "    <tr>\n",
              "      <th>1</th>\n",
              "      <td>трудолюбивый</td>\n",
              "      <td>positive</td>\n",
              "    </tr>\n",
              "    <tr>\n",
              "      <th>2</th>\n",
              "      <td>беспалевный</td>\n",
              "      <td>positive</td>\n",
              "    </tr>\n",
              "  </tbody>\n",
              "</table>\n",
              "</div>"
            ],
            "text/plain": [
              "           term      tone\n",
              "0  остепеняться  positive\n",
              "1  трудолюбивый  positive\n",
              "2   беспалевный  positive"
            ]
          },
          "metadata": {
            "tags": []
          },
          "execution_count": 6
        }
      ]
    },
    {
      "cell_type": "code",
      "metadata": {
        "id": "WsbhJmtBbD6c",
        "colab_type": "code",
        "outputId": "254f8731-99fa-45d3-9f2e-e0f39fe9546b",
        "colab": {
          "base_uri": "https://localhost:8080/",
          "height": 34
        }
      },
      "source": [
        "len(df)"
      ],
      "execution_count": 7,
      "outputs": [
        {
          "output_type": "execute_result",
          "data": {
            "text/plain": [
              "10668"
            ]
          },
          "metadata": {
            "tags": []
          },
          "execution_count": 7
        }
      ]
    },
    {
      "cell_type": "markdown",
      "metadata": {
        "id": "v3moVQWS_QQc",
        "colab_type": "text"
      },
      "source": [
        "Всего в словаре 10668 слов."
      ]
    },
    {
      "cell_type": "code",
      "metadata": {
        "id": "lBM7v6UddV_Q",
        "colab_type": "code",
        "colab": {}
      },
      "source": [
        "# получение id тональности\n",
        "def get_ids(all_tones):\n",
        "    result = []\n",
        "\n",
        "    for tone in all_tones:\n",
        "        result.append(all_tones.unique().tolist().index(tone))\n",
        "\n",
        "    return result"
      ],
      "execution_count": 0,
      "outputs": []
    },
    {
      "cell_type": "code",
      "metadata": {
        "id": "lzJ0wpESdXZq",
        "colab_type": "code",
        "colab": {}
      },
      "source": [
        "labels = get_ids(df['tone'])\n",
        "total_words = df['term']\n",
        "# перемешиваем\n",
        "total_words, labels = sklearn.utils.shuffle(total_words, labels)"
      ],
      "execution_count": 0,
      "outputs": []
    },
    {
      "cell_type": "code",
      "metadata": {
        "id": "sR2jB1xKEme9",
        "colab_type": "code",
        "colab": {}
      },
      "source": [
        "# получаем список для корректной работы с моделью\n",
        "sentences = [[word] for word in total_words]"
      ],
      "execution_count": 0,
      "outputs": []
    },
    {
      "cell_type": "code",
      "metadata": {
        "id": "uBIUBPu2E8HU",
        "colab_type": "code",
        "colab": {}
      },
      "source": [
        "counter = collections.Counter()"
      ],
      "execution_count": 0,
      "outputs": []
    },
    {
      "cell_type": "code",
      "metadata": {
        "id": "X-BypFa5E_Fu",
        "colab_type": "code",
        "colab": {}
      },
      "source": [
        "#считаем максимальную длину предложений (в словаре могут быть словосочетания), а также частоту всех слов, считанных из файла\n",
        "maxlen = 0\n",
        "for words in sentences:\n",
        "    if len(words) > maxlen:\n",
        "        maxlen = len(words)\n",
        "    for word in words:\n",
        "        counter[word] += 1"
      ],
      "execution_count": 0,
      "outputs": []
    },
    {
      "cell_type": "code",
      "metadata": {
        "id": "QMnhnLlzFE_F",
        "colab_type": "code",
        "colab": {
          "base_uri": "https://localhost:8080/",
          "height": 34
        },
        "outputId": "c3689bff-14ab-4e36-da9a-c1fd796faf3c"
      },
      "source": [
        "vocab_sz = len(counter) + 1 \n",
        "print('Размер словаря: ' + str(vocab_sz))"
      ],
      "execution_count": 19,
      "outputs": [
        {
          "output_type": "stream",
          "text": [
            "Размер словаря: 10669\n"
          ],
          "name": "stdout"
        }
      ]
    },
    {
      "cell_type": "markdown",
      "metadata": {
        "id": "byG7WHx8A18N",
        "colab_type": "text"
      },
      "source": [
        "Задаем необходимые константные значения и загружаем русскоязычную модель Word2Vec"
      ]
    },
    {
      "cell_type": "code",
      "metadata": {
        "id": "S4ElkGObez23",
        "colab_type": "code",
        "colab": {}
      },
      "source": [
        "EMBEDDING_DIM = 300\n",
        "VALIDATION_SPLIT = 0.2\n",
        "EPOCH_SIZE = 15\n",
        "BATCH_SIZE = 164"
      ],
      "execution_count": 0,
      "outputs": []
    },
    {
      "cell_type": "code",
      "metadata": {
        "id": "VaemuBaCDoFW",
        "colab_type": "code",
        "colab": {}
      },
      "source": [
        "word2vec_model = gensim.downloader.load(\"word2vec-ruscorpora-300\")"
      ],
      "execution_count": 0,
      "outputs": []
    },
    {
      "cell_type": "markdown",
      "metadata": {
        "id": "Ykl10VCGehC8",
        "colab_type": "text"
      },
      "source": [
        "# Работа с Keras"
      ]
    },
    {
      "cell_type": "code",
      "metadata": {
        "id": "rhwENqX5pjSJ",
        "colab_type": "code",
        "colab": {}
      },
      "source": [
        "#создаём матрицу размером размерность словаря*размерность вектора слова\n",
        "embedding_weights = np.zeros((len(counter) + 1, EMBEDDING_DIM))\n",
        "index = 0\n",
        "#сортируем слова по частоте встречаемости\n",
        "sorted_counter = counter.most_common()\n",
        "#для каждого слова из нашего словаря задаём вектор из word2vec_model в матрицу\n",
        "for word in sorted_counter:\n",
        "    try:\n",
        "      embedding_weights[index, :] = word2vec_model[word[0]] \n",
        "      index+=1     \n",
        "    #если нет слова в словаре word2vec_model\n",
        "    except KeyError:\n",
        "      index+=1\n",
        "      pass"
      ],
      "execution_count": 0,
      "outputs": []
    },
    {
      "cell_type": "markdown",
      "metadata": {
        "id": "NbqNBBdiBYVP",
        "colab_type": "text"
      },
      "source": [
        "Собираем модель для обучения:\n",
        "1 слой модели – русскоязычный word2vec"
      ]
    },
    {
      "cell_type": "code",
      "metadata": {
        "id": "r-_S0tW-e3EA",
        "colab_type": "code",
        "colab": {}
      },
      "source": [
        "model = Sequential()\n",
        "model.add(Embedding(len(counter) + 1, EMBEDDING_DIM, input_length=maxlen, weights=[embedding_weights],\n",
        "                    trainable=True))\n",
        "model.add(GRU(units=32, dropout=0.2, recurrent_dropout=0.2))\n",
        "model.add(Dense(3, activation='softmax'))"
      ],
      "execution_count": 0,
      "outputs": []
    },
    {
      "cell_type": "code",
      "metadata": {
        "id": "uJtcgl2YfMEW",
        "colab_type": "code",
        "colab": {}
      },
      "source": [
        "model.compile(loss='categorical_crossentropy', optimizer='adam', metrics=['accuracy'])"
      ],
      "execution_count": 0,
      "outputs": []
    },
    {
      "cell_type": "code",
      "metadata": {
        "id": "by-hNLEjfeK_",
        "colab_type": "code",
        "outputId": "3163f69e-0c03-4351-f6fa-15d65a52685d",
        "colab": {
          "base_uri": "https://localhost:8080/",
          "height": 263
        }
      },
      "source": [
        "model.summary()"
      ],
      "execution_count": 198,
      "outputs": [
        {
          "output_type": "stream",
          "text": [
            "Model: \"sequential_18\"\n",
            "_________________________________________________________________\n",
            "Layer (type)                 Output Shape              Param #   \n",
            "=================================================================\n",
            "embedding_18 (Embedding)     (None, 1, 300)            3200700   \n",
            "_________________________________________________________________\n",
            "gru_11 (GRU)                 (None, 32)                31968     \n",
            "_________________________________________________________________\n",
            "dense_20 (Dense)             (None, 3)                 99        \n",
            "=================================================================\n",
            "Total params: 3,232,767\n",
            "Trainable params: 3,232,767\n",
            "Non-trainable params: 0\n",
            "_________________________________________________________________\n"
          ],
          "name": "stdout"
        }
      ]
    },
    {
      "cell_type": "markdown",
      "metadata": {
        "id": "BmVHaW3Wfnfk",
        "colab_type": "text"
      },
      "source": [
        "# Train Model\n",
        "\n",
        "Обучение модели"
      ]
    },
    {
      "cell_type": "code",
      "metadata": {
        "id": "-satzwaLJuBk",
        "colab_type": "code",
        "colab": {}
      },
      "source": [
        "# Создание единого словаря (слово -> число) для преобразования на основе списка текстов sentences\n",
        "tokenizer = Tokenizer()\n",
        "tokenizer.fit_on_texts(sentences)"
      ],
      "execution_count": 0,
      "outputs": []
    },
    {
      "cell_type": "code",
      "metadata": {
        "id": "v03FM_bWJnDm",
        "colab_type": "code",
        "colab": {}
      },
      "source": [
        "#заменяем слова каждого предложения на числа\n",
        "X = tokenizer.texts_to_sequences(sentences)\n",
        "#уравниваем все предложения до размера maxlen\n",
        "X = pad_sequences(X, maxlen = maxlen)"
      ],
      "execution_count": 0,
      "outputs": []
    },
    {
      "cell_type": "code",
      "metadata": {
        "id": "iHh2sFxRGTpz",
        "colab_type": "code",
        "colab": {}
      },
      "source": [
        "y = to_categorical(labels)"
      ],
      "execution_count": 0,
      "outputs": []
    },
    {
      "cell_type": "code",
      "metadata": {
        "id": "dw_GhvVSfjU8",
        "colab_type": "code",
        "outputId": "f7dc348a-4ac1-4296-e31b-8769941e9c0b",
        "colab": {
          "base_uri": "https://localhost:8080/",
          "height": 562
        }
      },
      "source": [
        "history = model.fit(X, y, batch_size=BATCH_SIZE, epochs=EPOCH_SIZE, \n",
        "                    callbacks=[ModelCheckpoint('drive/My Drive/coursework/model.h5', save_best_only=True)],\n",
        "                    validation_split=VALIDATION_SPLIT, verbose=2)"
      ],
      "execution_count": 244,
      "outputs": [
        {
          "output_type": "stream",
          "text": [
            "Train on 8534 samples, validate on 2134 samples\n",
            "Epoch 1/15\n",
            " - 0s - loss: 1.2547e-05 - acc: 1.0000 - val_loss: 0.2933 - val_acc: 0.8791\n",
            "Epoch 2/15\n",
            " - 0s - loss: 1.2243e-05 - acc: 1.0000 - val_loss: 0.2933 - val_acc: 0.8791\n",
            "Epoch 3/15\n",
            " - 0s - loss: 1.1904e-05 - acc: 1.0000 - val_loss: 0.2933 - val_acc: 0.8791\n",
            "Epoch 4/15\n",
            " - 0s - loss: 1.1477e-05 - acc: 1.0000 - val_loss: 0.2933 - val_acc: 0.8791\n",
            "Epoch 5/15\n",
            " - 0s - loss: 1.1166e-05 - acc: 1.0000 - val_loss: 0.2933 - val_acc: 0.8791\n",
            "Epoch 6/15\n",
            " - 0s - loss: 1.0781e-05 - acc: 1.0000 - val_loss: 0.2933 - val_acc: 0.8791\n",
            "Epoch 7/15\n",
            " - 0s - loss: 1.0540e-05 - acc: 1.0000 - val_loss: 0.2933 - val_acc: 0.8791\n",
            "Epoch 8/15\n",
            " - 0s - loss: 1.0107e-05 - acc: 1.0000 - val_loss: 0.2933 - val_acc: 0.8791\n",
            "Epoch 9/15\n",
            " - 0s - loss: 9.9055e-06 - acc: 1.0000 - val_loss: 0.2933 - val_acc: 0.8791\n",
            "Epoch 10/15\n",
            " - 0s - loss: 9.5076e-06 - acc: 1.0000 - val_loss: 0.2933 - val_acc: 0.8791\n",
            "Epoch 11/15\n",
            " - 0s - loss: 9.3000e-06 - acc: 1.0000 - val_loss: 0.2933 - val_acc: 0.8791\n",
            "Epoch 12/15\n",
            " - 0s - loss: 9.0268e-06 - acc: 1.0000 - val_loss: 0.2933 - val_acc: 0.8791\n",
            "Epoch 13/15\n",
            " - 0s - loss: 8.7621e-06 - acc: 1.0000 - val_loss: 0.2933 - val_acc: 0.8791\n",
            "Epoch 14/15\n",
            " - 0s - loss: 8.4709e-06 - acc: 1.0000 - val_loss: 0.2933 - val_acc: 0.8791\n",
            "Epoch 15/15\n",
            " - 0s - loss: 8.2174e-06 - acc: 1.0000 - val_loss: 0.2933 - val_acc: 0.8791\n"
          ],
          "name": "stdout"
        }
      ]
    },
    {
      "cell_type": "markdown",
      "metadata": {
        "id": "hqXsbysiUfXZ",
        "colab_type": "text"
      },
      "source": [
        "Модель обучилась с точностью ~88%\n",
        "\n",
        "Построение графика потерь:"
      ]
    },
    {
      "cell_type": "code",
      "metadata": {
        "id": "B0eBJtvBVm5S",
        "colab_type": "code",
        "colab": {
          "base_uri": "https://localhost:8080/",
          "height": 353
        },
        "outputId": "40c39308-9cd9-4bb8-83a8-3b11a3eafff4"
      },
      "source": [
        "x = range(EPOCH_SIZE)\n",
        "plt.figure(figsize = (10, 5))\n",
        "plt.grid(True)\n",
        "plt.plot(x, history.history['loss'], 'go-', label = 'loss')\n",
        "plt.plot(x, history.history['val_loss'], 'yo-', label = 'val_loss')\n",
        "plt.xlabel('num_epochs')\n",
        "plt.ylabel('loss')\n",
        "plt.legend(loc = 'upper right')"
      ],
      "execution_count": 312,
      "outputs": [
        {
          "output_type": "execute_result",
          "data": {
            "text/plain": [
              "<matplotlib.legend.Legend at 0x7f527e9024e0>"
            ]
          },
          "metadata": {
            "tags": []
          },
          "execution_count": 312
        },
        {
          "output_type": "display_data",
          "data": {
            "image/png": "[encoded data removed]",
            "text/plain": [
              "<Figure size 720x360 with 1 Axes>"
            ]
          },
          "metadata": {
            "tags": []
          }
        }
      ]
    },
    {
      "cell_type": "markdown",
      "metadata": {
        "id": "UF_NEJKlkxfd",
        "colab_type": "text"
      },
      "source": [
        "# Test Model\n",
        "\n",
        "Проверка работоспособности на небольших данных"
      ]
    },
    {
      "cell_type": "code",
      "metadata": {
        "id": "vGEy8cA5XZhl",
        "colab_type": "code",
        "colab": {}
      },
      "source": [
        "# метод для преобразования из id тональности в его словесное значение (0 -> positive)\n",
        "def from_tone(prediction, tones):\n",
        "  answers = []\n",
        "\n",
        "  for i in range(prediction.shape[0]):\n",
        "    answers.append(tones[prediction[i]])\n",
        "\n",
        "  return answers"
      ],
      "execution_count": 0,
      "outputs": []
    },
    {
      "cell_type": "code",
      "metadata": {
        "id": "diz5l8u3lEJx",
        "colab_type": "code",
        "colab": {}
      },
      "source": [
        "test_samples = ['ненужный', 'отвратительный', 'прикольный', 'милый', 'нежный']"
      ],
      "execution_count": 0,
      "outputs": []
    },
    {
      "cell_type": "code",
      "metadata": {
        "id": "Ja-r80-UJ4Hg",
        "colab_type": "code",
        "outputId": "86516072-0226-43d1-b1d6-66e6ab2851af",
        "colab": {
          "base_uri": "https://localhost:8080/",
          "height": 34
        }
      },
      "source": [
        "test_samples = [[test] for test in test_samples]\n",
        "test_samples"
      ],
      "execution_count": 314,
      "outputs": [
        {
          "output_type": "execute_result",
          "data": {
            "text/plain": [
              "[['ненужный'], ['отвратительный'], ['прикольный'], ['милый'], ['нежный']]"
            ]
          },
          "metadata": {
            "tags": []
          },
          "execution_count": 314
        }
      ]
    },
    {
      "cell_type": "code",
      "metadata": {
        "id": "wZ3nGCk5lMQe",
        "colab_type": "code",
        "colab": {}
      },
      "source": [
        "test_samples_tokens = tokenizer.texts_to_sequences(test_samples)"
      ],
      "execution_count": 0,
      "outputs": []
    },
    {
      "cell_type": "code",
      "metadata": {
        "id": "0AQMioEmlSXB",
        "colab_type": "code",
        "colab": {}
      },
      "source": [
        "test_samples_pad = pad_sequences(test_samples_tokens, maxlen=maxlen)"
      ],
      "execution_count": 0,
      "outputs": []
    },
    {
      "cell_type": "code",
      "metadata": {
        "id": "jtt7wlPPlYzg",
        "colab_type": "code",
        "colab": {}
      },
      "source": [
        "predict = model.predict_classes(x=test_samples_pad)"
      ],
      "execution_count": 0,
      "outputs": []
    },
    {
      "cell_type": "code",
      "metadata": {
        "id": "TQXT5LG0Xlw_",
        "colab_type": "code",
        "colab": {
          "base_uri": "https://localhost:8080/",
          "height": 34
        },
        "outputId": "7c152e89-973d-4a3e-e5b6-55d1532a0231"
      },
      "source": [
        "answers = from_tone(predict, df['tone'].unique().tolist()) \n",
        "answers"
      ],
      "execution_count": 318,
      "outputs": [
        {
          "output_type": "execute_result",
          "data": {
            "text/plain": [
              "['negative', 'negative', 'positive', 'positive', 'positive']"
            ]
          },
          "metadata": {
            "tags": []
          },
          "execution_count": 318
        }
      ]
    },
    {
      "cell_type": "markdown",
      "metadata": {
        "id": "-PZhh1shJzuf",
        "colab_type": "text"
      },
      "source": [
        "# Классификация неразмеченного словаря, полученного из отзывов"
      ]
    },
    {
      "cell_type": "code",
      "metadata": {
        "id": "frQtC1XEKGt4",
        "colab_type": "code",
        "colab": {}
      },
      "source": [
        "import json"
      ],
      "execution_count": 0,
      "outputs": []
    },
    {
      "cell_type": "code",
      "metadata": {
        "id": "iOErAKKLJ49U",
        "colab_type": "code",
        "colab": {}
      },
      "source": [
        "# загружаем неразмеченный словарь из json файла\n",
        "with open('drive/My Drive/coursework/unallocated_dictionary.json', 'r', encoding='utf-8') as f:\n",
        "    js = json.load(f)"
      ],
      "execution_count": 0,
      "outputs": []
    },
    {
      "cell_type": "code",
      "metadata": {
        "id": "BTuc39dvKQR1",
        "colab_type": "code",
        "colab": {
          "base_uri": "https://localhost:8080/",
          "height": 105
        },
        "outputId": "c94bbb74-b7d4-472e-bc20-c0218934b055"
      },
      "source": [
        "js[:5]"
      ],
      "execution_count": 248,
      "outputs": [
        {
          "output_type": "execute_result",
          "data": {
            "text/plain": [
              "[['телефон_NOUN', 13004],\n",
              " ['очень_ADVB', 7831],\n",
              " ['экран_NOUN', 6981],\n",
              " ['хороший_ADJF', 5305],\n",
              " ['камера_NOUN', 5178]]"
            ]
          },
          "metadata": {
            "tags": []
          },
          "execution_count": 248
        }
      ]
    },
    {
      "cell_type": "code",
      "metadata": {
        "id": "chuA1NDHKpL0",
        "colab_type": "code",
        "colab": {}
      },
      "source": [
        "unallocated_words = [[word[0][:-5]] for word in js]"
      ],
      "execution_count": 0,
      "outputs": []
    },
    {
      "cell_type": "code",
      "metadata": {
        "id": "Mjo5Om0CKpIL",
        "colab_type": "code",
        "colab": {
          "base_uri": "https://localhost:8080/",
          "height": 34
        },
        "outputId": "f982a9bb-8259-4194-a40a-7a57eae43f6c"
      },
      "source": [
        "unallocated_words[:6]"
      ],
      "execution_count": 281,
      "outputs": [
        {
          "output_type": "execute_result",
          "data": {
            "text/plain": [
              "[['телефон'], ['очень'], ['экран'], ['хороший'], ['камера'], ['весь']]"
            ]
          },
          "metadata": {
            "tags": []
          },
          "execution_count": 281
        }
      ]
    },
    {
      "cell_type": "code",
      "metadata": {
        "id": "6XvFY6BiK7zo",
        "colab_type": "code",
        "colab": {}
      },
      "source": [
        "unallocated_words_tokens = tokenizer.texts_to_sequences(unallocated_words)"
      ],
      "execution_count": 0,
      "outputs": []
    },
    {
      "cell_type": "code",
      "metadata": {
        "id": "OxsKF1FtLBq-",
        "colab_type": "code",
        "colab": {}
      },
      "source": [
        "unallocated_words__pad = pad_sequences(unallocated_words_tokens, maxlen=maxlen)"
      ],
      "execution_count": 0,
      "outputs": []
    },
    {
      "cell_type": "code",
      "metadata": {
        "id": "WZgT790LLH4T",
        "colab_type": "code",
        "colab": {}
      },
      "source": [
        "predict = model.predict_classes(x=unallocated_words__pad)"
      ],
      "execution_count": 0,
      "outputs": []
    },
    {
      "cell_type": "code",
      "metadata": {
        "id": "GfDLtSdgLN8t",
        "colab_type": "code",
        "colab": {}
      },
      "source": [
        "answers = from_tone(predict, df['tone'].unique().tolist())"
      ],
      "execution_count": 0,
      "outputs": []
    },
    {
      "cell_type": "code",
      "metadata": {
        "id": "lpoXQMKAOPh4",
        "colab_type": "code",
        "colab": {}
      },
      "source": [
        "keys = [word[0] for word in js]"
      ],
      "execution_count": 0,
      "outputs": []
    },
    {
      "cell_type": "code",
      "metadata": {
        "id": "3AfU0piDMeDg",
        "colab_type": "code",
        "colab": {}
      },
      "source": [
        "dictionary = dict(zip(keys, answers))"
      ],
      "execution_count": 0,
      "outputs": []
    },
    {
      "cell_type": "code",
      "metadata": {
        "id": "PpAlCG0EPtMo",
        "colab_type": "code",
        "colab": {}
      },
      "source": [
        "import itertools"
      ],
      "execution_count": 0,
      "outputs": []
    },
    {
      "cell_type": "code",
      "metadata": {
        "id": "xox7-fG_OpyC",
        "colab_type": "code",
        "colab": {
          "base_uri": "https://localhost:8080/",
          "height": 122
        },
        "outputId": "fe29a4f0-92f2-4f54-f544-0a14a14f829b"
      },
      "source": [
        "dict(itertools.islice(dictionary.items(), 6))"
      ],
      "execution_count": 327,
      "outputs": [
        {
          "output_type": "execute_result",
          "data": {
            "text/plain": [
              "{'весь_ADJF': 'negative',\n",
              " 'камера_NOUN': 'negative',\n",
              " 'очень_ADVB': 'negative',\n",
              " 'телефон_NOUN': 'negative',\n",
              " 'хороший_ADJF': 'positive',\n",
              " 'экран_NOUN': 'negative'}"
            ]
          },
          "metadata": {
            "tags": []
          },
          "execution_count": 327
        }
      ]
    },
    {
      "cell_type": "code",
      "metadata": {
        "id": "tuWxwjiaP-0N",
        "colab_type": "code",
        "colab": {}
      },
      "source": [
        "# сохраняем размеченный словарь в json файл\n",
        "with open('drive/My Drive/coursework/tagged_dictionary.json', 'w', encoding='utf-8') as f:\n",
        "    json.dump(dictionary, f, ensure_ascii=False, indent=4)"
      ],
      "execution_count": 0,
      "outputs": []
    },
    {
      "cell_type": "code",
      "metadata": {
        "id": "d9Ubr3aHV34D",
        "colab_type": "code",
        "colab": {}
      },
      "source": [
        "# так же сохраняем словарь в csv файл\n",
        "import csv\n",
        "from itertools import zip_longest\n",
        "d = [keys, answers]\n",
        "export_data = zip_longest(*d, fillvalue = '')\n",
        "with open('drive/My Drive/coursework/tagged_dictionary.csv', 'w', encoding='utf-8', newline='') as f:\n",
        "      wr = csv.writer(f)\n",
        "      wr.writerow((\"term\", \"tone\"))\n",
        "      wr.writerows(export_data)\n",
        "f.close()"
      ],
      "execution_count": 0,
      "outputs": []
    },
    {
      "cell_type": "code",
      "metadata": {
        "id": "a-1APTnTWHHW",
        "colab_type": "code",
        "colab": {}
      },
      "source": [
        "tagged_dictionary = pd.read_csv('drive/My Drive/coursework/tagged_dictionary.csv')"
      ],
      "execution_count": 0,
      "outputs": []
    },
    {
      "cell_type": "code",
      "metadata": {
        "id": "njadqVcaWMNr",
        "colab_type": "code",
        "colab": {
          "base_uri": "https://localhost:8080/",
          "height": 491
        },
        "outputId": "66749a25-6243-4b9f-da1d-809bda0568de"
      },
      "source": [
        "tagged_dictionary[:15]"
      ],
      "execution_count": 331,
      "outputs": [
        {
          "output_type": "execute_result",
          "data": {
            "text/html": [
              "<div>\n",
              "<style scoped>\n",
              "    .dataframe tbody tr th:only-of-type {\n",
              "        vertical-align: middle;\n",
              "    }\n",
              "\n",
              "    .dataframe tbody tr th {\n",
              "        vertical-align: top;\n",
              "    }\n",
              "\n",
              "    .dataframe thead th {\n",
              "        text-align: right;\n",
              "    }\n",
              "</style>\n",
              "<table border=\"1\" class=\"dataframe\">\n",
              "  <thead>\n",
              "    <tr style=\"text-align: right;\">\n",
              "      <th></th>\n",
              "      <th>term</th>\n",
              "      <th>tone</th>\n",
              "    </tr>\n",
              "  </thead>\n",
              "  <tbody>\n",
              "    <tr>\n",
              "      <th>0</th>\n",
              "      <td>телефон_NOUN</td>\n",
              "      <td>negative</td>\n",
              "    </tr>\n",
              "    <tr>\n",
              "      <th>1</th>\n",
              "      <td>очень_ADVB</td>\n",
              "      <td>negative</td>\n",
              "    </tr>\n",
              "    <tr>\n",
              "      <th>2</th>\n",
              "      <td>экран_NOUN</td>\n",
              "      <td>negative</td>\n",
              "    </tr>\n",
              "    <tr>\n",
              "      <th>3</th>\n",
              "      <td>хороший_ADJF</td>\n",
              "      <td>positive</td>\n",
              "    </tr>\n",
              "    <tr>\n",
              "      <th>4</th>\n",
              "      <td>камера_NOUN</td>\n",
              "      <td>negative</td>\n",
              "    </tr>\n",
              "    <tr>\n",
              "      <th>5</th>\n",
              "      <td>весь_ADJF</td>\n",
              "      <td>negative</td>\n",
              "    </tr>\n",
              "    <tr>\n",
              "      <th>6</th>\n",
              "      <td>работать_INFN</td>\n",
              "      <td>negative</td>\n",
              "    </tr>\n",
              "    <tr>\n",
              "      <th>7</th>\n",
              "      <td>день_NOUN</td>\n",
              "      <td>negative</td>\n",
              "    </tr>\n",
              "    <tr>\n",
              "      <th>8</th>\n",
              "      <td>батарея_NOUN</td>\n",
              "      <td>negative</td>\n",
              "    </tr>\n",
              "    <tr>\n",
              "      <th>9</th>\n",
              "      <td>приложение_NOUN</td>\n",
              "      <td>negative</td>\n",
              "    </tr>\n",
              "    <tr>\n",
              "      <th>10</th>\n",
              "      <td>качество_NOUN</td>\n",
              "      <td>negative</td>\n",
              "    </tr>\n",
              "    <tr>\n",
              "      <th>11</th>\n",
              "      <td>отличный_ADJF</td>\n",
              "      <td>positive</td>\n",
              "    </tr>\n",
              "    <tr>\n",
              "      <th>12</th>\n",
              "      <td>год_NOUN</td>\n",
              "      <td>negative</td>\n",
              "    </tr>\n",
              "    <tr>\n",
              "      <th>13</th>\n",
              "      <td>цена_NOUN</td>\n",
              "      <td>negative</td>\n",
              "    </tr>\n",
              "    <tr>\n",
              "      <th>14</th>\n",
              "      <td>один_ADJF</td>\n",
              "      <td>negative</td>\n",
              "    </tr>\n",
              "  </tbody>\n",
              "</table>\n",
              "</div>"
            ],
            "text/plain": [
              "               term      tone\n",
              "0      телефон_NOUN  negative\n",
              "1        очень_ADVB  negative\n",
              "2        экран_NOUN  negative\n",
              "3      хороший_ADJF  positive\n",
              "4       камера_NOUN  negative\n",
              "5         весь_ADJF  negative\n",
              "6     работать_INFN  negative\n",
              "7         день_NOUN  negative\n",
              "8      батарея_NOUN  negative\n",
              "9   приложение_NOUN  negative\n",
              "10    качество_NOUN  negative\n",
              "11    отличный_ADJF  positive\n",
              "12         год_NOUN  negative\n",
              "13        цена_NOUN  negative\n",
              "14        один_ADJF  negative"
            ]
          },
          "metadata": {
            "tags": []
          },
          "execution_count": 331
        }
      ]
    }
  ]
}