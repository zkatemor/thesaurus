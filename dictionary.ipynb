{
  "nbformat": 4,
  "nbformat_minor": 0,
  "metadata": {
    "colab": {
      "name": "dictionary.ipynb",
      "provenance": [],
      "collapsed_sections": [
        "UF_NEJKlkxfd"
      ],
      "include_colab_link": true
    },
    "kernelspec": {
      "name": "python3",
      "display_name": "Python 3"
    },
    "accelerator": "GPU"
  },
  "cells": [
    {
      "cell_type": "markdown",
      "metadata": {
        "id": "view-in-github",
        "colab_type": "text"
      },
      "source": [
        "<a href=\"https://colab.research.google.com/github/zkatemor/thesaurus/blob/word2vec_keras_sample/dictionary.ipynb\" target=\"_parent\"><img src=\"https://colab.research.google.com/assets/colab-badge.svg\" alt=\"Open In Colab\"/></a>"
      ]
    },
    {
      "cell_type": "code",
      "metadata": {
        "id": "3H17CPcqaL_Y",
        "colab_type": "code",
        "outputId": "332168ea-d7a2-4603-9ac4-ad8707993af0",
        "colab": {
          "base_uri": "https://localhost:8080/",
          "height": 34
        }
      },
      "source": [
        "from google.colab import drive\n",
        "drive.mount('/content/drive')"
      ],
      "execution_count": 517,
      "outputs": [
        {
          "output_type": "stream",
          "text": [
            "Drive already mounted at /content/drive; to attempt to forcibly remount, call drive.mount(\"/content/drive\", force_remount=True).\n"
          ],
          "name": "stdout"
        }
      ]
    },
    {
      "cell_type": "code",
      "metadata": {
        "id": "rzsQEd5f-nJ7",
        "colab_type": "code",
        "colab": {
          "base_uri": "https://localhost:8080/",
          "height": 87
        },
        "outputId": "1a9f96e3-942d-4124-8d9d-739046fd359b"
      },
      "source": [
        "pip install pymorphy2"
      ],
      "execution_count": 518,
      "outputs": [
        {
          "output_type": "stream",
          "text": [
            "Requirement already satisfied: pymorphy2 in /usr/local/lib/python3.6/dist-packages (0.8)\n",
            "Requirement already satisfied: pymorphy2-dicts<3.0,>=2.4 in /usr/local/lib/python3.6/dist-packages (from pymorphy2) (2.4.393442.3710985)\n",
            "Requirement already satisfied: dawg-python>=0.7 in /usr/local/lib/python3.6/dist-packages (from pymorphy2) (0.7.2)\n",
            "Requirement already satisfied: docopt>=0.6 in /usr/local/lib/python3.6/dist-packages (from pymorphy2) (0.6.2)\n"
          ],
          "name": "stdout"
        }
      ]
    },
    {
      "cell_type": "code",
      "metadata": {
        "id": "Z-wscP044PwA",
        "colab_type": "code",
        "colab": {}
      },
      "source": [
        "import pickle"
      ],
      "execution_count": 0,
      "outputs": []
    },
    {
      "cell_type": "code",
      "metadata": {
        "id": "Ro6JQl-8-j8h",
        "colab_type": "code",
        "colab": {}
      },
      "source": [
        "import numpy as np\n",
        "import pandas as pd\n",
        "from keras.callbacks import ModelCheckpoint\n",
        "from keras_preprocessing.text import Tokenizer\n",
        "from keras_preprocessing.sequence import pad_sequences\n",
        "import collections\n",
        "from keras.models import Sequential\n",
        "from keras.layers import Dense, Embedding, LSTM, GRU, Activation, Dropout\n",
        "from keras.layers.embeddings import Embedding\n",
        "import gensim.downloader\n",
        "from keras.utils import to_categorical\n",
        "from sklearn.model_selection import train_test_split\n",
        "import matplotlib.pyplot as plt\n",
        "import sklearn\n",
        "import pymorphy2"
      ],
      "execution_count": 0,
      "outputs": []
    },
    {
      "cell_type": "markdown",
      "metadata": {
        "id": "e5fq1F3ob7iN",
        "colab_type": "text"
      },
      "source": [
        "# DataSet\n",
        " \n",
        "Загрузка словаря RuSentilex в формате .csv\n",
        "*   https://www.labinform.ru/pub/rusentilex/index.htm\n",
        "\n"
      ]
    },
    {
      "cell_type": "code",
      "metadata": {
        "id": "GhFeuumXadtJ",
        "colab_type": "code",
        "colab": {}
      },
      "source": [
        "df = pd.read_csv('drive/My Drive/coursework/rusentilex.csv')"
      ],
      "execution_count": 0,
      "outputs": []
    },
    {
      "cell_type": "code",
      "metadata": {
        "id": "agYLF6Kba75A",
        "colab_type": "code",
        "outputId": "93bd28cb-24ef-46d0-d42f-befecde97af6",
        "colab": {
          "base_uri": "https://localhost:8080/",
          "height": 136
        }
      },
      "source": [
        "df.head(3)"
      ],
      "execution_count": 522,
      "outputs": [
        {
          "output_type": "execute_result",
          "data": {
            "text/html": [
              "<div>\n",
              "<style scoped>\n",
              "    .dataframe tbody tr th:only-of-type {\n",
              "        vertical-align: middle;\n",
              "    }\n",
              "\n",
              "    .dataframe tbody tr th {\n",
              "        vertical-align: top;\n",
              "    }\n",
              "\n",
              "    .dataframe thead th {\n",
              "        text-align: right;\n",
              "    }\n",
              "</style>\n",
              "<table border=\"1\" class=\"dataframe\">\n",
              "  <thead>\n",
              "    <tr style=\"text-align: right;\">\n",
              "      <th></th>\n",
              "      <th>term</th>\n",
              "      <th>tone</th>\n",
              "    </tr>\n",
              "  </thead>\n",
              "  <tbody>\n",
              "    <tr>\n",
              "      <th>0</th>\n",
              "      <td>остепеняться</td>\n",
              "      <td>positive</td>\n",
              "    </tr>\n",
              "    <tr>\n",
              "      <th>1</th>\n",
              "      <td>трудолюбивый</td>\n",
              "      <td>positive</td>\n",
              "    </tr>\n",
              "    <tr>\n",
              "      <th>2</th>\n",
              "      <td>беспалевный</td>\n",
              "      <td>positive</td>\n",
              "    </tr>\n",
              "  </tbody>\n",
              "</table>\n",
              "</div>"
            ],
            "text/plain": [
              "           term      tone\n",
              "0  остепеняться  positive\n",
              "1  трудолюбивый  positive\n",
              "2   беспалевный  positive"
            ]
          },
          "metadata": {
            "tags": []
          },
          "execution_count": 522
        }
      ]
    },
    {
      "cell_type": "code",
      "metadata": {
        "id": "WsbhJmtBbD6c",
        "colab_type": "code",
        "outputId": "65b2356a-fc84-4c65-d7ee-6c06dabdc558",
        "colab": {
          "base_uri": "https://localhost:8080/",
          "height": 34
        }
      },
      "source": [
        "len(df)"
      ],
      "execution_count": 523,
      "outputs": [
        {
          "output_type": "execute_result",
          "data": {
            "text/plain": [
              "10668"
            ]
          },
          "metadata": {
            "tags": []
          },
          "execution_count": 523
        }
      ]
    },
    {
      "cell_type": "markdown",
      "metadata": {
        "id": "v3moVQWS_QQc",
        "colab_type": "text"
      },
      "source": [
        "Всего в словаре 10668 слов."
      ]
    },
    {
      "cell_type": "code",
      "metadata": {
        "id": "lBM7v6UddV_Q",
        "colab_type": "code",
        "colab": {}
      },
      "source": [
        "# получение id тональности\n",
        "def get_ids(all_tones):\n",
        "    result = []\n",
        "\n",
        "    for tone in all_tones:\n",
        "        result.append(all_tones.unique().tolist().index(tone))\n",
        "\n",
        "    return result"
      ],
      "execution_count": 0,
      "outputs": []
    },
    {
      "cell_type": "code",
      "metadata": {
        "id": "lzJ0wpESdXZq",
        "colab_type": "code",
        "colab": {}
      },
      "source": [
        "labels = get_ids(df['tone'])\n",
        "total_words = df['term']\n",
        "# перемешиваем\n",
        "total_words, labels = sklearn.utils.shuffle(total_words, labels)"
      ],
      "execution_count": 0,
      "outputs": []
    },
    {
      "cell_type": "code",
      "metadata": {
        "id": "Ha2OuJmxx0Ri",
        "colab_type": "code",
        "colab": {}
      },
      "source": [
        "# добавление части речи к слову для корректной работы с русскоязычной word2vec\n",
        "def add_part_of_speech(word):\n",
        "    p = pymorphy2.MorphAnalyzer().parse(word)[0]\n",
        "    word += '_' + str(p.tag.POS)\n",
        "    return word"
      ],
      "execution_count": 0,
      "outputs": []
    },
    {
      "cell_type": "code",
      "metadata": {
        "id": "sR2jB1xKEme9",
        "colab_type": "code",
        "colab": {}
      },
      "source": [
        "# получаем список для корректной работы с моделью\n",
        "#sentences = [[add_part_of_speech(word)] for word in total_words]\n",
        "\n",
        "with open('drive/My Drive/coursework/rusentilex_sentences.pickle', 'rb') as handle:\n",
        "        sentences = pickle.load(handle)\n",
        "# получаем id тональностей для сохраненного списка токенов (sentences)\n",
        "with open('drive/My Drive/coursework/rusentilex_labels.pickle', 'rb') as handle:\n",
        "        labels = pickle.load(handle)"
      ],
      "execution_count": 0,
      "outputs": []
    },
    {
      "cell_type": "code",
      "metadata": {
        "id": "4F-SnSOFyBmB",
        "colab_type": "code",
        "colab": {
          "base_uri": "https://localhost:8080/",
          "height": 105
        },
        "outputId": "a56532e0-6f1d-4c76-bfd9-6630914f42e2"
      },
      "source": [
        "sentences[:5]"
      ],
      "execution_count": 560,
      "outputs": [
        {
          "output_type": "execute_result",
          "data": {
            "text/plain": [
              "[['толстопузость_NOUN'],\n",
              " ['винтик_NOUN'],\n",
              " ['оскорбить_INFN'],\n",
              " ['рациональный_ADJF'],\n",
              " ['равнодушный_ADJF']]"
            ]
          },
          "metadata": {
            "tags": []
          },
          "execution_count": 560
        }
      ]
    },
    {
      "cell_type": "code",
      "metadata": {
        "id": "uBIUBPu2E8HU",
        "colab_type": "code",
        "colab": {}
      },
      "source": [
        "counter = collections.Counter()"
      ],
      "execution_count": 0,
      "outputs": []
    },
    {
      "cell_type": "code",
      "metadata": {
        "id": "X-BypFa5E_Fu",
        "colab_type": "code",
        "colab": {}
      },
      "source": [
        "#считаем максимальную длину предложений (в словаре могут быть словосочетания), а также частоту всех слов, считанных из файла\n",
        "maxlen = 0\n",
        "for words in sentences:\n",
        "    if len(words) > maxlen:\n",
        "        maxlen = len(words)\n",
        "    for word in words:\n",
        "        counter[word] += 1"
      ],
      "execution_count": 0,
      "outputs": []
    },
    {
      "cell_type": "code",
      "metadata": {
        "id": "QMnhnLlzFE_F",
        "colab_type": "code",
        "colab": {
          "base_uri": "https://localhost:8080/",
          "height": 34
        },
        "outputId": "c00ccffc-ea53-4493-e78a-7482042c9f00"
      },
      "source": [
        "vocab_sz = len(counter) + 1 \n",
        "print('Размер словаря: ' + str(vocab_sz))"
      ],
      "execution_count": 532,
      "outputs": [
        {
          "output_type": "stream",
          "text": [
            "Размер словаря: 10669\n"
          ],
          "name": "stdout"
        }
      ]
    },
    {
      "cell_type": "markdown",
      "metadata": {
        "id": "byG7WHx8A18N",
        "colab_type": "text"
      },
      "source": [
        "Задаем необходимые константные значения и загружаем русскоязычную модель Word2Vec"
      ]
    },
    {
      "cell_type": "code",
      "metadata": {
        "id": "S4ElkGObez23",
        "colab_type": "code",
        "colab": {}
      },
      "source": [
        "EMBEDDING_DIM = 300\n",
        "VALIDATION_SPLIT = 0.2\n",
        "EPOCH_SIZE = 10\n",
        "BATCH_SIZE = 32\n",
        "NUM_FILTERS = 256\n",
        "NUM_WORDS = 3"
      ],
      "execution_count": 0,
      "outputs": []
    },
    {
      "cell_type": "code",
      "metadata": {
        "id": "VaemuBaCDoFW",
        "colab_type": "code",
        "colab": {
          "base_uri": "https://localhost:8080/",
          "height": 72
        },
        "outputId": "00db866f-3882-4a63-c228-bf3b2c464cfb"
      },
      "source": [
        "word2vec_model = gensim.downloader.load(\"word2vec-ruscorpora-300\")"
      ],
      "execution_count": 534,
      "outputs": [
        {
          "output_type": "stream",
          "text": [
            "/usr/local/lib/python3.6/dist-packages/smart_open/smart_open_lib.py:402: UserWarning: This function is deprecated, use smart_open.open instead. See the migration notes for details: https://github.com/RaRe-Technologies/smart_open/blob/master/README.rst#migrating-to-the-new-open-function\n",
            "  'See the migration notes for details: %s' % _MIGRATION_NOTES_URL\n"
          ],
          "name": "stderr"
        }
      ]
    },
    {
      "cell_type": "markdown",
      "metadata": {
        "id": "Ykl10VCGehC8",
        "colab_type": "text"
      },
      "source": [
        "# Работа с Keras"
      ]
    },
    {
      "cell_type": "code",
      "metadata": {
        "id": "rhwENqX5pjSJ",
        "colab_type": "code",
        "colab": {}
      },
      "source": [
        "#создаём матрицу размером размерность словаря*размерность вектора слова\n",
        "embedding_weights = np.zeros((vocab_sz, EMBEDDING_DIM))\n",
        "index = 0\n",
        "#сортируем слова по частоте встречаемости\n",
        "sorted_counter = counter.most_common()\n",
        "#для каждого слова из нашего словаря задаём вектор из word2vec_model в матрицу\n",
        "for word in sorted_counter:\n",
        "    try:\n",
        "      embedding_weights[index, :] = word2vec_model[word[0]] \n",
        "      index+=1     \n",
        "    #если нет слова в словаре word2vec_model\n",
        "    except KeyError:\n",
        "      index+=1\n",
        "      pass"
      ],
      "execution_count": 0,
      "outputs": []
    },
    {
      "cell_type": "markdown",
      "metadata": {
        "id": "NbqNBBdiBYVP",
        "colab_type": "text"
      },
      "source": [
        "Собираем модель для обучения:\n",
        "1 слой модели – русскоязычный word2vec"
      ]
    },
    {
      "cell_type": "code",
      "metadata": {
        "id": "JSU1dMgX1uie",
        "colab_type": "code",
        "colab": {}
      },
      "source": [
        "import keras"
      ],
      "execution_count": 0,
      "outputs": []
    },
    {
      "cell_type": "code",
      "metadata": {
        "id": "r-_S0tW-e3EA",
        "colab_type": "code",
        "colab": {}
      },
      "source": [
        "model = Sequential()\n",
        "model.add(Embedding(vocab_sz, EMBEDDING_DIM, input_length=maxlen, weights=[embedding_weights],\n",
        "                    trainable=True))\n",
        "model.add(keras.layers.Dropout(0.2))\n",
        "model.add(keras.layers.Conv1D(50,\n",
        "                                1,\n",
        "                                padding='valid',\n",
        "                                activation='relu',\n",
        "                                strides=1))\n",
        "model.add(keras.layers.GlobalMaxPooling1D())\n",
        "model.add(keras.layers.Dense(250))\n",
        "model.add(keras.layers.Dropout(0.2))\n",
        "model.add(keras.layers.Activation('relu'))\n",
        "model.add(keras.layers.Dense(3, activation='softmax'))"
      ],
      "execution_count": 0,
      "outputs": []
    },
    {
      "cell_type": "code",
      "metadata": {
        "id": "uJtcgl2YfMEW",
        "colab_type": "code",
        "colab": {}
      },
      "source": [
        "model.compile(optimizer='adam', loss='categorical_crossentropy', metrics=['accuracy'])"
      ],
      "execution_count": 0,
      "outputs": []
    },
    {
      "cell_type": "code",
      "metadata": {
        "id": "by-hNLEjfeK_",
        "colab_type": "code",
        "outputId": "35566db9-50e3-411d-a0b3-8c503ee15b7a",
        "colab": {
          "base_uri": "https://localhost:8080/",
          "height": 439
        }
      },
      "source": [
        "model.summary()"
      ],
      "execution_count": 727,
      "outputs": [
        {
          "output_type": "stream",
          "text": [
            "Model: \"sequential_43\"\n",
            "_________________________________________________________________\n",
            "Layer (type)                 Output Shape              Param #   \n",
            "=================================================================\n",
            "embedding_43 (Embedding)     (None, 1, 300)            3200700   \n",
            "_________________________________________________________________\n",
            "dropout_28 (Dropout)         (None, 1, 300)            0         \n",
            "_________________________________________________________________\n",
            "conv1d_14 (Conv1D)           (None, 1, 50)             15050     \n",
            "_________________________________________________________________\n",
            "global_max_pooling1d_9 (Glob (None, 50)                0         \n",
            "_________________________________________________________________\n",
            "dense_36 (Dense)             (None, 250)               12750     \n",
            "_________________________________________________________________\n",
            "dropout_29 (Dropout)         (None, 250)               0         \n",
            "_________________________________________________________________\n",
            "activation_28 (Activation)   (None, 250)               0         \n",
            "_________________________________________________________________\n",
            "dense_37 (Dense)             (None, 3)                 753       \n",
            "=================================================================\n",
            "Total params: 3,229,253\n",
            "Trainable params: 3,229,253\n",
            "Non-trainable params: 0\n",
            "_________________________________________________________________\n"
          ],
          "name": "stdout"
        }
      ]
    },
    {
      "cell_type": "markdown",
      "metadata": {
        "id": "BmVHaW3Wfnfk",
        "colab_type": "text"
      },
      "source": [
        "# Train Model\n",
        "\n",
        "Обучение модели"
      ]
    },
    {
      "cell_type": "code",
      "metadata": {
        "id": "-satzwaLJuBk",
        "colab_type": "code",
        "colab": {}
      },
      "source": [
        "# Создание единого словаря (слово -> число) для преобразования на основе списка текстов sentences\n",
        "tokenizer = Tokenizer()\n",
        "tokenizer.fit_on_texts(sentences)"
      ],
      "execution_count": 0,
      "outputs": []
    },
    {
      "cell_type": "code",
      "metadata": {
        "id": "v03FM_bWJnDm",
        "colab_type": "code",
        "colab": {}
      },
      "source": [
        "#заменяем слова каждого предложения на числа\n",
        "X = tokenizer.texts_to_sequences(sentences)\n",
        "#уравниваем все предложения до размера maxlen\n",
        "X = pad_sequences(X, maxlen = maxlen)"
      ],
      "execution_count": 0,
      "outputs": []
    },
    {
      "cell_type": "code",
      "metadata": {
        "id": "iHh2sFxRGTpz",
        "colab_type": "code",
        "colab": {}
      },
      "source": [
        "y = to_categorical(labels)"
      ],
      "execution_count": 0,
      "outputs": []
    },
    {
      "cell_type": "code",
      "metadata": {
        "id": "M1kIu1BeTk16",
        "colab_type": "code",
        "colab": {}
      },
      "source": [
        "X_train, X_test, Y_train, Y_test = train_test_split(X, y, test_size=0.2)"
      ],
      "execution_count": 0,
      "outputs": []
    },
    {
      "cell_type": "code",
      "metadata": {
        "id": "dw_GhvVSfjU8",
        "colab_type": "code",
        "outputId": "4af7d534-da6e-4709-80fd-b20d7f9d3a7c",
        "colab": {
          "base_uri": "https://localhost:8080/",
          "height": 386
        }
      },
      "source": [
        "history = model.fit(X_train, Y_train, batch_size=BATCH_SIZE, epochs=EPOCH_SIZE, \n",
        "                    callbacks=[keras.callbacks.ModelCheckpoint('drive/My Drive/coursework/model.h5', save_best_only=True)],\n",
        "                    validation_split=VALIDATION_SPLIT, verbose=1)"
      ],
      "execution_count": 756,
      "outputs": [
        {
          "output_type": "stream",
          "text": [
            "Train on 6827 samples, validate on 1707 samples\n",
            "Epoch 1/10\n",
            "6827/6827 [==============================] - 1s 205us/step - loss: 0.0346 - acc: 0.9870 - val_loss: 0.0382 - val_acc: 0.9836\n",
            "Epoch 2/10\n",
            "6827/6827 [==============================] - 1s 195us/step - loss: 0.0031 - acc: 0.9988 - val_loss: 0.0372 - val_acc: 0.9836\n",
            "Epoch 3/10\n",
            "6827/6827 [==============================] - 1s 200us/step - loss: 6.4594e-05 - acc: 1.0000 - val_loss: 0.0373 - val_acc: 0.9836\n",
            "Epoch 4/10\n",
            "6827/6827 [==============================] - 1s 191us/step - loss: 4.2676e-06 - acc: 1.0000 - val_loss: 0.0374 - val_acc: 0.9836\n",
            "Epoch 5/10\n",
            "6827/6827 [==============================] - 1s 195us/step - loss: 4.3596e-06 - acc: 1.0000 - val_loss: 0.0374 - val_acc: 0.9836\n",
            "Epoch 6/10\n",
            "6827/6827 [==============================] - 1s 194us/step - loss: 3.7960e-06 - acc: 1.0000 - val_loss: 0.0374 - val_acc: 0.9836\n",
            "Epoch 7/10\n",
            "6827/6827 [==============================] - 1s 199us/step - loss: 1.2533e-06 - acc: 1.0000 - val_loss: 0.0374 - val_acc: 0.9836\n",
            "Epoch 8/10\n",
            "6827/6827 [==============================] - 1s 198us/step - loss: 9.8528e-07 - acc: 1.0000 - val_loss: 0.0374 - val_acc: 0.9836\n",
            "Epoch 9/10\n",
            "6827/6827 [==============================] - 1s 204us/step - loss: 7.7544e-07 - acc: 1.0000 - val_loss: 0.0375 - val_acc: 0.9836\n",
            "Epoch 10/10\n",
            "6827/6827 [==============================] - 1s 190us/step - loss: 1.1411e-06 - acc: 1.0000 - val_loss: 0.0375 - val_acc: 0.9836\n"
          ],
          "name": "stdout"
        }
      ]
    },
    {
      "cell_type": "code",
      "metadata": {
        "id": "TGwugyyEx5q4",
        "colab_type": "code",
        "colab": {
          "base_uri": "https://localhost:8080/",
          "height": 52
        },
        "outputId": "b221a08c-06d0-48f2-ffa2-6a3c99e90127"
      },
      "source": [
        "score = model.evaluate(X_test, Y_test)\n",
        "print(\"Test accuracy: {:.3f}\".format(score[1]))"
      ],
      "execution_count": 760,
      "outputs": [
        {
          "output_type": "stream",
          "text": [
            "2134/2134 [==============================] - 0s 77us/step\n",
            "Test accuracy: 0.988\n"
          ],
          "name": "stdout"
        }
      ]
    },
    {
      "cell_type": "markdown",
      "metadata": {
        "id": "hqXsbysiUfXZ",
        "colab_type": "text"
      },
      "source": [
        "Построение графика потерь:"
      ]
    },
    {
      "cell_type": "code",
      "metadata": {
        "id": "B0eBJtvBVm5S",
        "colab_type": "code",
        "colab": {
          "base_uri": "https://localhost:8080/",
          "height": 356
        },
        "outputId": "1407e3e6-6cc0-4d4e-bb93-9454c6c39e0e"
      },
      "source": [
        "x = range(EPOCH_SIZE)\n",
        "plt.figure(figsize = (10, 5))\n",
        "plt.grid(True)\n",
        "plt.plot(x, history.history['loss'], 'go-', label = 'loss')\n",
        "plt.plot(x, history.history['val_loss'], 'yo-', label = 'val_loss')\n",
        "plt.xlabel('num_epochs')\n",
        "plt.ylabel('loss')\n",
        "plt.legend(loc='upper right')"
      ],
      "execution_count": 757,
      "outputs": [
        {
          "output_type": "execute_result",
          "data": {
            "text/plain": [
              "<matplotlib.legend.Legend at 0x7f36ed67e5c0>"
            ]
          },
          "metadata": {
            "tags": []
          },
          "execution_count": 757
        },
        {
          "output_type": "display_data",
          "data": {
            "image/png": "[encoded data removed]",
            "text/plain": [
              "<Figure size 720x360 with 1 Axes>"
            ]
          },
          "metadata": {
            "tags": []
          }
        }
      ]
    },
    {
      "cell_type": "markdown",
      "metadata": {
        "id": "3GKjmQDUx_N-",
        "colab_type": "text"
      },
      "source": [
        "Отчёт по предсказанию (по разным метрикам) + матрица ошибок:"
      ]
    },
    {
      "cell_type": "code",
      "metadata": {
        "id": "bFmyh0rFyEXf",
        "colab_type": "code",
        "colab": {}
      },
      "source": [
        "prediction = model.predict_classes(X_test)"
      ],
      "execution_count": 0,
      "outputs": []
    },
    {
      "cell_type": "code",
      "metadata": {
        "id": "EwZ5WrSqyJIr",
        "colab_type": "code",
        "colab": {}
      },
      "source": [
        "prediction_tones = from_tone(prediction, df['tone'].unique().tolist()) "
      ],
      "execution_count": 0,
      "outputs": []
    },
    {
      "cell_type": "code",
      "metadata": {
        "id": "17rU45YJyRHT",
        "colab_type": "code",
        "colab": {}
      },
      "source": [
        "y_test = Y_test.tolist()\n",
        "y_test_tones = []\n",
        "\n",
        "for i in range(len(y_test)):\n",
        "  y_test_tones.append(df['tone'].unique()[y_test[i].index(1)])"
      ],
      "execution_count": 0,
      "outputs": []
    },
    {
      "cell_type": "code",
      "metadata": {
        "id": "c0_yZjBdydMj",
        "colab_type": "code",
        "colab": {}
      },
      "source": [
        "from sklearn.metrics import classification_report"
      ],
      "execution_count": 0,
      "outputs": []
    },
    {
      "cell_type": "code",
      "metadata": {
        "id": "QK6ONzx9yfzx",
        "colab_type": "code",
        "colab": {
          "base_uri": "https://localhost:8080/",
          "height": 193
        },
        "outputId": "70a1390c-0d51-464b-bbb5-ca5b5f724979"
      },
      "source": [
        "print(classification_report(y_test_tones, prediction_tones))"
      ],
      "execution_count": 766,
      "outputs": [
        {
          "output_type": "stream",
          "text": [
            "              precision    recall  f1-score   support\n",
            "\n",
            "    negative       0.98      1.00      0.99      1417\n",
            "     neutral       1.00      0.98      0.99       141\n",
            "    positive       1.00      0.97      0.98       576\n",
            "\n",
            "    accuracy                           0.99      2134\n",
            "   macro avg       0.99      0.98      0.99      2134\n",
            "weighted avg       0.99      0.99      0.99      2134\n",
            "\n"
          ],
          "name": "stdout"
        }
      ]
    },
    {
      "cell_type": "code",
      "metadata": {
        "id": "fwxHVryFy27n",
        "colab_type": "code",
        "colab": {}
      },
      "source": [
        "import seaborn as sn"
      ],
      "execution_count": 0,
      "outputs": []
    },
    {
      "cell_type": "code",
      "metadata": {
        "id": "049-Xi_Syk9R",
        "colab_type": "code",
        "colab": {
          "base_uri": "https://localhost:8080/",
          "height": 352
        },
        "outputId": "77c0a25e-c0a9-4c35-a9f3-8078ca8e9d3f"
      },
      "source": [
        "data = {'prediction': prediction_tones,\n",
        "        'actual':    y_test_tones }\n",
        "\n",
        "df = pd.DataFrame(data, columns = ['actual','prediction'])\n",
        "confusion_matrix = pd.crosstab(df['actual'], df['prediction'], rownames = ['actyal'], colnames = ['prediction'])\n",
        "plt.figure(figsize=(10, 5))\n",
        "sn.heatmap(confusion_matrix, annot=True,cmap=\"Greens\")"
      ],
      "execution_count": 776,
      "outputs": [
        {
          "output_type": "execute_result",
          "data": {
            "text/plain": [
              "<matplotlib.axes._subplots.AxesSubplot at 0x7f36e796b080>"
            ]
          },
          "metadata": {
            "tags": []
          },
          "execution_count": 776
        },
        {
          "output_type": "display_data",
          "data": {
            "image/png": "[encoded data removed]",
            "text/plain": [
              "<Figure size 720x360 with 2 Axes>"
            ]
          },
          "metadata": {
            "tags": []
          }
        }
      ]
    },
    {
      "cell_type": "markdown",
      "metadata": {
        "id": "4ws0aq6DvLUj",
        "colab_type": "text"
      },
      "source": [
        "Сохранение токенизированных слов и id тональностей (их построение занимает много времени, поэтому так будет проще менять структуру модели и др. в будущем)"
      ]
    },
    {
      "cell_type": "code",
      "metadata": {
        "id": "j7KV1DVs4H6A",
        "colab_type": "code",
        "colab": {}
      },
      "source": [
        "#with open('drive/My Drive/coursework/rusentilex_sentences.pickle', 'wb') as f:\n",
        "       # pickle.dump(sentences, f)\n",
        "\n",
        "#with open('drive/My Drive/coursework/rusentilex_labels.pickle', 'wb') as f:\n",
        "       # pickle.dump(labels, f)"
      ],
      "execution_count": 0,
      "outputs": []
    },
    {
      "cell_type": "markdown",
      "metadata": {
        "id": "UF_NEJKlkxfd",
        "colab_type": "text"
      },
      "source": [
        "# Test Model\n",
        "\n",
        "Проверка работоспособности на небольших данных"
      ]
    },
    {
      "cell_type": "code",
      "metadata": {
        "id": "vGEy8cA5XZhl",
        "colab_type": "code",
        "colab": {}
      },
      "source": [
        "# метод для преобразования из id тональности в его словесное значение (0 -> positive)\n",
        "def from_tone(prediction, tones):\n",
        "  answers = []\n",
        "\n",
        "  for i in range(prediction.shape[0]):\n",
        "    answers.append(tones[prediction[i]])\n",
        "\n",
        "  return answers"
      ],
      "execution_count": 0,
      "outputs": []
    },
    {
      "cell_type": "code",
      "metadata": {
        "id": "diz5l8u3lEJx",
        "colab_type": "code",
        "colab": {}
      },
      "source": [
        "test_samples = ['ненужный', 'отвратительный', 'прикольный', 'милый', 'жестокий', 'шедевр', 'никакой']"
      ],
      "execution_count": 0,
      "outputs": []
    },
    {
      "cell_type": "code",
      "metadata": {
        "id": "Ja-r80-UJ4Hg",
        "colab_type": "code",
        "outputId": "a345c306-4692-485f-b56d-e8eb1b626fd5",
        "colab": {
          "base_uri": "https://localhost:8080/",
          "height": 140
        }
      },
      "source": [
        "test_samples = [[add_part_of_speech(test)] for test in test_samples]\n",
        "test_samples"
      ],
      "execution_count": 701,
      "outputs": [
        {
          "output_type": "execute_result",
          "data": {
            "text/plain": [
              "[['ненужный_ADJF'],\n",
              " ['отвратительный_ADJF'],\n",
              " ['прикольный_ADJF'],\n",
              " ['милый_ADJF'],\n",
              " ['жестокий_ADJF'],\n",
              " ['шедевр_NOUN'],\n",
              " ['никакой_ADJF']]"
            ]
          },
          "metadata": {
            "tags": []
          },
          "execution_count": 701
        }
      ]
    },
    {
      "cell_type": "code",
      "metadata": {
        "id": "wZ3nGCk5lMQe",
        "colab_type": "code",
        "colab": {}
      },
      "source": [
        "test_samples_tokens = tokenizer.texts_to_sequences(test_samples)"
      ],
      "execution_count": 0,
      "outputs": []
    },
    {
      "cell_type": "code",
      "metadata": {
        "id": "0AQMioEmlSXB",
        "colab_type": "code",
        "colab": {}
      },
      "source": [
        "test_samples_pad = pad_sequences(test_samples_tokens, maxlen=maxlen)"
      ],
      "execution_count": 0,
      "outputs": []
    },
    {
      "cell_type": "code",
      "metadata": {
        "id": "jtt7wlPPlYzg",
        "colab_type": "code",
        "colab": {}
      },
      "source": [
        "predict = model.predict_classes(x=test_samples_pad)"
      ],
      "execution_count": 0,
      "outputs": []
    },
    {
      "cell_type": "code",
      "metadata": {
        "id": "TQXT5LG0Xlw_",
        "colab_type": "code",
        "colab": {
          "base_uri": "https://localhost:8080/",
          "height": 140
        },
        "outputId": "95946cba-afd2-468d-9150-2883646d2989"
      },
      "source": [
        "answers = from_tone(predict, df['tone'].unique().tolist()) \n",
        "answers"
      ],
      "execution_count": 705,
      "outputs": [
        {
          "output_type": "execute_result",
          "data": {
            "text/plain": [
              "['negative',\n",
              " 'negative',\n",
              " 'positive',\n",
              " 'positive',\n",
              " 'negative',\n",
              " 'positive',\n",
              " 'negative']"
            ]
          },
          "metadata": {
            "tags": []
          },
          "execution_count": 705
        }
      ]
    },
    {
      "cell_type": "markdown",
      "metadata": {
        "id": "-PZhh1shJzuf",
        "colab_type": "text"
      },
      "source": [
        "# Классификация неразмеченного словаря, полученного из отзывов"
      ]
    },
    {
      "cell_type": "code",
      "metadata": {
        "id": "frQtC1XEKGt4",
        "colab_type": "code",
        "colab": {}
      },
      "source": [
        "import json"
      ],
      "execution_count": 0,
      "outputs": []
    },
    {
      "cell_type": "code",
      "metadata": {
        "id": "iOErAKKLJ49U",
        "colab_type": "code",
        "colab": {}
      },
      "source": [
        "# загружаем неразмеченный словарь из json файла\n",
        "with open('drive/My Drive/coursework/unallocated_dictionary.json', 'r', encoding='utf-8') as f:\n",
        "    js = json.load(f)"
      ],
      "execution_count": 0,
      "outputs": []
    },
    {
      "cell_type": "code",
      "metadata": {
        "id": "BTuc39dvKQR1",
        "colab_type": "code",
        "colab": {
          "base_uri": "https://localhost:8080/",
          "height": 105
        },
        "outputId": "66734934-7d84-44dd-ea2c-ce109ae698a7"
      },
      "source": [
        "js[:5]"
      ],
      "execution_count": 707,
      "outputs": [
        {
          "output_type": "execute_result",
          "data": {
            "text/plain": [
              "[['телефон_NOUN', 13004],\n",
              " ['очень_ADVB', 7831],\n",
              " ['экран_NOUN', 6981],\n",
              " ['хороший_ADJF', 5305],\n",
              " ['камера_NOUN', 5178]]"
            ]
          },
          "metadata": {
            "tags": []
          },
          "execution_count": 707
        }
      ]
    },
    {
      "cell_type": "code",
      "metadata": {
        "id": "chuA1NDHKpL0",
        "colab_type": "code",
        "colab": {}
      },
      "source": [
        "unallocated_words = [[word[0]] for word in js]"
      ],
      "execution_count": 0,
      "outputs": []
    },
    {
      "cell_type": "code",
      "metadata": {
        "id": "Mjo5Om0CKpIL",
        "colab_type": "code",
        "colab": {
          "base_uri": "https://localhost:8080/",
          "height": 122
        },
        "outputId": "c683976a-da77-4440-b4ff-b4153766cb19"
      },
      "source": [
        "unallocated_words[:6]"
      ],
      "execution_count": 709,
      "outputs": [
        {
          "output_type": "execute_result",
          "data": {
            "text/plain": [
              "[['телефон_NOUN'],\n",
              " ['очень_ADVB'],\n",
              " ['экран_NOUN'],\n",
              " ['хороший_ADJF'],\n",
              " ['камера_NOUN'],\n",
              " ['весь_ADJF']]"
            ]
          },
          "metadata": {
            "tags": []
          },
          "execution_count": 709
        }
      ]
    },
    {
      "cell_type": "code",
      "metadata": {
        "id": "6XvFY6BiK7zo",
        "colab_type": "code",
        "colab": {}
      },
      "source": [
        "unallocated_words_tokens = tokenizer.texts_to_sequences(unallocated_words)"
      ],
      "execution_count": 0,
      "outputs": []
    },
    {
      "cell_type": "code",
      "metadata": {
        "id": "OxsKF1FtLBq-",
        "colab_type": "code",
        "colab": {}
      },
      "source": [
        "unallocated_words__pad = pad_sequences(unallocated_words_tokens, maxlen=maxlen)"
      ],
      "execution_count": 0,
      "outputs": []
    },
    {
      "cell_type": "code",
      "metadata": {
        "id": "WZgT790LLH4T",
        "colab_type": "code",
        "colab": {}
      },
      "source": [
        "predict = model.predict_classes(x=unallocated_words__pad)"
      ],
      "execution_count": 0,
      "outputs": []
    },
    {
      "cell_type": "code",
      "metadata": {
        "id": "GfDLtSdgLN8t",
        "colab_type": "code",
        "colab": {}
      },
      "source": [
        "answers = from_tone(predict, df['tone'].unique().tolist())"
      ],
      "execution_count": 0,
      "outputs": []
    },
    {
      "cell_type": "code",
      "metadata": {
        "id": "lpoXQMKAOPh4",
        "colab_type": "code",
        "colab": {}
      },
      "source": [
        "keys = [word[0] for word in js]"
      ],
      "execution_count": 0,
      "outputs": []
    },
    {
      "cell_type": "code",
      "metadata": {
        "id": "3AfU0piDMeDg",
        "colab_type": "code",
        "colab": {}
      },
      "source": [
        "dictionary = dict(zip(keys, answers))"
      ],
      "execution_count": 0,
      "outputs": []
    },
    {
      "cell_type": "code",
      "metadata": {
        "id": "PpAlCG0EPtMo",
        "colab_type": "code",
        "colab": {}
      },
      "source": [
        "import itertools"
      ],
      "execution_count": 0,
      "outputs": []
    },
    {
      "cell_type": "code",
      "metadata": {
        "id": "xox7-fG_OpyC",
        "colab_type": "code",
        "colab": {
          "base_uri": "https://localhost:8080/",
          "height": 281
        },
        "outputId": "3266fdf0-7700-458a-cc27-fadcdc6d63e1"
      },
      "source": [
        "dict(itertools.islice(dictionary.items(), 15))"
      ],
      "execution_count": 717,
      "outputs": [
        {
          "output_type": "execute_result",
          "data": {
            "text/plain": [
              "{'батарея_NOUN': 'negative',\n",
              " 'весь_ADJF': 'negative',\n",
              " 'год_NOUN': 'negative',\n",
              " 'день_NOUN': 'negative',\n",
              " 'камера_NOUN': 'negative',\n",
              " 'качество_NOUN': 'negative',\n",
              " 'один_ADJF': 'negative',\n",
              " 'отличный_ADJF': 'positive',\n",
              " 'очень_ADVB': 'negative',\n",
              " 'приложение_NOUN': 'negative',\n",
              " 'работать_INFN': 'negative',\n",
              " 'телефон_NOUN': 'negative',\n",
              " 'хороший_ADJF': 'positive',\n",
              " 'цена_NOUN': 'negative',\n",
              " 'экран_NOUN': 'negative'}"
            ]
          },
          "metadata": {
            "tags": []
          },
          "execution_count": 717
        }
      ]
    },
    {
      "cell_type": "code",
      "metadata": {
        "id": "tuWxwjiaP-0N",
        "colab_type": "code",
        "colab": {}
      },
      "source": [
        "# сохраняем размеченный словарь в json файл\n",
        "with open('drive/My Drive/coursework/tagged_dictionary.json', 'w', encoding='utf-8') as f:\n",
        "    json.dump(dictionary, f, ensure_ascii=False, indent=4)"
      ],
      "execution_count": 0,
      "outputs": []
    },
    {
      "cell_type": "code",
      "metadata": {
        "id": "d9Ubr3aHV34D",
        "colab_type": "code",
        "colab": {}
      },
      "source": [
        "# так же сохраняем словарь в csv файл\n",
        "import csv\n",
        "from itertools import zip_longest\n",
        "d = [keys, answers]\n",
        "export_data = zip_longest(*d, fillvalue = '')\n",
        "with open('drive/My Drive/coursework/tagged_dictionary.csv', 'w', encoding='utf-8', newline='') as f:\n",
        "      wr = csv.writer(f)\n",
        "      wr.writerow((\"term\", \"tone\"))\n",
        "      wr.writerows(export_data)\n",
        "f.close()"
      ],
      "execution_count": 0,
      "outputs": []
    },
    {
      "cell_type": "code",
      "metadata": {
        "id": "a-1APTnTWHHW",
        "colab_type": "code",
        "colab": {}
      },
      "source": [
        "tagged_dictionary = pd.read_csv('drive/My Drive/coursework/tagged_dictionary.csv')"
      ],
      "execution_count": 0,
      "outputs": []
    },
    {
      "cell_type": "code",
      "metadata": {
        "id": "njadqVcaWMNr",
        "colab_type": "code",
        "colab": {
          "base_uri": "https://localhost:8080/",
          "height": 491
        },
        "outputId": "ee64c812-c766-4b18-de4d-ed064d984f16"
      },
      "source": [
        "tagged_dictionary[:15]"
      ],
      "execution_count": 723,
      "outputs": [
        {
          "output_type": "execute_result",
          "data": {
            "text/html": [
              "<div>\n",
              "<style scoped>\n",
              "    .dataframe tbody tr th:only-of-type {\n",
              "        vertical-align: middle;\n",
              "    }\n",
              "\n",
              "    .dataframe tbody tr th {\n",
              "        vertical-align: top;\n",
              "    }\n",
              "\n",
              "    .dataframe thead th {\n",
              "        text-align: right;\n",
              "    }\n",
              "</style>\n",
              "<table border=\"1\" class=\"dataframe\">\n",
              "  <thead>\n",
              "    <tr style=\"text-align: right;\">\n",
              "      <th></th>\n",
              "      <th>term</th>\n",
              "      <th>tone</th>\n",
              "    </tr>\n",
              "  </thead>\n",
              "  <tbody>\n",
              "    <tr>\n",
              "      <th>0</th>\n",
              "      <td>телефон_NOUN</td>\n",
              "      <td>negative</td>\n",
              "    </tr>\n",
              "    <tr>\n",
              "      <th>1</th>\n",
              "      <td>очень_ADVB</td>\n",
              "      <td>negative</td>\n",
              "    </tr>\n",
              "    <tr>\n",
              "      <th>2</th>\n",
              "      <td>экран_NOUN</td>\n",
              "      <td>negative</td>\n",
              "    </tr>\n",
              "    <tr>\n",
              "      <th>3</th>\n",
              "      <td>хороший_ADJF</td>\n",
              "      <td>positive</td>\n",
              "    </tr>\n",
              "    <tr>\n",
              "      <th>4</th>\n",
              "      <td>камера_NOUN</td>\n",
              "      <td>negative</td>\n",
              "    </tr>\n",
              "    <tr>\n",
              "      <th>5</th>\n",
              "      <td>весь_ADJF</td>\n",
              "      <td>negative</td>\n",
              "    </tr>\n",
              "    <tr>\n",
              "      <th>6</th>\n",
              "      <td>работать_INFN</td>\n",
              "      <td>negative</td>\n",
              "    </tr>\n",
              "    <tr>\n",
              "      <th>7</th>\n",
              "      <td>день_NOUN</td>\n",
              "      <td>negative</td>\n",
              "    </tr>\n",
              "    <tr>\n",
              "      <th>8</th>\n",
              "      <td>батарея_NOUN</td>\n",
              "      <td>negative</td>\n",
              "    </tr>\n",
              "    <tr>\n",
              "      <th>9</th>\n",
              "      <td>приложение_NOUN</td>\n",
              "      <td>negative</td>\n",
              "    </tr>\n",
              "    <tr>\n",
              "      <th>10</th>\n",
              "      <td>качество_NOUN</td>\n",
              "      <td>negative</td>\n",
              "    </tr>\n",
              "    <tr>\n",
              "      <th>11</th>\n",
              "      <td>отличный_ADJF</td>\n",
              "      <td>positive</td>\n",
              "    </tr>\n",
              "    <tr>\n",
              "      <th>12</th>\n",
              "      <td>год_NOUN</td>\n",
              "      <td>negative</td>\n",
              "    </tr>\n",
              "    <tr>\n",
              "      <th>13</th>\n",
              "      <td>цена_NOUN</td>\n",
              "      <td>negative</td>\n",
              "    </tr>\n",
              "    <tr>\n",
              "      <th>14</th>\n",
              "      <td>один_ADJF</td>\n",
              "      <td>negative</td>\n",
              "    </tr>\n",
              "  </tbody>\n",
              "</table>\n",
              "</div>"
            ],
            "text/plain": [
              "               term      tone\n",
              "0      телефон_NOUN  negative\n",
              "1        очень_ADVB  negative\n",
              "2        экран_NOUN  negative\n",
              "3      хороший_ADJF  positive\n",
              "4       камера_NOUN  negative\n",
              "5         весь_ADJF  negative\n",
              "6     работать_INFN  negative\n",
              "7         день_NOUN  negative\n",
              "8      батарея_NOUN  negative\n",
              "9   приложение_NOUN  negative\n",
              "10    качество_NOUN  negative\n",
              "11    отличный_ADJF  positive\n",
              "12         год_NOUN  negative\n",
              "13        цена_NOUN  negative\n",
              "14        один_ADJF  negative"
            ]
          },
          "metadata": {
            "tags": []
          },
          "execution_count": 723
        }
      ]
    }
  ]
}